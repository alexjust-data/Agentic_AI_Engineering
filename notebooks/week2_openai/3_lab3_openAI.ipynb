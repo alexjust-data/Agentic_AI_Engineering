{
  "cells": [
    {
      "cell_type": "markdown",
      "metadata": {},
      "source": [
        "## Week 2 Day 3 - OpenAI Edition\n",
        "\n",
        "Now we get to more detail using different OpenAI models:\n",
        "\n",
        "1. Different OpenAI models (GPT-4o, GPT-4o-mini, GPT-3.5-turbo)\n",
        "\n",
        "2. Structured Outputs\n",
        "\n",
        "3. Guardrails"
      ]
    },
    {
      "cell_type": "code",
      "execution_count": 1,
      "metadata": {},
      "outputs": [],
      "source": [
        "from dotenv import load_dotenv\n",
        "from openai import AsyncOpenAI\n",
        "from agents import Agent, Runner, trace, function_tool, OpenAIChatCompletionsModel, input_guardrail, GuardrailFunctionOutput\n",
        "from typing import Dict\n",
        "import requests\n",
        "import os\n",
        "from pydantic import BaseModel"
      ]
    },
    {
      "cell_type": "code",
      "execution_count": 2,
      "metadata": {},
      "outputs": [
        {
          "data": {
            "text/plain": [
              "True"
            ]
          },
          "execution_count": 2,
          "metadata": {},
          "output_type": "execute_result"
        }
      ],
      "source": [
        "load_dotenv(override=True)"
      ]
    },
    {
      "cell_type": "code",
      "execution_count": 3,
      "metadata": {},
      "outputs": [
        {
          "name": "stdout",
          "output_type": "stream",
          "text": [
            "OpenAI API Key exists and begins sk-proj-\n",
            "Resend API Key exists and begins re\n",
            "\n",
            "✅ Using OpenAI models only for this comparison!\n"
          ]
        }
      ],
      "source": [
        "openai_api_key = os.getenv('OPENAI_API_KEY')\n",
        "resend_api_key = os.getenv('RESEND_API_KEY')\n",
        "\n",
        "if openai_api_key:\n",
        "    print(f\"OpenAI API Key exists and begins {openai_api_key[:8]}\")\n",
        "else:\n",
        "    print(\"OpenAI API Key not set\")\n",
        "\n",
        "if resend_api_key:\n",
        "    print(f\"Resend API Key exists and begins {resend_api_key[:2]}\")\n",
        "else:\n",
        "    print(\"Resend API Key not set\")\n",
        "\n",
        "print(\"\\n✅ Using OpenAI models only for this comparison!\")\n"
      ]
    },
    {
      "cell_type": "markdown",
      "metadata": {},
      "source": [
        "### Comparing Different OpenAI Models\n",
        "\n",
        "Instead of using different AI providers, we'll compare different OpenAI models:\n",
        "- **GPT-4o**: The most capable and latest model\n",
        "- **GPT-4o-mini**: Faster and more cost-effective\n",
        "- **GPT-3.5-turbo**: More basic but very fast\n",
        "\n",
        "Each model has different strengths and characteristics that will show in the email generation."
      ]
    },
    {
      "cell_type": "code",
      "execution_count": 4,
      "metadata": {},
      "outputs": [],
      "source": [
        "instructions1 = \"You are a sales agent working for ComplAI, \\\n",
        "a company that provides a SaaS tool for ensuring SOC2 compliance and preparing for audits, powered by AI. \\\n",
        "You write professional, serious cold emails.\"\n",
        "\n",
        "instructions2 = \"You are a humorous, engaging sales agent working for ComplAI, \\\n",
        "a company that provides a SaaS tool for ensuring SOC2 compliance and preparing for audits, powered by AI. \\\n",
        "You write witty, engaging cold emails that are likely to get a response.\"\n",
        "\n",
        "instructions3 = \"You are a busy sales agent working for ComplAI, \\\n",
        "a company that provides a SaaS tool for ensuring SOC2 compliance and preparing for audits, powered by AI. \\\n",
        "You write concise, to the point cold emails.\""
      ]
    },
    {
      "cell_type": "code",
      "execution_count": 5,
      "metadata": {},
      "outputs": [
        {
          "name": "stdout",
          "output_type": "stream",
          "text": [
            "OpenAI models configured:\n",
            "GPT-4o: Most capable, best reasoning\n",
            "GPT-4o-mini: Fast and efficient\n",
            "GPT-3.5-turbo: Quick and direct\n"
          ]
        }
      ],
      "source": [
        "# Create OpenAI clients for different models\n",
        "openai_client = AsyncOpenAI(api_key=openai_api_key)\n",
        "\n",
        "# Different OpenAI models with different capabilities\n",
        "gpt4o_model = OpenAIChatCompletionsModel(model=\"gpt-4o\", openai_client=openai_client)\n",
        "gpt4o_mini_model = OpenAIChatCompletionsModel(model=\"gpt-4o-mini\", openai_client=openai_client)\n",
        "gpt35_turbo_model = OpenAIChatCompletionsModel(model=\"gpt-3.5-turbo\", openai_client=openai_client)\n",
        "\n",
        "print(\"OpenAI models configured:\")\n",
        "print(\"GPT-4o: Most capable, best reasoning\")\n",
        "print(\"GPT-4o-mini: Fast and efficient\")\n",
        "print(\"GPT-3.5-turbo: Quick and direct\")\n"
      ]
    },
    {
      "cell_type": "code",
      "execution_count": 6,
      "metadata": {},
      "outputs": [
        {
          "name": "stdout",
          "output_type": "stream",
          "text": [
            "Created 3 sales agents with different OpenAI models:\n",
            "   1. GPT-4o Sales Agent - Professional style\n",
            "   2. GPT-4o-mini Sales Agent - Humorous style\n",
            "   3. GPT-3.5-turbo Sales Agent - Concise style\n"
          ]
        }
      ],
      "source": [
        "sales_agent1 = Agent(name=\"GPT-4o Sales Agent\", instructions=instructions1, model=gpt4o_model)\n",
        "sales_agent2 = Agent(name=\"GPT-4o-mini Sales Agent\", instructions=instructions2, model=gpt4o_mini_model)\n",
        "sales_agent3 = Agent(name=\"GPT-3.5-turbo Sales Agent\", instructions=instructions3, model=gpt35_turbo_model)\n",
        "\n",
        "print(\"Created 3 sales agents with different OpenAI models:\")\n",
        "print(f\"   1. {sales_agent1.name} - Professional style\")\n",
        "print(f\"   2. {sales_agent2.name} - Humorous style\")\n",
        "print(f\"   3. {sales_agent3.name} - Concise style\")\n"
      ]
    },
    {
      "cell_type": "code",
      "execution_count": 7,
      "metadata": {},
      "outputs": [
        {
          "name": "stdout",
          "output_type": "stream",
          "text": [
            "Created agent tools for each OpenAI model\n"
          ]
        }
      ],
      "source": [
        "description = \"Write a cold sales email\"\n",
        "\n",
        "tool1 = sales_agent1.as_tool(tool_name=\"sales_agent1\", tool_description=description)\n",
        "tool2 = sales_agent2.as_tool(tool_name=\"sales_agent2\", tool_description=description)\n",
        "tool3 = sales_agent3.as_tool(tool_name=\"sales_agent3\", tool_description=description)\n",
        "\n",
        "print(\"Created agent tools for each OpenAI model\")\n"
      ]
    },
    {
      "cell_type": "code",
      "execution_count": 8,
      "metadata": {},
      "outputs": [
        {
          "name": "stdout",
          "output_type": "stream",
          "text": [
            "📧 Email sending function configured with Resend\n"
          ]
        }
      ],
      "source": [
        "@function_tool\n",
        "def send_html_email(subject: str, html_body: str) -> Dict[str, str]:\n",
        "    \"\"\"\n",
        "    Send out an email with the given subject and HTML body \n",
        "    to all sales prospects using Resend\n",
        "    \"\"\"\n",
        "    \n",
        "    # Get email addresses from environment variables\n",
        "    from_email = os.getenv(\"FROM_EMAIL\", \"onboarding@resend.dev\")\n",
        "    to_email = os.getenv(\"TO_EMAIL\", \"alexjustdata@gmail.com\")\n",
        "    \n",
        "    # Get the Resend API key from environment variable\n",
        "    api_key = os.getenv(\"RESEND_API_KEY\")\n",
        "    \n",
        "    # Validate that RESEND_API_KEY is available\n",
        "    if not api_key:\n",
        "        return {\"status\": \"failure\", \n",
        "                \"message\": \"RESEND_API_KEY not found in environment variables\"}\n",
        "    \n",
        "    headers = {\n",
        "        \"Authorization\": f\"Bearer {api_key}\",\n",
        "        \"Content-Type\": \"application/json\"\n",
        "    }\n",
        "    \n",
        "    # Ensure proper HTML formatting if html_body is plain text\n",
        "    if not html_body.strip().startswith('<'):\n",
        "        # If it's plain text, convert line breaks to HTML\n",
        "        formatted_html = html_body.replace('\\n', '<br>')\n",
        "        formatted_html = f\"<div style='font-family: Arial, sans-serif; line-height: 1.6;'>{formatted_html}</div>\"\n",
        "    else:\n",
        "        # If it's already HTML, use as is\n",
        "        formatted_html = html_body\n",
        "    \n",
        "    payload = {\n",
        "        \"from\": f\"Alex <{from_email}>\",\n",
        "        \"to\": [to_email],\n",
        "        \"subject\": subject,\n",
        "        \"html\": formatted_html\n",
        "    }\n",
        "    \n",
        "    try:\n",
        "        response = requests.post(\n",
        "            \"https://api.resend.com/emails\", \n",
        "            json=payload, \n",
        "            headers=headers\n",
        "            )\n",
        "        \n",
        "        # Add debugging information\n",
        "        print(f\"Request payload: {payload}\")\n",
        "        print(f\"Response status: {response.status_code}\")\n",
        "        print(f\"Response body: {response.text}\")\n",
        "        \n",
        "        if response.status_code == 200 or response.status_code == 202:\n",
        "            return {\"status\": \"success\", \n",
        "                    \"message\": \"HTML email sent successfully\", \n",
        "                    \"response\": response.text}\n",
        "        else:\n",
        "            return {\"status\": \"failure\", \n",
        "                    \"message\": response.text, \n",
        "                    \"status_code\": response.status_code}\n",
        "            \n",
        "    except Exception as e:\n",
        "        return {\"status\": \"error\", \n",
        "                \"message\": f\"Exception occurred: {str(e)}\"}\n",
        "\n",
        "print(\"📧 Email sending function configured with Resend\")\n"
      ]
    },
    {
      "cell_type": "code",
      "execution_count": 9,
      "metadata": {},
      "outputs": [
        {
          "name": "stdout",
          "output_type": "stream",
          "text": [
            "🎨 Created subject writer and HTML converter agents (GPT-4o-mini)\n"
          ]
        }
      ],
      "source": [
        "subject_instructions = \"You can write a subject for a cold sales email. \\\n",
        "You are given a message and you need to write a subject for an email that is likely to get a response.\"\n",
        "\n",
        "html_instructions = \"You can convert a text email body to an HTML email body. \\\n",
        "You are given a text email body which might have some markdown \\\n",
        "and you need to convert it to an HTML email body with simple, clear, compelling layout and design.\"\n",
        "\n",
        "# Using GPT-4o-mini for utility agents (cost-effective)\n",
        "subject_writer = Agent(name=\"Email subject writer\", instructions=subject_instructions, model=\"gpt-4o-mini\")\n",
        "subject_tool = subject_writer.as_tool(tool_name=\"subject_writer\", tool_description=\"Write a subject for a cold sales email\")\n",
        "\n",
        "html_converter = Agent(name=\"HTML email body converter\", instructions=html_instructions, model=\"gpt-4o-mini\")\n",
        "html_tool = html_converter.as_tool(tool_name=\"html_converter\", tool_description=\"Convert a text email body to an HTML email body\")\n",
        "\n",
        "print(\"🎨 Created subject writer and HTML converter agents (GPT-4o-mini)\")\n"
      ]
    },
    {
      "cell_type": "code",
      "execution_count": 10,
      "metadata": {},
      "outputs": [],
      "source": [
        "email_tools = [subject_tool, \n",
        "               html_tool, \n",
        "               send_html_email]"
      ]
    },
    {
      "cell_type": "code",
      "execution_count": 11,
      "metadata": {},
      "outputs": [
        {
          "name": "stdout",
          "output_type": "stream",
          "text": [
            "📬 Email Manager agent created (GPT-4o-mini)\n"
          ]
        }
      ],
      "source": [
        "instructions =\"You are an email formatter and sender. You receive the body of an email to be sent. \\\n",
        "You first use the subject_writer tool to write a subject for the email, then use the html_converter tool to convert the body to HTML. \\\n",
        "Finally, you use the send_html_email tool to send the email with the subject and HTML body.\"\n",
        "\n",
        "emailer_agent = Agent(\n",
        "    name=\"Email Manager\",\n",
        "    instructions=instructions,\n",
        "    tools=email_tools,\n",
        "    model=\"gpt-4o-mini\",\n",
        "    handoff_description=\"Convert an email to HTML and send it\")\n",
        "\n",
        "print(\"📬 Email Manager agent created (GPT-4o-mini)\")\n"
      ]
    },
    {
      "cell_type": "code",
      "execution_count": 12,
      "metadata": {},
      "outputs": [],
      "source": [
        "tools = [tool1, tool2, tool3]\n",
        "handoffs = [emailer_agent]\n"
      ]
    },
    {
      "cell_type": "code",
      "execution_count": null,
      "metadata": {},
      "outputs": [
        {
          "name": "stdout",
          "output_type": "stream",
          "text": [
            "🎯 Sales Manager created with GPT-4o for best decision-making\n",
            "\n",
            "🚀 Running multi-model comparison with OpenAI models...\n"
          ]
        }
      ],
      "source": [
        "sales_manager_instructions = \"You are a sales manager working for ComplAI. You use the tools given to you to generate cold sales emails. \\\n",
        "You never generate sales emails yourself; you always use the tools. \\\n",
        "You try all 3 sales agent tools at least once before choosing the best one. \\\n",
        "You can use the tools multiple times if you're not satisfied with the results from the first try. \\\n",
        "You select the single best email using your own judgement of which email will be most effective. \\\n",
        "After picking the email, you handoff to the Email Manager agent to format and send the email.\"\n",
        "\n",
        "# Using GPT-4o for the sales manager (best reasoning for decision-making)\n",
        "sales_manager = Agent(\n",
        "    name=\"Sales Manager\",\n",
        "    instructions=sales_manager_instructions,\n",
        "    tools=tools,\n",
        "    handoffs=handoffs,\n",
        "    model=\"gpt-4o\")\n",
        "\n",
        "message = \"Send out a cold sales email addressed to Dear CEO from Alice\"\n",
        "\n",
        "print(\"🎯 Sales Manager created with GPT-4o for best decision-making\")\n",
        "print(\"\\n🚀 Running multi-model comparison with OpenAI models...\")\n",
        "\n",
        "with trace(\"OpenAI Multi-Model SDR\"):\n",
        "    result = await Runner.run(sales_manager, message)\n"
      ]
    },
    {
      "cell_type": "markdown",
      "metadata": {},
      "source": [
        "## Check out the trace:\n",
        "\n",
        "https://platform.openai.com/traces\n",
        "\n",
        "**Notice the differences between OpenAI models:**\n",
        "- **GPT-4o**: More sophisticated reasoning and detailed content\n",
        "- **GPT-4o-mini**: Balanced performance and efficiency  \n",
        "- **GPT-3.5-turbo**: Direct and concise approach\n",
        "\n",
        "Each model brings different strengths to the sales email generation process!"
      ]
    },
    {
      "cell_type": "code",
      "execution_count": 18,
      "metadata": {},
      "outputs": [
        {
          "name": "stdout",
          "output_type": "stream",
          "text": [
            "🛡️ Guardrail agent created with structured output (GPT-4o-mini)\n"
          ]
        }
      ],
      "source": [
        "class NameCheckOutput(BaseModel):\n",
        "    is_name_in_message: bool\n",
        "    name: str\n",
        "\n",
        "# Using GPT-4o-mini for guardrail (cost-effective for validation tasks)\n",
        "guardrail_agent = Agent( \n",
        "    name=\"Name check\",\n",
        "    instructions=\"Check if the user is including someone's personal name in what they want you to do.\",\n",
        "    output_type=NameCheckOutput,\n",
        "    model=\"gpt-4o-mini\"\n",
        ")\n",
        "\n",
        "print(\"🛡️ Guardrail agent created with structured output (GPT-4o-mini)\")\n"
      ]
    },
    {
      "cell_type": "code",
      "execution_count": 19,
      "metadata": {},
      "outputs": [
        {
          "name": "stdout",
          "output_type": "stream",
          "text": [
            "Name detection guardrail function created\n"
          ]
        }
      ],
      "source": [
        "@input_guardrail\n",
        "async def guardrail_against_name(ctx, agent, message):\n",
        "    result = await Runner.run(guardrail_agent, message, context=ctx.context)\n",
        "    is_name_in_message = result.final_output.is_name_in_message\n",
        "    return GuardrailFunctionOutput(\n",
        "        output_info={\"found_name\": result.final_output},\n",
        "        tripwire_triggered=is_name_in_message\n",
        "    )\n",
        "\n",
        "print(\"Name detection guardrail function created\")\n"
      ]
    },
    {
      "cell_type": "code",
      "execution_count": 24,
      "metadata": {},
      "outputs": [
        {
          "name": "stdout",
          "output_type": "stream",
          "text": [
            "🛡️ Protected Sales Manager created with guardrails\n",
            "⚠️  Testing with message containing a name (Alice)...\n",
            "GUARDRAIL TRIGGERED!\n",
            "The name detection guardrail is working correctly!\n",
            "🛡️ Blocked execution because the message contains a personal name\n",
            "📝 Message was: 'Send out a cold sales email addressed to Dear CEO from Alice'\n",
            "This is the expected behavior for security protection\n"
          ]
        }
      ],
      "source": [
        "careful_sales_manager = Agent(\n",
        "    name=\"Protected Sales Manager\",\n",
        "    instructions=sales_manager_instructions,\n",
        "    tools=tools,\n",
        "    handoffs=[emailer_agent],\n",
        "    model=\"gpt-4o\",  # Best model for protected operations\n",
        "    input_guardrails=[guardrail_against_name]\n",
        ")\n",
        "\n",
        "message = \"Send out a cold sales email addressed to Dear CEO from Alice\"\n",
        "\n",
        "print(\"🛡️ Protected Sales Manager created with guardrails\")\n",
        "print(\"⚠️  Testing with message containing a name (Alice)...\")\n",
        "\n",
        "# Demonstrate guardrail protection by catching the expected exception\n",
        "try:\n",
        "    with trace(\"Protected OpenAI Multi-Model SDR - Name Detection\"):\n",
        "        result = await Runner.run(careful_sales_manager, message)\n",
        "    print(\"✅ Email sent successfully\")\n",
        "    \n",
        "except Exception as e:\n",
        "    if \"InputGuardrailTripwireTriggered\" in str(type(e)):\n",
        "        print(\"GUARDRAIL TRIGGERED!\")\n",
        "        print(\"The name detection guardrail is working correctly!\")\n",
        "        print(f\"🛡️ Blocked execution because the message contains a personal name\")\n",
        "        print(f\"📝 Message was: '{message}'\")\n",
        "        print(\"This is the expected behavior for security protection\")\n",
        "    else:\n",
        "        print(f\"❌ Unexpected error: {e}\")\n",
        "        raise e\n"
      ]
    },
    {
      "cell_type": "markdown",
      "metadata": {},
      "source": [
        "## 🛡️ Guardrail Successfully Activated!\n",
        "\n",
        "https://platform.openai.com/traces\n",
        "\n",
        "**The guardrail detected the name \"Alice\" and correctly blocked the request!**\n",
        "\n",
        "### **What just happened:**\n",
        "1. ✅ **Name Detection**: The guardrail agent identified \"Alice\" as a personal name\n",
        "2. 🚨 **Tripwire Triggered**: Security protection activated automatically  \n",
        "3. 🛡️ **Request Blocked**: Prevented potential privacy/security issues\n",
        "4. 📊 **Trace Generated**: You can see the guardrail logic in the OpenAI traces\n",
        "\n",
        "This demonstrates how **input guardrails** provide robust protection by validating requests before execution."
      ]
    },
    {
      "cell_type": "code",
      "execution_count": 25,
      "metadata": {},
      "outputs": [
        {
          "name": "stdout",
          "output_type": "stream",
          "text": [
            "✅ Testing with message without personal names...\n",
            "📝 Message: 'Send out a cold sales email addressed to Dear CEO from Head of Business Development'\n",
            "🎉 SUCCESS! Email workflow completed\n",
            "✅ No guardrail triggered - message passed security validation\n",
            "📧 Email was generated and sent successfully\n"
          ]
        }
      ],
      "source": [
        "message = \"Send out a cold sales email addressed to Dear CEO from Head of Business Development\"\n",
        "\n",
        "print(\"✅ Testing with message without personal names...\")\n",
        "print(f\"📝 Message: '{message}'\")\n",
        "\n",
        "try:\n",
        "    with trace(\"Protected OpenAI Multi-Model SDR - No Names\"):\n",
        "        result = await Runner.run(careful_sales_manager, message)\n",
        "    print(\"🎉 SUCCESS! Email workflow completed\")\n",
        "    print(\"✅ No guardrail triggered - message passed security validation\")\n",
        "    print(\"📧 Email was generated and sent successfully\")\n",
        "    \n",
        "except Exception as e:\n",
        "    if \"InputGuardrailTripwireTriggered\" in str(type(e)):\n",
        "        print(\"🚨 Unexpected: Guardrail triggered on safe message\")\n",
        "        print(\"🔍 Check if there are any names in the message\")\n",
        "    else:\n",
        "        print(f\"❌ Error: {e}\")\n",
        "        raise e\n"
      ]
    },
    {
      "cell_type": "raw",
      "metadata": {
        "vscode": {
          "languageId": "raw"
        }
      },
      "source": [
        "## 🎯 Guardrail Behavior Summary\n",
        "\n",
        "### **Test 1: Message with Personal Name**\n",
        "- **Input**: `\"Send out a cold sales email addressed to Dear CEO from Alice\"`\n",
        "- **Result**: 🚨 **BLOCKED** by guardrail\n",
        "- **Why**: Contains personal name \"Alice\"\n",
        "- **Exception**: `InputGuardrailTripwireTriggered`\n",
        "\n",
        "### **Test 2: Message without Personal Names**  \n",
        "- **Input**: `\"Send out a cold sales email addressed to Dear CEO from Head of Business Development\"`\n",
        "- **Result**: ✅ **ALLOWED** - proceeds normally\n",
        "- **Why**: No personal names detected\n",
        "- **Outcome**: Email generated and sent successfully\n",
        "\n",
        "### **Key Learning:**\n",
        "**Guardrails provide automated security validation before agent execution!**\n",
        "\n",
        "This demonstrates how you can build **robust AI systems** that automatically prevent potential security or privacy issues.\n"
      ]
    },
    {
      "cell_type": "markdown",
      "metadata": {},
      "source": [
        "## OpenAI Model Comparison Summary\n",
        "\n",
        "### **Model Characteristics:**\n",
        "\n",
        "**GPT-4o (Professional Agent)**\n",
        "- **Strengths**: Most sophisticated reasoning, detailed analysis\n",
        "- **Best for**: Complex decision-making, nuanced content\n",
        "- **Email style**: Professional, well-structured, comprehensive\n",
        "\n",
        "**GPT-4o-mini (Humorous Agent)**  \n",
        "- **Strengths**: Balanced performance, cost-effective\n",
        "- **Best for**: Most business applications, good creativity\n",
        "- **Email style**: Engaging, creative, balanced\n",
        "\n",
        "**GPT-3.5-turbo (Concise Agent)**\n",
        "- **Strengths**: Fast response, direct approach\n",
        "- **Best for**: Simple tasks, quick turnaround\n",
        "- **Email style**: Concise, direct, to-the-point\n",
        "\n",
        "### **Key Learnings:**\n",
        "1. **Different OpenAI models excel at different tasks**\n",
        "2. **Model selection impacts output quality and style**\n",
        "3. **Guardrails work consistently across all models**\n",
        "4. **Structured outputs ensure reliable data extraction**\n",
        "\n",
        "**This demonstrates how you can optimize your AI applications by choosing the right OpenAI model for each specific task!**\n"
      ]
    },
    {
      "cell_type": "markdown",
      "metadata": {},
      "source": [
        "<table style=\"margin: 0; text-align: left; width:100%\">\n",
        "    <tr>\n",
        "            <h2 style=\"color:brown\">Exercise</h2>\n",
        "            <span style=\"color:brown\">• Try different OpenAI model configurations (temperature, max_tokens)<br/>• Add more input and output guardrails<br/>• Use structured outputs for the email generation<br/>• Compare response times and costs between models\n",
        "            </span>\n",
        "    </tr>\n",
        "</table>"
      ]
    }
  ],
  "metadata": {
    "kernelspec": {
      "display_name": "agents_env",
      "language": "python",
      "name": "python3"
    },
    "language_info": {
      "codemirror_mode": {
        "name": "ipython",
        "version": 3
      },
      "file_extension": ".py",
      "mimetype": "text/x-python",
      "name": "python",
      "nbconvert_exporter": "python",
      "pygments_lexer": "ipython3",
      "version": "3.12.11"
    }
  },
  "nbformat": 4,
  "nbformat_minor": 2
}
