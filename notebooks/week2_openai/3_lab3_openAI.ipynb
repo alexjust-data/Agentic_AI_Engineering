{
  "cells": [
    {
      "cell_type": "markdown",
      "metadata": {},
      "source": [
        "## Week 2 Day 3 - OpenAI Edition\n",
        "\n",
        "Now we get to more detail using different OpenAI models:\n",
        "\n",
        "1. Different OpenAI models (GPT-4o, GPT-4o-mini, GPT-3.5-turbo)\n",
        "\n",
        "2. Structured Outputs\n",
        "\n",
        "3. Guardrails"
      ]
    },
    {
      "cell_type": "code",
      "execution_count": 2,
      "metadata": {},
      "outputs": [],
      "source": [
        "from dotenv import load_dotenv\n",
        "from openai import AsyncOpenAI\n",
        "from agents import Agent, Runner, trace, function_tool, OpenAIChatCompletionsModel, input_guardrail, GuardrailFunctionOutput\n",
        "from typing import Dict\n",
        "import requests\n",
        "import os\n",
        "from pydantic import BaseModel\n"
      ]
    },
    {
      "cell_type": "code",
      "execution_count": 3,
      "metadata": {},
      "outputs": [
        {
          "data": {
            "text/plain": [
              "True"
            ]
          },
          "execution_count": 3,
          "metadata": {},
          "output_type": "execute_result"
        }
      ],
      "source": [
        "load_dotenv(override=True)\n"
      ]
    },
    {
      "cell_type": "code",
      "execution_count": 4,
      "metadata": {},
      "outputs": [
        {
          "name": "stdout",
          "output_type": "stream",
          "text": [
            "OpenAI API Key exists and begins sk-proj-\n",
            "Resend API Key exists and begins re\n",
            "\n",
            "✅ Using OpenAI models only for this comparison!\n"
          ]
        }
      ],
      "source": [
        "openai_api_key = os.getenv('OPENAI_API_KEY')\n",
        "resend_api_key = os.getenv('RESEND_API_KEY')\n",
        "\n",
        "if openai_api_key:\n",
        "    print(f\"OpenAI API Key exists and begins {openai_api_key[:8]}\")\n",
        "else:\n",
        "    print(\"OpenAI API Key not set\")\n",
        "\n",
        "if resend_api_key:\n",
        "    print(f\"Resend API Key exists and begins {resend_api_key[:2]}\")\n",
        "else:\n",
        "    print(\"Resend API Key not set\")\n",
        "\n",
        "print(\"\\n✅ Using OpenAI models only for this comparison!\")\n"
      ]
    },
    {
      "cell_type": "markdown",
      "metadata": {},
      "source": [
        "### Comparing Different OpenAI Models\n",
        "\n",
        "Instead of using different AI providers, we'll compare different OpenAI models:\n",
        "- **GPT-4o**: The most capable and latest model\n",
        "- **GPT-4o-mini**: Faster and more cost-effective\n",
        "- **GPT-3.5-turbo**: More basic but very fast\n",
        "\n",
        "Each model has different strengths and characteristics that will show in the email generation."
      ]
    },
    {
      "cell_type": "code",
      "execution_count": 5,
      "metadata": {},
      "outputs": [],
      "source": [
        "instructions1 = \"You are a sales agent working for ComplAI, \\\n",
        "a company that provides a SaaS tool for ensuring SOC2 compliance and preparing for audits, powered by AI. \\\n",
        "You write professional, serious cold emails.\"\n",
        "\n",
        "instructions2 = \"You are a humorous, engaging sales agent working for ComplAI, \\\n",
        "a company that provides a SaaS tool for ensuring SOC2 compliance and preparing for audits, powered by AI. \\\n",
        "You write witty, engaging cold emails that are likely to get a response.\"\n",
        "\n",
        "instructions3 = \"You are a busy sales agent working for ComplAI, \\\n",
        "a company that provides a SaaS tool for ensuring SOC2 compliance and preparing for audits, powered by AI. \\\n",
        "You write concise, to the point cold emails.\"\n"
      ]
    },
    {
      "cell_type": "code",
      "execution_count": 7,
      "metadata": {},
      "outputs": [
        {
          "name": "stdout",
          "output_type": "stream",
          "text": [
            "OpenAI models configured:\n",
            "GPT-4o: Most capable, best reasoning\n",
            "GPT-4o-mini: Fast and efficient\n",
            "GPT-3.5-turbo: Quick and direct\n"
          ]
        }
      ],
      "source": [
        "# Create OpenAI clients for different models\n",
        "openai_client = AsyncOpenAI(api_key=openai_api_key)\n",
        "\n",
        "# Different OpenAI models with different capabilities\n",
        "gpt4o_model = OpenAIChatCompletionsModel(model=\"gpt-4o\", openai_client=openai_client)\n",
        "gpt4o_mini_model = OpenAIChatCompletionsModel(model=\"gpt-4o-mini\", openai_client=openai_client)\n",
        "gpt35_turbo_model = OpenAIChatCompletionsModel(model=\"gpt-3.5-turbo\", openai_client=openai_client)\n",
        "\n",
        "print(\"OpenAI models configured:\")\n",
        "print(\"GPT-4o: Most capable, best reasoning\")\n",
        "print(\"GPT-4o-mini: Fast and efficient\")\n",
        "print(\"GPT-3.5-turbo: Quick and direct\")\n"
      ]
    },
    {
      "cell_type": "code",
      "execution_count": 9,
      "metadata": {},
      "outputs": [
        {
          "name": "stdout",
          "output_type": "stream",
          "text": [
            "Created 3 sales agents with different OpenAI models:\n",
            "   1. GPT-4o Sales Agent - Professional style\n",
            "   2. GPT-4o-mini Sales Agent - Humorous style\n",
            "   3. GPT-3.5-turbo Sales Agent - Concise style\n"
          ]
        }
      ],
      "source": [
        "sales_agent1 = Agent(name=\"GPT-4o Sales Agent\", instructions=instructions1, model=gpt4o_model)\n",
        "sales_agent2 = Agent(name=\"GPT-4o-mini Sales Agent\", instructions=instructions2, model=gpt4o_mini_model)\n",
        "sales_agent3 = Agent(name=\"GPT-3.5-turbo Sales Agent\", instructions=instructions3, model=gpt35_turbo_model)\n",
        "\n",
        "print(\"Created 3 sales agents with different OpenAI models:\")\n",
        "print(f\"   1. {sales_agent1.name} - Professional style\")\n",
        "print(f\"   2. {sales_agent2.name} - Humorous style\")\n",
        "print(f\"   3. {sales_agent3.name} - Concise style\")\n"
      ]
    },
    {
      "cell_type": "code",
      "execution_count": 10,
      "metadata": {},
      "outputs": [
        {
          "name": "stdout",
          "output_type": "stream",
          "text": [
            "Created agent tools for each OpenAI model\n"
          ]
        }
      ],
      "source": [
        "description = \"Write a cold sales email\"\n",
        "\n",
        "tool1 = sales_agent1.as_tool(tool_name=\"sales_agent1\", tool_description=description)\n",
        "tool2 = sales_agent2.as_tool(tool_name=\"sales_agent2\", tool_description=description)\n",
        "tool3 = sales_agent3.as_tool(tool_name=\"sales_agent3\", tool_description=description)\n",
        "\n",
        "print(\"Created agent tools for each OpenAI model\")\n"
      ]
    },
    {
      "cell_type": "code",
      "execution_count": 11,
      "metadata": {},
      "outputs": [
        {
          "name": "stdout",
          "output_type": "stream",
          "text": [
            "📧 Email sending function configured with Resend\n"
          ]
        }
      ],
      "source": [
        "@function_tool\n",
        "def send_html_email(subject: str, html_body: str) -> Dict[str, str]:\n",
        "    \"\"\"\n",
        "    Send out an email with the given subject and HTML body \n",
        "    to all sales prospects using Resend\n",
        "    \"\"\"\n",
        "    \n",
        "    # Get email addresses from environment variables\n",
        "    from_email = os.getenv(\"FROM_EMAIL\", \"onboarding@resend.dev\")\n",
        "    to_email = os.getenv(\"TO_EMAIL\", \"alexjustdata@gmail.com\")\n",
        "    \n",
        "    # Get the Resend API key from environment variable\n",
        "    api_key = os.getenv(\"RESEND_API_KEY\")\n",
        "    \n",
        "    # Validate that RESEND_API_KEY is available\n",
        "    if not api_key:\n",
        "        return {\"status\": \"failure\", \n",
        "                \"message\": \"RESEND_API_KEY not found in environment variables\"}\n",
        "    \n",
        "    headers = {\n",
        "        \"Authorization\": f\"Bearer {api_key}\",\n",
        "        \"Content-Type\": \"application/json\"\n",
        "    }\n",
        "    \n",
        "    # Ensure proper HTML formatting if html_body is plain text\n",
        "    if not html_body.strip().startswith('<'):\n",
        "        # If it's plain text, convert line breaks to HTML\n",
        "        formatted_html = html_body.replace('\\n', '<br>')\n",
        "        formatted_html = f\"<div style='font-family: Arial, sans-serif; line-height: 1.6;'>{formatted_html}</div>\"\n",
        "    else:\n",
        "        # If it's already HTML, use as is\n",
        "        formatted_html = html_body\n",
        "    \n",
        "    payload = {\n",
        "        \"from\": f\"Alex <{from_email}>\",\n",
        "        \"to\": [to_email],\n",
        "        \"subject\": subject,\n",
        "        \"html\": formatted_html\n",
        "    }\n",
        "    \n",
        "    try:\n",
        "        response = requests.post(\n",
        "            \"https://api.resend.com/emails\", \n",
        "            json=payload, \n",
        "            headers=headers\n",
        "            )\n",
        "        \n",
        "        # Add debugging information\n",
        "        print(f\"Request payload: {payload}\")\n",
        "        print(f\"Response status: {response.status_code}\")\n",
        "        print(f\"Response body: {response.text}\")\n",
        "        \n",
        "        if response.status_code == 200 or response.status_code == 202:\n",
        "            return {\"status\": \"success\", \n",
        "                    \"message\": \"HTML email sent successfully\", \n",
        "                    \"response\": response.text}\n",
        "        else:\n",
        "            return {\"status\": \"failure\", \n",
        "                    \"message\": response.text, \n",
        "                    \"status_code\": response.status_code}\n",
        "            \n",
        "    except Exception as e:\n",
        "        return {\"status\": \"error\", \n",
        "                \"message\": f\"Exception occurred: {str(e)}\"}\n",
        "\n",
        "print(\"📧 Email sending function configured with Resend\")\n"
      ]
    },
    {
      "cell_type": "code",
      "execution_count": 12,
      "metadata": {},
      "outputs": [
        {
          "name": "stdout",
          "output_type": "stream",
          "text": [
            "🎨 Created subject writer and HTML converter agents (GPT-4o-mini)\n"
          ]
        }
      ],
      "source": [
        "subject_instructions = \"You can write a subject for a cold sales email. \\\n",
        "You are given a message and you need to write a subject for an email that is likely to get a response.\"\n",
        "\n",
        "html_instructions = \"You can convert a text email body to an HTML email body. \\\n",
        "You are given a text email body which might have some markdown \\\n",
        "and you need to convert it to an HTML email body with simple, clear, compelling layout and design.\"\n",
        "\n",
        "# Using GPT-4o-mini for utility agents (cost-effective)\n",
        "subject_writer = Agent(name=\"Email subject writer\", instructions=subject_instructions, model=\"gpt-4o-mini\")\n",
        "subject_tool = subject_writer.as_tool(tool_name=\"subject_writer\", tool_description=\"Write a subject for a cold sales email\")\n",
        "\n",
        "html_converter = Agent(name=\"HTML email body converter\", instructions=html_instructions, model=\"gpt-4o-mini\")\n",
        "html_tool = html_converter.as_tool(tool_name=\"html_converter\", tool_description=\"Convert a text email body to an HTML email body\")\n",
        "\n",
        "print(\"🎨 Created subject writer and HTML converter agents (GPT-4o-mini)\")\n"
      ]
    },
    {
      "cell_type": "code",
      "execution_count": 14,
      "metadata": {},
      "outputs": [],
      "source": [
        "email_tools = [subject_tool, \n",
        "               html_tool, \n",
        "               send_html_email]"
      ]
    },
    {
      "cell_type": "code",
      "execution_count": 15,
      "metadata": {},
      "outputs": [
        {
          "name": "stdout",
          "output_type": "stream",
          "text": [
            "📬 Email Manager agent created (GPT-4o-mini)\n"
          ]
        }
      ],
      "source": [
        "instructions =\"You are an email formatter and sender. You receive the body of an email to be sent. \\\n",
        "You first use the subject_writer tool to write a subject for the email, then use the html_converter tool to convert the body to HTML. \\\n",
        "Finally, you use the send_html_email tool to send the email with the subject and HTML body.\"\n",
        "\n",
        "emailer_agent = Agent(\n",
        "    name=\"Email Manager\",\n",
        "    instructions=instructions,\n",
        "    tools=email_tools,\n",
        "    model=\"gpt-4o-mini\",\n",
        "    handoff_description=\"Convert an email to HTML and send it\")\n",
        "\n",
        "print(\"📬 Email Manager agent created (GPT-4o-mini)\")\n"
      ]
    },
    {
      "cell_type": "code",
      "execution_count": 16,
      "metadata": {},
      "outputs": [],
      "source": [
        "tools = [tool1, tool2, tool3]\n",
        "handoffs = [emailer_agent]\n"
      ]
    },
    {
      "cell_type": "code",
      "execution_count": 17,
      "metadata": {},
      "outputs": [
        {
          "name": "stdout",
          "output_type": "stream",
          "text": [
            "🎯 Sales Manager created with GPT-4o for best decision-making\n",
            "\n",
            "🚀 Running multi-model comparison with OpenAI models...\n"
          ]
        }
      ],
      "source": [
        "sales_manager_instructions = \"You are a sales manager working for ComplAI. You use the tools given to you to generate cold sales emails. \\\n",
        "You never generate sales emails yourself; you always use the tools. \\\n",
        "You try all 3 sales agent tools at least once before choosing the best one. \\\n",
        "You can use the tools multiple times if you're not satisfied with the results from the first try. \\\n",
        "You select the single best email using your own judgement of which email will be most effective. \\\n",
        "After picking the email, you handoff to the Email Manager agent to format and send the email.\"\n",
        "\n",
        "# Using GPT-4o for the sales manager (best reasoning for decision-making)\n",
        "sales_manager = Agent(\n",
        "    name=\"Sales Manager\",\n",
        "    instructions=sales_manager_instructions,\n",
        "    tools=tools,\n",
        "    handoffs=handoffs,\n",
        "    model=\"gpt-4o\")\n",
        "\n",
        "message = \"Send out a cold sales email addressed to Dear CEO from Alice\"\n",
        "\n",
        "print(\"🎯 Sales Manager created with GPT-4o for best decision-making\")\n",
        "print(\"\\n🚀 Running multi-model comparison with OpenAI models...\")\n",
        "\n",
        "with trace(\"OpenAI Multi-Model SDR\"):\n",
        "    result = await Runner.run(sales_manager, message)\n"
      ]
    },
    {
      "cell_type": "markdown",
      "metadata": {},
      "source": [
        "## Check out the trace:\n",
        "\n",
        "https://platform.openai.com/traces\n",
        "\n",
        "**Notice the differences between OpenAI models:**\n",
        "- **GPT-4o**: More sophisticated reasoning and detailed content\n",
        "- **GPT-4o-mini**: Balanced performance and efficiency  \n",
        "- **GPT-3.5-turbo**: Direct and concise approach\n",
        "\n",
        "Each model brings different strengths to the sales email generation process!"
      ]
    },
    {
      "cell_type": "code",
      "execution_count": 18,
      "metadata": {},
      "outputs": [
        {
          "name": "stdout",
          "output_type": "stream",
          "text": [
            "🛡️ Guardrail agent created with structured output (GPT-4o-mini)\n"
          ]
        }
      ],
      "source": [
        "class NameCheckOutput(BaseModel):\n",
        "    is_name_in_message: bool\n",
        "    name: str\n",
        "\n",
        "# Using GPT-4o-mini for guardrail (cost-effective for validation tasks)\n",
        "guardrail_agent = Agent( \n",
        "    name=\"Name check\",\n",
        "    instructions=\"Check if the user is including someone's personal name in what they want you to do.\",\n",
        "    output_type=NameCheckOutput,\n",
        "    model=\"gpt-4o-mini\"\n",
        ")\n",
        "\n",
        "print(\"🛡️ Guardrail agent created with structured output (GPT-4o-mini)\")\n"
      ]
    },
    {
      "cell_type": "code",
      "execution_count": 19,
      "metadata": {},
      "outputs": [
        {
          "name": "stdout",
          "output_type": "stream",
          "text": [
            "Name detection guardrail function created\n"
          ]
        }
      ],
      "source": [
        "@input_guardrail\n",
        "async def guardrail_against_name(ctx, agent, message):\n",
        "    result = await Runner.run(guardrail_agent, message, context=ctx.context)\n",
        "    is_name_in_message = result.final_output.is_name_in_message\n",
        "    return GuardrailFunctionOutput(\n",
        "        output_info={\"found_name\": result.final_output},\n",
        "        tripwire_triggered=is_name_in_message\n",
        "    )\n",
        "\n",
        "print(\"Name detection guardrail function created\")\n"
      ]
    },
    {
      "cell_type": "code",
      "execution_count": 20,
      "metadata": {},
      "outputs": [
        {
          "name": "stdout",
          "output_type": "stream",
          "text": [
            "🛡️ Protected Sales Manager created with guardrails\n",
            "⚠️  Testing with message containing a name (Alice)...\n"
          ]
        },
        {
          "ename": "InputGuardrailTripwireTriggered",
          "evalue": "Guardrail InputGuardrail triggered tripwire",
          "output_type": "error",
          "traceback": [
            "\u001b[31m---------------------------------------------------------------------------\u001b[39m",
            "\u001b[31mInputGuardrailTripwireTriggered\u001b[39m           Traceback (most recent call last)",
            "\u001b[36mCell\u001b[39m\u001b[36m \u001b[39m\u001b[32mIn[20]\u001b[39m\u001b[32m, line 16\u001b[39m\n\u001b[32m     13\u001b[39m \u001b[38;5;28mprint\u001b[39m(\u001b[33m\"\u001b[39m\u001b[33m⚠️  Testing with message containing a name (Alice)...\u001b[39m\u001b[33m\"\u001b[39m)\n\u001b[32m     15\u001b[39m \u001b[38;5;28;01mwith\u001b[39;00m trace(\u001b[33m\"\u001b[39m\u001b[33mProtected OpenAI Multi-Model SDR\u001b[39m\u001b[33m\"\u001b[39m):\n\u001b[32m---> \u001b[39m\u001b[32m16\u001b[39m     result = \u001b[38;5;28;01mawait\u001b[39;00m Runner.run(careful_sales_manager, message)\n",
            "\u001b[36mFile \u001b[39m\u001b[32m~/Desktop/00_projects/AI_agents/my_agents/agents_env/lib/python3.12/site-packages/agents/run.py:199\u001b[39m, in \u001b[36mRunner.run\u001b[39m\u001b[34m(cls, starting_agent, input, context, max_turns, hooks, run_config, previous_response_id)\u001b[39m\n\u001b[32m    172\u001b[39m \u001b[38;5;250m\u001b[39m\u001b[33;03m\"\"\"Run a workflow starting at the given agent. The agent will run in a loop until a final\u001b[39;00m\n\u001b[32m    173\u001b[39m \u001b[33;03moutput is generated. The loop runs like so:\u001b[39;00m\n\u001b[32m    174\u001b[39m \u001b[33;03m1. The agent is invoked with the given input.\u001b[39;00m\n\u001b[32m   (...)\u001b[39m\u001b[32m    196\u001b[39m \u001b[33;03m    agent. Agents may perform handoffs, so we don't know the specific type of the output.\u001b[39;00m\n\u001b[32m    197\u001b[39m \u001b[33;03m\"\"\"\u001b[39;00m\n\u001b[32m    198\u001b[39m runner = DEFAULT_AGENT_RUNNER\n\u001b[32m--> \u001b[39m\u001b[32m199\u001b[39m \u001b[38;5;28;01mreturn\u001b[39;00m \u001b[38;5;28;01mawait\u001b[39;00m runner.run(\n\u001b[32m    200\u001b[39m     starting_agent,\n\u001b[32m    201\u001b[39m     \u001b[38;5;28minput\u001b[39m,\n\u001b[32m    202\u001b[39m     context=context,\n\u001b[32m    203\u001b[39m     max_turns=max_turns,\n\u001b[32m    204\u001b[39m     hooks=hooks,\n\u001b[32m    205\u001b[39m     run_config=run_config,\n\u001b[32m    206\u001b[39m     previous_response_id=previous_response_id,\n\u001b[32m    207\u001b[39m )\n",
            "\u001b[36mFile \u001b[39m\u001b[32m~/Desktop/00_projects/AI_agents/my_agents/agents_env/lib/python3.12/site-packages/agents/run.py:395\u001b[39m, in \u001b[36mAgentRunner.run\u001b[39m\u001b[34m(self, starting_agent, input, **kwargs)\u001b[39m\n\u001b[32m    390\u001b[39m logger.debug(\n\u001b[32m    391\u001b[39m     \u001b[33mf\u001b[39m\u001b[33m\"\u001b[39m\u001b[33mRunning agent \u001b[39m\u001b[38;5;132;01m{\u001b[39;00mcurrent_agent.name\u001b[38;5;132;01m}\u001b[39;00m\u001b[33m (turn \u001b[39m\u001b[38;5;132;01m{\u001b[39;00mcurrent_turn\u001b[38;5;132;01m}\u001b[39;00m\u001b[33m)\u001b[39m\u001b[33m\"\u001b[39m,\n\u001b[32m    392\u001b[39m )\n\u001b[32m    394\u001b[39m \u001b[38;5;28;01mif\u001b[39;00m current_turn == \u001b[32m1\u001b[39m:\n\u001b[32m--> \u001b[39m\u001b[32m395\u001b[39m     input_guardrail_results, turn_result = \u001b[38;5;28;01mawait\u001b[39;00m asyncio.gather(\n\u001b[32m    396\u001b[39m         \u001b[38;5;28mself\u001b[39m._run_input_guardrails(\n\u001b[32m    397\u001b[39m             starting_agent,\n\u001b[32m    398\u001b[39m             starting_agent.input_guardrails\n\u001b[32m    399\u001b[39m             + (run_config.input_guardrails \u001b[38;5;129;01mor\u001b[39;00m []),\n\u001b[32m    400\u001b[39m             copy.deepcopy(\u001b[38;5;28minput\u001b[39m),\n\u001b[32m    401\u001b[39m             context_wrapper,\n\u001b[32m    402\u001b[39m         ),\n\u001b[32m    403\u001b[39m         \u001b[38;5;28mself\u001b[39m._run_single_turn(\n\u001b[32m    404\u001b[39m             agent=current_agent,\n\u001b[32m    405\u001b[39m             all_tools=all_tools,\n\u001b[32m    406\u001b[39m             original_input=original_input,\n\u001b[32m    407\u001b[39m             generated_items=generated_items,\n\u001b[32m    408\u001b[39m             hooks=hooks,\n\u001b[32m    409\u001b[39m             context_wrapper=context_wrapper,\n\u001b[32m    410\u001b[39m             run_config=run_config,\n\u001b[32m    411\u001b[39m             should_run_agent_start_hooks=should_run_agent_start_hooks,\n\u001b[32m    412\u001b[39m             tool_use_tracker=tool_use_tracker,\n\u001b[32m    413\u001b[39m             previous_response_id=previous_response_id,\n\u001b[32m    414\u001b[39m         ),\n\u001b[32m    415\u001b[39m     )\n\u001b[32m    416\u001b[39m \u001b[38;5;28;01melse\u001b[39;00m:\n\u001b[32m    417\u001b[39m     turn_result = \u001b[38;5;28;01mawait\u001b[39;00m \u001b[38;5;28mself\u001b[39m._run_single_turn(\n\u001b[32m    418\u001b[39m         agent=current_agent,\n\u001b[32m    419\u001b[39m         all_tools=all_tools,\n\u001b[32m   (...)\u001b[39m\u001b[32m    427\u001b[39m         previous_response_id=previous_response_id,\n\u001b[32m    428\u001b[39m     )\n",
            "\u001b[36mFile \u001b[39m\u001b[32m~/Desktop/00_projects/AI_agents/my_agents/agents_env/lib/python3.12/site-packages/agents/run.py:1003\u001b[39m, in \u001b[36mAgentRunner._run_input_guardrails\u001b[39m\u001b[34m(cls, agent, guardrails, input, context)\u001b[39m\n\u001b[32m    996\u001b[39m         t.cancel()\n\u001b[32m    997\u001b[39m     _error_tracing.attach_error_to_current_span(\n\u001b[32m    998\u001b[39m         SpanError(\n\u001b[32m    999\u001b[39m             message=\u001b[33m\"\u001b[39m\u001b[33mGuardrail tripwire triggered\u001b[39m\u001b[33m\"\u001b[39m,\n\u001b[32m   1000\u001b[39m             data={\u001b[33m\"\u001b[39m\u001b[33mguardrail\u001b[39m\u001b[33m\"\u001b[39m: result.guardrail.get_name()},\n\u001b[32m   1001\u001b[39m         )\n\u001b[32m   1002\u001b[39m     )\n\u001b[32m-> \u001b[39m\u001b[32m1003\u001b[39m     \u001b[38;5;28;01mraise\u001b[39;00m InputGuardrailTripwireTriggered(result)\n\u001b[32m   1004\u001b[39m \u001b[38;5;28;01melse\u001b[39;00m:\n\u001b[32m   1005\u001b[39m     guardrail_results.append(result)\n",
            "\u001b[31mInputGuardrailTripwireTriggered\u001b[39m: Guardrail InputGuardrail triggered tripwire"
          ]
        }
      ],
      "source": [
        "careful_sales_manager = Agent(\n",
        "    name=\"Protected Sales Manager\",\n",
        "    instructions=sales_manager_instructions,\n",
        "    tools=tools,\n",
        "    handoffs=[emailer_agent],\n",
        "    model=\"gpt-4o\",  # Best model for protected operations\n",
        "    input_guardrails=[guardrail_against_name]\n",
        ")\n",
        "\n",
        "message = \"Send out a cold sales email addressed to Dear CEO from Alice\"\n",
        "\n",
        "print(\"🛡️ Protected Sales Manager created with guardrails\")\n",
        "print(\"⚠️  Testing with message containing a name (Alice)...\")\n",
        "\n",
        "# Demonstrate guardrail protection by catching the expected exception\n",
        "try:\n",
        "    with trace(\"Protected OpenAI Multi-Model SDR - Name Detection\"):\n",
        "        result = await Runner.run(careful_sales_manager, message)\n",
        "    print(\"✅ Email sent successfully\")\n",
        "    \n",
        "except Exception as e:\n",
        "    if \"InputGuardrailTripwireTriggered\" in str(type(e)):\n",
        "        print(\"🚨 GUARDRAIL TRIGGERED!\")\n",
        "        print(\"✅ The name detection guardrail is working correctly!\")\n",
        "        print(f\"🛡️ Blocked execution because the message contains a personal name\")\n",
        "        print(f\"📝 Message was: '{message}'\")\n",
        "        print(\"💡 This is the expected behavior for security protection\")\n",
        "    else:\n",
        "        print(f\"❌ Unexpected error: {e}\")\n",
        "        raise e\n"
      ]
    },
    {
      "cell_type": "markdown",
      "metadata": {},
      "source": [
        "## 🛡️ Guardrail Successfully Activated!\n",
        "\n",
        "https://platform.openai.com/traces\n",
        "\n",
        "**The guardrail detected the name \"Alice\" and correctly blocked the request!**\n",
        "\n",
        "### **What just happened:**\n",
        "1. ✅ **Name Detection**: The guardrail agent identified \"Alice\" as a personal name\n",
        "2. 🚨 **Tripwire Triggered**: Security protection activated automatically  \n",
        "3. 🛡️ **Request Blocked**: Prevented potential privacy/security issues\n",
        "4. 📊 **Trace Generated**: You can see the guardrail logic in the OpenAI traces\n",
        "\n",
        "This demonstrates how **input guardrails** provide robust protection by validating requests before execution."
      ]
    },
    {
      "cell_type": "code",
      "execution_count": 21,
      "metadata": {},
      "outputs": [
        {
          "name": "stdout",
          "output_type": "stream",
          "text": [
            "✅ Testing with message without personal names...\n",
            "Request payload: {'from': 'Alex <onboarding@resend.dev>', 'to': ['alexjustdata@gmail.com'], 'subject': 'Transform Your Compliance Strategy with AI-Driven SOC2 Solutions', 'html': '<!DOCTYPE html>\\n<html lang=\"en\">\\n<head>\\n    <meta charset=\"UTF-8\">\\n    <meta name=\"viewport\" content=\"width=device-width, initial-scale=1.0\">\\n    <title>Email to CEO</title>\\n    <style>\\n        body {\\n            font-family: Arial, sans-serif;\\n            line-height: 1.6;\\n            color: #333;\\n            padding: 20px;\\n            background-color: #f4f4f4;\\n        }\\n        .container {\\n            background-color: #ffffff;\\n            padding: 20px;\\n            border-radius: 8px;\\n            box-shadow: 0 2px 10px rgba(0, 0, 0, 0.1);\\n        }\\n        h2 {\\n            color: #2c3e50;\\n        }\\n        .signature {\\n            margin-top: 20px;\\n            font-style: italic;\\n        }\\n    </style>\\n</head>\\n<body>\\n    <div class=\"container\">\\n        <h2>Dear [CEO\\'s Name],</h2>\\n        <p>I hope this message finds you well. My name is <strong>[Your Name]</strong>, and I am reaching out from ComplAI, specializing in AI-powered solutions for SOC2 compliance.</p>\\n        <p>Our platform enhances compliance, reduces time and resources, and focuses on core operations. It identifies risks, automates evidence collection, and provides insights for a smoother audit.</p>\\n        <p>I\\'d love to discuss how ComplAI can support your compliance strategy. Let me know a convenient time for a call or meeting.</p>\\n        <p class=\"signature\">Warm regards,<br>\\n        <strong>[Your Full Name]</strong><br>\\n        <strong>[Your Position]</strong><br>\\n        ComplAI</p>\\n    </div>\\n</body>\\n</html>'}\n",
            "Response status: 200\n",
            "Response body: {\"id\":\"2648fe9a-7cea-40eb-ba12-7ae7e72e7453\"}\n"
          ]
        }
      ],
      "source": [
        "message = \"Send out a cold sales email addressed to Dear CEO from Head of Business Development\"\n",
        "\n",
        "print(\"✅ Testing with message without personal names...\")\n",
        "print(f\"📝 Message: '{message}'\")\n",
        "\n",
        "try:\n",
        "    with trace(\"Protected OpenAI Multi-Model SDR - No Names\"):\n",
        "        result = await Runner.run(careful_sales_manager, message)\n",
        "    print(\"🎉 SUCCESS! Email workflow completed\")\n",
        "    print(\"✅ No guardrail triggered - message passed security validation\")\n",
        "    print(\"📧 Email was generated and sent successfully\")\n",
        "    \n",
        "except Exception as e:\n",
        "    if \"InputGuardrailTripwireTriggered\" in str(type(e)):\n",
        "        print(\"🚨 Unexpected: Guardrail triggered on safe message\")\n",
        "        print(\"🔍 Check if there are any names in the message\")\n",
        "    else:\n",
        "        print(f\"❌ Error: {e}\")\n",
        "        raise e\n"
      ]
    },
    {
      "cell_type": "raw",
      "metadata": {
        "vscode": {
          "languageId": "raw"
        }
      },
      "source": [
        "## 🎯 Guardrail Behavior Summary\n",
        "\n",
        "### **Test 1: Message with Personal Name**\n",
        "- **Input**: `\"Send out a cold sales email addressed to Dear CEO from Alice\"`\n",
        "- **Result**: 🚨 **BLOCKED** by guardrail\n",
        "- **Why**: Contains personal name \"Alice\"\n",
        "- **Exception**: `InputGuardrailTripwireTriggered`\n",
        "\n",
        "### **Test 2: Message without Personal Names**  \n",
        "- **Input**: `\"Send out a cold sales email addressed to Dear CEO from Head of Business Development\"`\n",
        "- **Result**: ✅ **ALLOWED** - proceeds normally\n",
        "- **Why**: No personal names detected\n",
        "- **Outcome**: Email generated and sent successfully\n",
        "\n",
        "### **Key Learning:**\n",
        "**Guardrails provide automated security validation before agent execution!**\n",
        "\n",
        "This demonstrates how you can build **robust AI systems** that automatically prevent potential security or privacy issues.\n"
      ]
    },
    {
      "cell_type": "markdown",
      "metadata": {},
      "source": [
        "## OpenAI Model Comparison Summary\n",
        "\n",
        "### **Model Characteristics:**\n",
        "\n",
        "**GPT-4o (Professional Agent)**\n",
        "- **Strengths**: Most sophisticated reasoning, detailed analysis\n",
        "- **Best for**: Complex decision-making, nuanced content\n",
        "- **Email style**: Professional, well-structured, comprehensive\n",
        "\n",
        "**GPT-4o-mini (Humorous Agent)**  \n",
        "- **Strengths**: Balanced performance, cost-effective\n",
        "- **Best for**: Most business applications, good creativity\n",
        "- **Email style**: Engaging, creative, balanced\n",
        "\n",
        "**GPT-3.5-turbo (Concise Agent)**\n",
        "- **Strengths**: Fast response, direct approach\n",
        "- **Best for**: Simple tasks, quick turnaround\n",
        "- **Email style**: Concise, direct, to-the-point\n",
        "\n",
        "### **Key Learnings:**\n",
        "1. **Different OpenAI models excel at different tasks**\n",
        "2. **Model selection impacts output quality and style**\n",
        "3. **Guardrails work consistently across all models**\n",
        "4. **Structured outputs ensure reliable data extraction**\n",
        "\n",
        "**This demonstrates how you can optimize your AI applications by choosing the right OpenAI model for each specific task!**\n"
      ]
    },
    {
      "cell_type": "markdown",
      "metadata": {},
      "source": [
        "<table style=\"margin: 0; text-align: left; width:100%\">\n",
        "    <tr>\n",
        "            <h2 style=\"color:brown\">Exercise</h2>\n",
        "            <span style=\"color:brown\">• Try different OpenAI model configurations (temperature, max_tokens)<br/>• Add more input and output guardrails<br/>• Use structured outputs for the email generation<br/>• Compare response times and costs between models\n",
        "            </span>\n",
        "    </tr>\n",
        "</table>"
      ]
    }
  ],
  "metadata": {
    "kernelspec": {
      "display_name": "agents_env",
      "language": "python",
      "name": "python3"
    },
    "language_info": {
      "codemirror_mode": {
        "name": "ipython",
        "version": 3
      },
      "file_extension": ".py",
      "mimetype": "text/x-python",
      "name": "python",
      "nbconvert_exporter": "python",
      "pygments_lexer": "ipython3",
      "version": "3.12.11"
    }
  },
  "nbformat": 4,
  "nbformat_minor": 2
}
