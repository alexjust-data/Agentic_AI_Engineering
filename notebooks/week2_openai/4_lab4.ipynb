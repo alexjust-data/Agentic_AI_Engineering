{
 "cells": [
  {
   "cell_type": "markdown",
   "metadata": {},
   "source": [
    "## Deep Research\n",
    "\n",
    "This is one of the classic use cases of agentic AI — the scenario where you have an agent that can go off, search the internet, follow different links, and research a topic that you give it.\n",
    "\n",
    "We know this use case very well, since many Frontier Labs already offer this kind of agent through their online chat tools. For example, on OpenAI, you can go to GPT and press the Deep Research button — this runs the model in deep research mode, which is essentially executing an agentic workflow.\n",
    "\n",
    "So, we’re going to do just that. We’re going to give our agents the ability to do deep research, and we’ll make use of a few concepts we’ve already learned. We’re going to use tools, of course. We’re going to use structured outputs again — we touched on those briefly last time, and we’ll go a bit deeper this time. And for the first time, we’re going to use hosted tools, which are tools running remotely."
   ]
  },
  {
   "cell_type": "markdown",
   "metadata": {},
   "source": [
    "<table style=\"margin: 0; text-align: left; width:100%\">\n",
    "    <tr>\n",
    "        <td>\n",
    "            <h2 style=\"color:#00bfff;\">Commercial implications</h2>\n",
    "            <span style=\"color:#00bfff;\">A Deep Research agent is broadly applicable to any business area, and to your own day-to-day activities. You can make use of this yourself!\n",
    "            </span>\n",
    "        </td>\n",
    "</table>"
   ]
  },
  {
   "cell_type": "code",
   "execution_count": 1,
   "metadata": {},
   "outputs": [],
   "source": [
    "from agents import Agent, WebSearchTool, trace, Runner, gen_trace_id, function_tool\n",
    "from agents.model_settings import ModelSettings\n",
    "from pydantic import BaseModel, Field\n",
    "from dotenv import load_dotenv\n",
    "import asyncio\n",
    "import sendgrid\n",
    "import os\n",
    "from sendgrid.helpers.mail import Mail, Email, To, Content\n",
    "from typing import Dict\n",
    "from IPython.display import display, Markdown"
   ]
  },
  {
   "cell_type": "code",
   "execution_count": 2,
   "metadata": {},
   "outputs": [
    {
     "data": {
      "text/plain": [
       "True"
      ]
     },
     "execution_count": 2,
     "metadata": {},
     "output_type": "execute_result"
    }
   ],
   "source": [
    "load_dotenv(override=True)"
   ]
  },
  {
   "cell_type": "markdown",
   "metadata": {},
   "source": [
    "## OpenAI Hosted Tools\n",
    "\n",
    "OpenAI Agents SDK includes the following hosted tools:\n",
    "\n",
    "The `WebSearchTool` lets an agent search the web.  \n",
    "The `FileSearchTool` allows retrieving information from your OpenAI Vector Stores.  \n",
    "The `ComputerTool` allows automating computer use tasks like taking screenshots and clicking.\n",
    "\n",
    "### Important note - API charge of WebSearchTool\n",
    "\n",
    "This is costing me 2.5 cents per call for OpenAI WebSearchTool. That can add up to $2-$3 for the next 2 labs. We'll use low cost Search tools with other platforms, so feel free to skip running this if the cost is a concern.\n",
    "\n",
    "Costs are here: https://platform.openai.com/docs/pricing#web-search\n",
    "\n",
    "**Cheaper Alternatives**\n",
    "You can use free search tools or more affordable APIs such as:\n",
    "\n",
    "* **SerpAPI** with a free tier\n",
    "* **Bing Search API** (via Azure)\n",
    "* **DuckDuckGo Instant Answer API** (free)\n",
    "* **Custom scraping** with **BeautifulSoup + Requests**\n"
   ]
  },
  {
   "cell_type": "code",
   "execution_count": 3,
   "metadata": {},
   "outputs": [],
   "source": [
    "INSTRUCTIONS = \"You are a research assistant. Given a search term, you search the web for that term and \\\n",
    "produce a concise summary of the results. The summary must 2-3 paragraphs and less than 300 \\\n",
    "words. Capture the main points. Write succintly, no need to have complete sentences or good \\\n",
    "grammar. This will be consumed by someone synthesizing a report, so it's vital you capture the \\\n",
    "essence and ignore any fluff. Do not include any additional commentary other than the summary itself.\"\n",
    "\n",
    "search_agent = Agent(\n",
    "    name=\"Search agent\",\n",
    "    instructions=INSTRUCTIONS,\n",
    "    tools=[WebSearchTool(search_context_size=\"low\")], # low context size is cheaper\n",
    "    model=\"gpt-4o-mini\",\n",
    "    model_settings=ModelSettings(tool_choice=\"required\"), # required to use the tool\n",
    ")"
   ]
  },
  {
   "cell_type": "markdown",
   "metadata": {},
   "source": [
    "It's a very clearly written set of INSTRUCTIONS, and while I'd love to take credit for it, I have to confess that I took it verbatim from OpenAI's documentation on how to perform web searches using their tool. So, we can safely assume it's a well-crafted prompt — after all, it's written by the people who built the model."
   ]
  },
  {
   "cell_type": "code",
   "execution_count": 4,
   "metadata": {},
   "outputs": [
    {
     "data": {
      "text/markdown": [
       "As of July 2025, several AI agent frameworks have emerged, each offering unique capabilities for developing intelligent, autonomous systems.\n",
       "\n",
       "**LangChain** is a prominent open-source framework that enables developers to build applications powered by large language models (LLMs). Its modular design allows for seamless integration of various components, facilitating the creation of complex workflows by chaining together different models and data sources. This flexibility makes LangChain suitable for a wide range of applications, including conversational agents, document analysis, and code generation. ([startelelogic.com](https://startelelogic.com/blog/top-agentic-ai-frameworks-to-watch-in-2025/?utm_source=openai))\n",
       "\n",
       "**LangGraph**, an extension of LangChain, introduces a graph-based approach to managing agent workflows. This framework is particularly useful for applications requiring complex decision-making processes, such as loan processing or insurance claims. LangGraph allows developers to define agent steps and logic as nodes and edges in a graph, providing explicit control over information flow and enabling branching and debugging of complex agent behaviors. ([radarmagazine.com](https://www.radarmagazine.com/top-5-ai-agent-frameworks-it-executives-should-be-watching-in-2025/?utm_source=openai))\n",
       "\n",
       "**AutoGen**, developed by Microsoft, focuses on facilitating the development of multi-agent systems. It offers a conversation-based coordination framework, built-in agents, and easy prototyping tools. AutoGen supports various model providers and APIs, making it suitable for building AI-driven advisors that assist with strategy, legal research, or data-driven planning. ([phyniks.com](https://phyniks.com/blog/top-7-agentic-ai-frameworks-in-2025?utm_source=openai))\n",
       "\n",
       "**CrewAI** is designed for orchestrating autonomous AI agents, enabling them to collaborate effectively to achieve goals. It allows developers to define agent roles, responsibilities, and interaction styles, facilitating the creation of complex workflows where specialization and collaboration are essential. ([dev.to](https://dev.to/voltagent/top-5-ai-agent-frameworks-in-2025-4gab?utm_source=openai))\n",
       "\n",
       "**Eliza** is an open-source, Web3-friendly AI agent operating system that integrates seamlessly with blockchain applications. It allows developers to create AI agents capable of interacting with smart contracts and reading and writing blockchain data, making it suitable for decentralized applications. ([arxiv.org](https://arxiv.org/abs/2501.06781?utm_source=openai))\n",
       "\n",
       "**AutoAgent** is a fully automated, zero-code framework for LLM agents, enabling users to create and deploy AI agents through natural language alone. It comprises components like Agentic System Utilities, an LLM-powered Actionable Engine, a Self-Managing File System, and a Self-Play Agent Customization module, facilitating efficient and dynamic creation and modification of tools, agents, and workflows without coding requirements. ([arxiv.org](https://arxiv.org/abs/2502.05957?utm_source=openai))\n",
       "\n",
       "These frameworks represent the forefront of AI agent development, each contributing to the advancement of intelligent, autonomous systems across various domains. "
      ],
      "text/plain": [
       "<IPython.core.display.Markdown object>"
      ]
     },
     "metadata": {},
     "output_type": "display_data"
    }
   ],
   "source": [
    "message = \"Latest AI Agent frameworks in 2025\"\n",
    "\n",
    "with trace(\"Search\"):\n",
    "    result = await Runner.run(search_agent, message)\n",
    "\n",
    "display(Markdown(result.final_output))"
   ]
  },
  {
   "cell_type": "markdown",
   "metadata": {},
   "source": [
    "### As always, take a look at the trace\n",
    "\n",
    "https://platform.openai.com/traces"
   ]
  },
  {
   "cell_type": "markdown",
   "metadata": {},
   "source": [
    "### We will now use Structured Outputs, and include a description of the fields\n",
    "\n",
    "We're going to make heavier use of structured outputs than we did with the last agent. So now, we’ll work on a new agent, which we’ll call the planner agent. This agent will be responsible for taking a query and coming up with a handful of search queries it should run in order to perform deep research.\n",
    "\n",
    "Now, I’m going to limit the number of searches to three, since — as I mentioned — each search costs 2.5 cents, and I’d rather not end up with a big bill.\n",
    "\n",
    "When I first tried this, I had the agent run 10 searches, so you can definitely increase that number. You’ll generally get better results with more searches, but it really comes down to personal preference.\n",
    "\n",
    "I recommend starting with three — it'll cost you around 10 to 20 cents, and if you're enjoying the process, go ahead and splurge a little. Spend 50 cents and get a rich, comprehensive result."
   ]
  },
  {
   "cell_type": "code",
   "execution_count": 5,
   "metadata": {},
   "outputs": [],
   "source": [
    "# See note above about cost of WebSearchTool\n",
    "\n",
    "HOW_MANY_SEARCHES = 3\n",
    "\n",
    "INSTRUCTIONS = f\"You are a helpful research assistant. Given a query, come up with a set of web searches \\\n",
    "to perform to best answer the query. Output {HOW_MANY_SEARCHES} terms to query for.\"\n",
    "\n",
    "# Use Pydantic to define the Schema of our response - this is known as \"Structured Outputs\"\n",
    "\n",
    "\n",
    "# ⬇️ STRUCTURED OUTPUTS SECTION\n",
    "# We define the expected structure of the agent’s response using Pydantic models.\n",
    "# This ensures the LLM outputs are parsable, validated, and predictable.\n",
    "\n",
    "# WebSearchItem represents a *single* search the agent proposes.\n",
    "class WebSearchItem(BaseModel):\n",
    "    # Why this search is useful — agent must justify its choice\n",
    "    reason: str = Field(description=\"Your reasoning for why this search is important to the query.\")\n",
    "    \n",
    "    # The actual search term string that should be passed to the search tool\n",
    "    query: str = Field(description=\"The search term to use for the web search.\")\n",
    "\n",
    "\n",
    "# WebSearchPlan is the overall structure of the agent's response\n",
    "# It consists of a list of individual WebSearchItem entries.\n",
    "class WebSearchPlan(BaseModel):\n",
    "    # The list of searches the planner agent will generate\n",
    "    # This is the structured result we expect from the agent\n",
    "    searches: list[WebSearchItem] = Field(description=\"A list of web searches to perform to best answer the query.\")\n",
    "\n",
    "planner_agent = Agent(\n",
    "    name=\"PlannerAgent\",\n",
    "    instructions=INSTRUCTIONS,\n",
    "    model=\"gpt-4o-mini\",\n",
    "    output_type=WebSearchPlan,  # This is the key part: it tells the agent that its output\n",
    "                                # must follow the schema defined in the WebSearchPlan Pydantic class.\n",
    "                                # That means: a list of search items, each with a reason and query.\n",
    ")"
   ]
  },
  {
   "cell_type": "markdown",
   "metadata": {},
   "source": [
    "Previously, we simply performed an internet search on the latest AI frameworks in 2025. What we’re going to do now is different — we’re not going to do any searching at all. Instead, we’ll use the planner agent to generate three relevant web search queries based on that topic.\n",
    "\n",
    "We expect the agent to respond with an object of type WebSearchPlan. So let’s run it and print the result.\n",
    "\n",
    "What we get back is an object with a field called searches, which contains the list of generated search items..."
   ]
  },
  {
   "cell_type": "code",
   "execution_count": 6,
   "metadata": {},
   "outputs": [
    {
     "name": "stdout",
     "output_type": "stream",
     "text": [
      "searches=[WebSearchItem(reason='To find the most up-to-date frameworks for AI agents that are anticipated or released in 2025.', query='latest AI agent frameworks 2025'), WebSearchItem(reason='To gather expert opinions and analyses on emerging AI agent technologies and frameworks expected in 2025.', query='emerging AI agent technologies 2025'), WebSearchItem(reason='To identify specific frameworks or platforms being developed or highlighted for AI agents in 2025, including their features and capabilities.', query='popular AI agent frameworks 2025')]\n"
     ]
    }
   ],
   "source": [
    "\n",
    "message = \"Latest AI Agent frameworks in 2025\"\n",
    "\n",
    "with trace(\"Search\"):\n",
    "    result = await Runner.run(planner_agent, message)\n",
    "    print(result.final_output)"
   ]
  },
  {
   "cell_type": "code",
   "execution_count": 7,
   "metadata": {},
   "outputs": [
    {
     "name": "stdout",
     "output_type": "stream",
     "text": [
      "{\n",
      "    \"searches\": [\n",
      "        {\n",
      "            \"reason\": \"To find the most up-to-date frameworks for AI agents that are anticipated or released in 2025.\",\n",
      "            \"query\": \"latest AI agent frameworks 2025\"\n",
      "        },\n",
      "        {\n",
      "            \"reason\": \"To gather expert opinions and analyses on emerging AI agent technologies and frameworks expected in 2025.\",\n",
      "            \"query\": \"emerging AI agent technologies 2025\"\n",
      "        },\n",
      "        {\n",
      "            \"reason\": \"To identify specific frameworks or platforms being developed or highlighted for AI agents in 2025, including their features and capabilities.\",\n",
      "            \"query\": \"popular AI agent frameworks 2025\"\n",
      "        }\n",
      "    ]\n",
      "}\n"
     ]
    }
   ],
   "source": [
    "import json\n",
    "\n",
    "# Convert to dict using Pydantic's method\n",
    "print(json.dumps(result.final_output.model_dump(), indent=4))\n"
   ]
  },
  {
   "cell_type": "markdown",
   "metadata": {},
   "source": [
    "**The same function as before in lab3 `send_html_email()`**"
   ]
  },
  {
   "cell_type": "code",
   "execution_count": 16,
   "metadata": {},
   "outputs": [
    {
     "name": "stdout",
     "output_type": "stream",
     "text": [
      "📧 Email sending function configured with Resend\n"
     ]
    }
   ],
   "source": [
    "@function_tool\n",
    "def send_html_email(subject: str, html_body: str) -> Dict[str, str]:\n",
    "    \"\"\"\n",
    "    Send out an email with the given subject and HTML body \n",
    "    to all sales prospects using Resend\n",
    "    \"\"\"\n",
    "    import os\n",
    "    import requests\n",
    "\n",
    "    # Get email addresses from environment variables\n",
    "    from_email = os.getenv(\"FROM_EMAIL\", \"onboarding@resend.dev\")\n",
    "    to_email = os.getenv(\"TO_EMAIL\", \"alexjustdata@gmail.com\")\n",
    "    \n",
    "    # Get the Resend API key from environment variable\n",
    "    api_key = os.getenv(\"RESEND_API_KEY\")\n",
    "    \n",
    "    # Validate that RESEND_API_KEY is available\n",
    "    if not api_key:\n",
    "        return {\"status\": \"failure\", \n",
    "                \"message\": \"RESEND_API_KEY not found in environment variables\"}\n",
    "    \n",
    "    headers = {\n",
    "        \"Authorization\": f\"Bearer {api_key}\",\n",
    "        \"Content-Type\": \"application/json\"\n",
    "    }\n",
    "\n",
    "    # Directly use the provided HTML body (no extra formatting or conversion)\n",
    "    formatted_html = html_body\n",
    "    \n",
    "    payload = {\n",
    "        \"from\": f\"Alex <{from_email}>\",\n",
    "        \"to\": [to_email],\n",
    "        \"subject\": subject,\n",
    "        \"html\": formatted_html\n",
    "    }\n",
    "    \n",
    "    try:\n",
    "        response = requests.post(\n",
    "            \"https://api.resend.com/emails\", \n",
    "            json=payload, \n",
    "            headers=headers\n",
    "        )\n",
    "        \n",
    "        # Add debugging information\n",
    "        print(f\"Request payload: {payload}\")\n",
    "        print(f\"Response status: {response.status_code}\")\n",
    "        print(f\"Response body: {response.text}\")\n",
    "        \n",
    "        if response.status_code == 200 or response.status_code == 202:\n",
    "            return {\"status\": \"success\", \n",
    "                    \"message\": \"HTML email sent successfully\", \n",
    "                    \"response\": response.text}\n",
    "        else:\n",
    "            return {\"status\": \"failure\", \n",
    "                    \"message\": response.text, \n",
    "                    \"status_code\": response.status_code}\n",
    "            \n",
    "    except Exception as e:\n",
    "        return {\"status\": \"error\", \n",
    "                \"message\": f\"Exception occurred: {str(e)}\"}\n",
    "\n",
    "print(\"📧 Email sending function configured with Resend\")\n",
    "\n"
   ]
  },
  {
   "cell_type": "code",
   "execution_count": 9,
   "metadata": {},
   "outputs": [
    {
     "data": {
      "text/plain": [
       "FunctionTool(name='send_email', description=\"Send out an email with HTML content - GUARANTEED to use 'html' not 'text'\", params_json_schema={'properties': {'subject': {'title': 'Subject', 'type': 'string'}, 'html_body': {'title': 'Html Body', 'type': 'string'}}, 'required': ['subject', 'html_body'], 'title': 'send_email_args', 'type': 'object', 'additionalProperties': False}, on_invoke_tool=<function function_tool.<locals>._create_function_tool.<locals>._on_invoke_tool at 0x10fffd3a0>, strict_json_schema=True, is_enabled=True)"
      ]
     },
     "execution_count": 9,
     "metadata": {},
     "output_type": "execute_result"
    }
   ],
   "source": [
    "send_email"
   ]
  },
  {
   "cell_type": "code",
   "execution_count": 10,
   "metadata": {},
   "outputs": [],
   "source": [
    "INSTRUCTIONS = \"\"\"You are able to send a nicely formatted HTML email based on a detailed report.\n",
    "You will be provided with a detailed report. You should use your tool to send one email, providing the \n",
    "report converted into clean, well presented HTML with an appropriate subject line.\"\"\"\n",
    "\n",
    "email_agent = Agent(\n",
    "    name=\"Email agent\",\n",
    "    instructions=INSTRUCTIONS,\n",
    "    tools=[send_email],\n",
    "    model=\"gpt-4o-mini\",\n",
    ")\n",
    "\n"
   ]
  },
  {
   "cell_type": "code",
   "execution_count": 11,
   "metadata": {},
   "outputs": [],
   "source": [
    "INSTRUCTIONS = (\n",
    "    \"You are a senior researcher tasked with writing a cohesive report for a research query. \"\n",
    "    \"You will be provided with the original query, and some initial research done by a research assistant.\\n\"\n",
    "    \"You should first come up with an outline for the report that describes the structure and \"\n",
    "    \"flow of the report. Then, generate the report and return that as your final output.\\n\"\n",
    "    \"The final output should be in markdown format, and it should be lengthy and detailed. Aim \"\n",
    "    \"for 5-10 pages of content, at least 1000 words.\"\n",
    ")\n",
    "\n",
    "\n",
    "from pydantic import BaseModel, Field\n",
    "\n",
    "class ReportData(BaseModel):\n",
    "    # A brief summary of the findings (2-3 sentences), useful for quickly presenting the main conclusion\n",
    "    short_summary: str = Field(\n",
    "        description=\"A short 2-3 sentence summary of the findings.\"\n",
    "    )\n",
    "    \n",
    "    # The complete final report in Markdown format (can include tables, lists, charts, etc.)\n",
    "    markdown_report: str = Field(\n",
    "        description=\"The final report\"\n",
    "    )\n",
    "\n",
    "    # A list of suggested follow-up topics or questions for further research (helpful for iteration or deeper analysis)\n",
    "    follow_up_questions: list[str] = Field(\n",
    "        description=\"Suggested topics to research further\"\n",
    "    )\n",
    "\n",
    "\n",
    "\n",
    "writer_agent = Agent(\n",
    "    name=\"WriterAgent\",\n",
    "    instructions=INSTRUCTIONS,\n",
    "    model=\"gpt-4o-mini\",\n",
    "    output_type=ReportData,\n",
    ")"
   ]
  },
  {
   "cell_type": "markdown",
   "metadata": {},
   "source": [
    "### The next 3 functions will plan and execute the search, using planner_agent and search_agent\n",
    "\n",
    "\n",
    "`Planning Searches`\n",
    "\n",
    "\n",
    "* **Purpose:**\n",
    "  Calls the **planner\\_agent** to analyze the user's query and determine a list of web searches to perform.\n",
    "* **How:**\n",
    "\n",
    "  * Passes the query to `planner_agent` using `Runner.run`.\n",
    "  * Receives a plan, which includes a list of `WebSearchItem`s (i.e., what to search for).\n",
    "  * Prints the number of planned searches.\n",
    "  * Returns the search plan.\n",
    "\n",
    "`Performing Searches`\n",
    "\n",
    "* **Purpose:**\n",
    "  Executes all searches in the plan **in parallel**.\n",
    "* **How:**\n",
    "\n",
    "  * For each search item, creates an asynchronous task to call the `search()` function.\n",
    "  * Uses `asyncio.gather` to run all tasks simultaneously and collect the results.\n",
    "  * Prints status messages before and after.\n",
    "  * Returns the list of search results.\n",
    "\n",
    "`Performing a Single Search`\n",
    "\n",
    "\n",
    "* **Purpose:**\n",
    "  Uses the **search\\_agent** to run a web search for a given search item.\n",
    "* **How:**\n",
    "\n",
    "  * Formats the input to include both the search term and the reason for the search (for better context).\n",
    "  * Calls `search_agent` using `Runner.run` and waits for the result.\n",
    "  * Returns the search output.\n",
    "\n"
   ]
  },
  {
   "cell_type": "code",
   "execution_count": 12,
   "metadata": {},
   "outputs": [],
   "source": [
    "async def plan_searches(query: str):\n",
    "    \"\"\" Use the planner_agent to plan which searches to run for the query \"\"\"\n",
    "    print(\"Planning searches...\")\n",
    "    result = await Runner.run(planner_agent, f\"Query: {query}\")\n",
    "    print(f\"Will perform {len(result.final_output.searches)} searches\")\n",
    "    return result.final_output\n",
    "\n",
    "async def perform_searches(search_plan: WebSearchPlan):\n",
    "    \"\"\" Call search() for each item in the search plan \"\"\"\n",
    "    print(\"Searching...\")\n",
    "    tasks = [asyncio.create_task(search(item)) for item in search_plan.searches]\n",
    "    results = await asyncio.gather(*tasks)\n",
    "    print(\"Finished searching\")\n",
    "    return results\n",
    "\n",
    "async def search(item: WebSearchItem):\n",
    "    \"\"\" Use the search agent to run a web search for each item in the search plan \"\"\"\n",
    "    input = f\"Search term: {item.query}\\nReason for searching: {item.reason}\"\n",
    "    result = await Runner.run(search_agent, input)\n",
    "    return result.final_output"
   ]
  },
  {
   "cell_type": "markdown",
   "metadata": {},
   "source": [
    "### The next 2 functions write a report and email it\n",
    "\n",
    "``Writing the Report``\n",
    "\n",
    "* **Purpose:**\n",
    "  Uses the **writer\\_agent** to create a human-readable report based on the original query and the summarized search results.\n",
    "* **How:**\n",
    "\n",
    "  * Formats the input with both the original query and the results of all searches.\n",
    "  * Calls `writer_agent` using `Runner.run` and waits for the result.\n",
    "  * Prints status messages before and after.\n",
    "  * Returns the final report.\n",
    "\n",
    "\n",
    "`Sending the Report via Email`\n",
    "\n",
    "* **Purpose:**\n",
    "  Uses the **email\\_agent** to send the generated report via email.\n",
    "* **How:**\n",
    "\n",
    "  * Passes the report content (in Markdown format) to the `email_agent` via `Runner.run`.\n",
    "  * Prints status messages before and after sending.\n",
    "  * Returns the report (can be used for logging or confirmation)."
   ]
  },
  {
   "cell_type": "code",
   "execution_count": 13,
   "metadata": {},
   "outputs": [],
   "source": [
    "async def write_report(query: str, search_results: list[str]):\n",
    "    \"\"\" Use the writer agent to write a report based on the search results\"\"\"\n",
    "    print(\"Thinking about report...\")\n",
    "    input = f\"Original query: {query}\\nSummarized search results: {search_results}\"\n",
    "    result = await Runner.run(writer_agent, input)\n",
    "    print(\"Finished writing report\")\n",
    "    return result.final_output\n",
    "\n",
    "async def send_email(report: ReportData):\n",
    "    \"\"\" Use the email agent to send an email with the report \"\"\"\n",
    "    print(\"Writing email...\")\n",
    "    result = await Runner.run(email_agent, report.markdown_report)\n",
    "    print(\"Email sent\")\n",
    "    return report"
   ]
  },
  {
   "cell_type": "markdown",
   "metadata": {},
   "source": [
    "### Showtime!"
   ]
  },
  {
   "cell_type": "code",
   "execution_count": 17,
   "metadata": {},
   "outputs": [
    {
     "name": "stdout",
     "output_type": "stream",
     "text": [
      "Starting research...\n",
      "Planning searches...\n",
      "Will perform 3 searches\n",
      "Searching...\n",
      "Finished searching\n",
      "Thinking about report...\n",
      "Finished writing report\n",
      "Writing email...\n",
      "🔍 PAYLOAD VERIFICATION:\n",
      "  - Keys in payload: ['from', 'to', 'subject', 'html']\n",
      "  - Using 'html' field: True\n",
      "  - Using 'text' field: False\n",
      "  - Subject: Latest AI Agent Frameworks in 2025 Report\n",
      "  - HTML content length: 10054 chars\n",
      "  - HTML preview: <html>\n",
      "<head>\n",
      "    <title>Latest AI Agent Frameworks in 2025</title>\n",
      "    <style>\n",
      "        body { font-...\n",
      "📡 Response status: 200\n",
      "📝 Response body: {\"id\":\"a428ff62-133d-432e-94ea-e042d056a1ae\"}\n",
      "Email sent\n",
      "Hooray!\n"
     ]
    }
   ],
   "source": [
    "query =\"Latest AI Agent frameworks in 2025\"\n",
    "\n",
    "with trace(\"Research trace\"):\n",
    "    print(\"Starting research...\")\n",
    "    search_plan = await plan_searches(query)\n",
    "    search_results = await perform_searches(search_plan)\n",
    "    report = await write_report(query, search_results)\n",
    "    await send_email(report)  \n",
    "    print(\"Hooray!\")\n",
    "\n"
   ]
  },
  {
   "cell_type": "code",
   "execution_count": 18,
   "metadata": {},
   "outputs": [
    {
     "name": "stdout",
     "output_type": "stream",
     "text": [
      "📋 CONTENIDO DEL REPORTE (Markdown):\n",
      "==================================================\n",
      "# Latest AI Agent Frameworks in 2025\n",
      "\n",
      "## Table of Contents\n",
      "- [1. Introduction](#1-introduction)\n",
      "- [2. Overview of AI Agent Frameworks](#2-overview-of-ai-agent-frameworks)\n",
      "- [3. Detailed Review of Key Frameworks](#3-detailed-review-of-key-frameworks)\n",
      "    - [3.1 LangChain](#31-langchain)\n",
      "    - [3.2 AutoGen](#32-autogen)\n",
      "    - [3.3 AutoAgent](#33-autoagent)\n",
      "    - [3.4 Eliza](#34-eliza)\n",
      "    - [3.5 OpenAI's Operator](#35-openais-operator)\n",
      "    - [3.6 CrewAI](#36-crewai)\n",
      "    - [3.7 LangGraph](#37-langgraph)\n",
      "    - [3.8 SuperAGI](#38-superagi)\n",
      "    - [3.9 Semantic Kernel](#39-semantic-kernel)\n",
      "    - [3.10 DoomArena](#310-doomarena)\n",
      "- [4. Comparative Analysis](#4-comparative-analysis)\n",
      "- [5. Trends and Future Directions](#5-trends-and-future-directions)\n",
      "- [6. Conclusion](#6-conclusion)\n",
      "- [7. Follow-Up Questions](#7-follow-up-questions)\n",
      "\n",
      "## 1. Introduction\n",
      "The landscape of AI agents has evolved dramatically by 2025, with numerous frameworks emerging to meet the growing demand for intelligent, autonomous applications. This report delves into the latest AI agent frameworks of 2025, highlighting their unique features and potential applications, fostering a better understanding for developers, researchers, and companies looking to adopt these technologies.\n",
      "\n",
      "## 2. Overview of AI Agent Frameworks\n",
      "AI agent frameworks serve as platforms for developing intelligent applications capable of autonomous decision-making, multitasking, and human interaction. These frameworks are critical in providing developers with the tools and methodologies to streamline the creation and deployment of advanced AI applications.\n",
      "\n",
      "In 2025, we have witnessed advancements primarily in the following areas:\n",
      "1. **Modularity**: Allowing developers to build complex systems by integrating various capabilities seamlessly.\n",
      "2. **Multi-Agent Coordination**: Tools that enable multiple agents to communicate, collaborate, and execute tasks.\n",
      "3. **Ease of Use**: Enhancements aimed at democratizing AI development, particularly through code-free or low-code environments.\n",
      "4. **Interoperability**: Standardized protocols to improve the connectivity and collaboration among various AI system components, aiding in broader integrations.\n",
      "\n",
      "## 3. Detailed Review of Key Frameworks\n",
      "This section provides an in-depth analysis of standout AI agent frameworks that have emerged in 2025.\n",
      "\n",
      "### 3.1 LangChain\n",
      "LangChain has gained prominence as a Python-based framework designed for constructing complex AI applications. Its modular design enables developers to create workflows by chaining prompts, memory components, and tools. This framework also supports various large language models (LLMs) and features a rich ecosystem integrating tools like Google Search and SQL, facilitating the development of conversational agents and retrieval-augmented applications.\n",
      "\n",
      "### 3.2 AutoGen\n",
      "Developed by Microsoft, AutoGen specializes in facilitating multi-agent systems. This framework allows agents to communicate using natural language, promoting conversation-based coordination. Its graphical interface simplifies prototyping, making it easier for developers to create agents capable of generating and executing code, which is crucial for enterprise applications that require collaborative task execution.\n",
      "\n",
      "### 3.3 AutoAgent\n",
      "AutoAgent represents a code-free solution in the AI domain, allowing users to create and deploy LLM agents through natural language inputs. This framework is particularly valuable for non-technical users, enabling them to build agents without needing programming skills. AutoAgent integrates functionalities such as a self-managing file system and customizable modules for agent behavior and tools.\n",
      "\n",
      "### 3.4 Eliza\n",
      "As a Web3-friendly AI operating system, Eliza interfaces seamlessly with blockchain applications. This framework allows users to directly interact with smart contracts and manage blockchain data, positioning it as an essential tool for developing decentralized AI agents. This integration forms a bridge between traditional AI functionalities and the decentralized finance landscape.\n",
      "\n",
      "### 3.5 OpenAI's Operator\n",
      "Launched in January 2025, OpenAI's Operator automates web-based tasks through AI agents that can carry out actions like filling forms and placing orders online. This framework leverages OpenAI's advanced models, expanding the practical applications of AI in daily user activities and enhancing operational efficiency.\n",
      "\n",
      "### 3.6 CrewAI\n",
      "CrewAI focuses on creating structured workflows among multiple agents with specific roles. This framework is particularly effective in scenarios requiring collaboration, such as writing, code reviews, and research projects, where delegation among specialized agents can streamline operations and optimize outcomes.\n",
      "\n",
      "### 3.7 LangGraph\n",
      "An extension of LangChain, LangGraph introduces a graph-based approach to managing agent workflows. It supports features like loops, conditional branching, and persistent state management. These capabilities allow for advanced control and flexibility in creating deterministic workflows that can be easily debugged, enhancing the robustness of AI applications.\n",
      "\n",
      "### 3.8 SuperAGI\n",
      "SuperAGI serves as a comprehensive operating system for agent management, offering features such as runtime management, agent supervision, and monitoring through a web interface. The framework supports concurrent agents with persistent memory, making it ideal for applications that require continuous interaction and data retention.\n",
      "\n",
      "### 3.9 Semantic Kernel\n",
      "Semantic Kernel focuses on providing a lightweight SDK for orchestrating AI agents within enterprise applications. Its model-agnostic approach ensures compatibility with various programming languages, facilitating the embedding of AI functionalities into existing workflows.\n",
      "\n",
      "### 3.10 DoomArena\n",
      "DoomArena has been developed to test AI agents against evolving security threats, providing a platform for comprehensive evaluations of agent safety and resilience. This framework is pivotal in reinforcing the reliability of AI systems, particularly in security-sensitive environments where performance under strain is critical.\n",
      "\n",
      "## 4. Comparative Analysis\n",
      "When evaluating these frameworks, key considerational factors include:\n",
      "- **Complexity of Tasks**: Framework suitability varies based on task complexity, with LangChain and AutoGen offering substantial capabilities for intricate applications.\n",
      "- **Multi-Agent Coordination**: AutoGen and CrewAI excel in scenarios where communication among agents is essential, fostering effective collaboration.\n",
      "- **Ease of Development**: AutoAgent stands out for its user-friendly approach, enabling those without technical expertise to build functional LLM agents.\n",
      "- **Interoperability**: Frameworks like Semantic Kernel promote seamless integration with existing systems, while Eliza provides valuable functionalities within decentralized finance.\n",
      "\n",
      "## 5. Trends and Future Directions\n",
      "The advancements observed in 2025 highlight several trends shaping the future of AI agent frameworks:\n",
      "1. **Increased Accessibility**: A shift towards more accessible development platforms will continue, allowing non-technical users to leverage AI technologies effectively.\n",
      "2. **Enhanced Collaboration**: The evolution of multi-agent systems exemplifies the growing importance of collaborative frameworks in solving complex problems.\n",
      "3. **Interoperability Standards**: Initiatives like the Model Context Protocol are likely to gain traction, leading to more interconnected AI ecosystems.\n",
      "4. **Focus on Security**: The introduction of security-focused frameworks like DoomArena indicates a critical shift towards ensuring safe deployment and operation of AI systems.\n",
      "\n",
      "## 6. Conclusion\n",
      "The growing landscape of AI agent frameworks in 2025 reflects technological advancements and an emphasis on creating accessible, collaborative, and secure automation tools. Each framework offers unique capabilities that address specific development needs, collectively enriching the AI ecosystem and shaping the future of intelligent applications.\n",
      "\n",
      "## 7. Follow-Up Questions\n",
      "- How do the interoperability standards like the Model Context Protocol influence the future integration of AI systems?\n",
      "- What role do decentralized AI agents play in the future of digital finance?\n",
      "- How can the features of these frameworks be leveraged for specific industry applications, like healthcare or education?\n",
      "- What are the implications of security evaluations (DoomArena) on the deployment of AI systems in critical infrastructures?\n",
      "\n",
      "==================================================\n"
     ]
    }
   ],
   "source": [
    "# MÉTODO 1: Mostrar el reporte original en markdown\n",
    "print(\"📋 CONTENIDO DEL REPORTE (Markdown):\")\n",
    "print(\"=\" * 50)\n",
    "print(report.markdown_report)\n",
    "print(\"\\n\" + \"=\" * 50)\n"
   ]
  },
  {
   "cell_type": "markdown",
   "metadata": {},
   "source": [
    "### As always, take a look at the trace\n",
    "\n",
    "https://platform.openai.com/traces\n",
    "\n",
    "![](img/07.png)"
   ]
  },
  {
   "cell_type": "markdown",
   "metadata": {},
   "source": [
    "<table style=\"margin: 0; text-align: left; width:100%\">\n",
    "    <tr>\n",
    "        <td>\n",
    "            <span style=\"color:green\">You've reached an important moment with the course; you've created a valuable Agent using one of the latest Agent frameworks. You've upskilled, and unlocked new commercial possibilities. Take a moment to celebrate your success!<br/>\n",
    "            </span>\n",
    "        </td>\n",
    "    </tr>"
   ]
  },
  {
   "cell_type": "markdown",
   "metadata": {},
   "source": [
    "The workflow finished successfully. My three searches were completed, the process ended with “hooray,” and I received a nicely formatted HTML email. The email included a strong introduction, an overview, and detailed analysis, with references and links at the bottom that actually work. I was impressed by how professional the result looked, especially considering how little code was needed to build this system.\n",
    "\n",
    "While the initial results were somewhat simple, I realized how easy it is to expand the workflow. By increasing the number of searches to 20, I generated a much more substantial report. This new version included not only the main frameworks, but also extra information—such as specific applications, benefits, commercial implications, and a longer, richer conclusion.\n",
    "\n",
    "I could see in the trace that all the agents (planner, search, writer, and email) ran exactly as expected. The search tasks ran in parallel thanks to AsyncIO, while the report writing and emailing were done sequentially. This clear trace showed me exactly how each step of the process unfolded.\n",
    "\n",
    "Overall, I’m very satisfied with how simple, flexible, and powerful this framework is. I can see many ways to expand or adapt it for deeper or broader research, and I’d recommend experimenting with the setup to see what else it can do. Building an automated, agent-based research tool is surprisingly straightforward and effective with this approach."
   ]
  }
 ],
 "metadata": {
  "kernelspec": {
   "display_name": "agents_env",
   "language": "python",
   "name": "python3"
  },
  "language_info": {
   "codemirror_mode": {
    "name": "ipython",
    "version": 3
   },
   "file_extension": ".py",
   "mimetype": "text/x-python",
   "name": "python",
   "nbconvert_exporter": "python",
   "pygments_lexer": "ipython3",
   "version": "3.12.11"
  }
 },
 "nbformat": 4,
 "nbformat_minor": 2
}
