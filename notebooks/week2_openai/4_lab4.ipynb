{
 "cells": [
  {
   "cell_type": "markdown",
   "metadata": {},
   "source": [
    "## Deep Research\n",
    "\n",
    "This is one of the classic use cases of agentic AI — the scenario where you have an agent that can go off, search the internet, follow different links, and research a topic that you give it.\n",
    "\n",
    "We know this use case very well, since many Frontier Labs already offer this kind of agent through their online chat tools. For example, on OpenAI, you can go to GPT and press the Deep Research button — this runs the model in deep research mode, which is essentially executing an agentic workflow.\n",
    "\n",
    "So, we’re going to do just that. We’re going to give our agents the ability to do deep research, and we’ll make use of a few concepts we’ve already learned. We’re going to use tools, of course. We’re going to use structured outputs again — we touched on those briefly last time, and we’ll go a bit deeper this time. And for the first time, we’re going to use hosted tools, which are tools running remotely."
   ]
  },
  {
   "cell_type": "markdown",
   "metadata": {},
   "source": [
    "<table style=\"margin: 0; text-align: left; width:100%\">\n",
    "    <tr>\n",
    "        <td>\n",
    "            <h2 style=\"color:#00bfff;\">Commercial implications</h2>\n",
    "            <span style=\"color:#00bfff;\">A Deep Research agent is broadly applicable to any business area, and to your own day-to-day activities. You can make use of this yourself!\n",
    "            </span>\n",
    "        </td>\n",
    "</table>"
   ]
  },
  {
   "cell_type": "code",
   "execution_count": 1,
   "metadata": {},
   "outputs": [],
   "source": [
    "from agents import Agent, WebSearchTool, trace, Runner, gen_trace_id, function_tool\n",
    "from agents.model_settings import ModelSettings\n",
    "from pydantic import BaseModel, Field\n",
    "from dotenv import load_dotenv\n",
    "import asyncio\n",
    "import sendgrid\n",
    "import os\n",
    "from sendgrid.helpers.mail import Mail, Email, To, Content\n",
    "from typing import Dict\n",
    "from IPython.display import display, Markdown"
   ]
  },
  {
   "cell_type": "code",
   "execution_count": 2,
   "metadata": {},
   "outputs": [
    {
     "data": {
      "text/plain": [
       "True"
      ]
     },
     "execution_count": 2,
     "metadata": {},
     "output_type": "execute_result"
    }
   ],
   "source": [
    "load_dotenv(override=True)"
   ]
  },
  {
   "cell_type": "markdown",
   "metadata": {},
   "source": [
    "## OpenAI Hosted Tools\n",
    "\n",
    "OpenAI Agents SDK includes the following hosted tools:\n",
    "\n",
    "The `WebSearchTool` lets an agent search the web.  \n",
    "The `FileSearchTool` allows retrieving information from your OpenAI Vector Stores.  \n",
    "The `ComputerTool` allows automating computer use tasks like taking screenshots and clicking.\n",
    "\n",
    "### Important note - API charge of WebSearchTool\n",
    "\n",
    "This is costing me 2.5 cents per call for OpenAI WebSearchTool. That can add up to $2-$3 for the next 2 labs. We'll use low cost Search tools with other platforms, so feel free to skip running this if the cost is a concern.\n",
    "\n",
    "Costs are here: https://platform.openai.com/docs/pricing#web-search\n",
    "\n",
    "**Cheaper Alternatives**\n",
    "You can use free search tools or more affordable APIs such as:\n",
    "\n",
    "* **SerpAPI** with a free tier\n",
    "* **Bing Search API** (via Azure)\n",
    "* **DuckDuckGo Instant Answer API** (free)\n",
    "* **Custom scraping** with **BeautifulSoup + Requests**\n"
   ]
  },
  {
   "cell_type": "code",
   "execution_count": 3,
   "metadata": {},
   "outputs": [],
   "source": [
    "INSTRUCTIONS = \"You are a research assistant. Given a search term, you search the web for that term and \\\n",
    "produce a concise summary of the results. The summary must 2-3 paragraphs and less than 300 \\\n",
    "words. Capture the main points. Write succintly, no need to have complete sentences or good \\\n",
    "grammar. This will be consumed by someone synthesizing a report, so it's vital you capture the \\\n",
    "essence and ignore any fluff. Do not include any additional commentary other than the summary itself.\"\n",
    "\n",
    "search_agent = Agent(\n",
    "    name=\"Search agent\",\n",
    "    instructions=INSTRUCTIONS,\n",
    "    tools=[WebSearchTool(search_context_size=\"low\")], # low context size is cheaper\n",
    "    model=\"gpt-4o-mini\",\n",
    "    model_settings=ModelSettings(tool_choice=\"required\"), # required to use the tool\n",
    ")"
   ]
  },
  {
   "cell_type": "markdown",
   "metadata": {},
   "source": [
    "It's a very clearly written set of INSTRUCTIONS, and while I'd love to take credit for it, I have to confess that I took it verbatim from OpenAI's documentation on how to perform web searches using their tool. So, we can safely assume it's a well-crafted prompt — after all, it's written by the people who built the model."
   ]
  },
  {
   "cell_type": "code",
   "execution_count": 4,
   "metadata": {},
   "outputs": [
    {
     "data": {
      "text/markdown": [
       "As of July 2025, several AI agent frameworks have emerged, each offering unique capabilities for developing intelligent, autonomous systems.\n",
       "\n",
       "**LangChain** is a prominent open-source framework that enables developers to build applications powered by large language models (LLMs). Its modular design supports various LLMs, prompt templates, agent modules for task automation, memory systems for context retention, and dynamic retrieval components for real-time data access. LangChain's extensive support for third-party integrations, from cloud providers to search engines, makes it highly adaptable to a wide range of applications such as conversational agents, document analysis, and code generation. ([dev.to](https://dev.to/surgedatalab/best-5-frameworks-for-agentic-ai-in-2025-enabling-next-gen-intelligent-multi-agent-systems-40ce?utm_source=openai))\n",
       "\n",
       "**LangGraph** extends LangChain by introducing a graph-based system for managing the flow of data between agents. This approach is particularly useful for applications requiring complex decision-making processes, such as loan processing, insurance claims, or workflow automation. LangGraph allows developers to define agents as state machines, where each node represents a step in the workflow, and edges define possible transitions, supporting loops, conditional branching, and persistent state. ([phyniks.com](https://phyniks.com/blog/top-7-agentic-ai-frameworks-in-2025?utm_source=openai))\n",
       "\n",
       "**AutoGen**, developed by Microsoft, offers a high-level approach to building multi-agent applications. It enables agents to communicate and collaborate in natural language, facilitating tasks like strategy development, legal research, and data-driven planning. AutoGen includes built-in agents such as AssistantAgent, UserProxyAgent, and GroupChatManager, and features AutoGen Studio, a graphical UI for prototyping and testing agents. ([phyniks.com](https://phyniks.com/blog/top-7-agentic-ai-frameworks-in-2025?utm_source=openai))\n",
       "\n",
       "**CrewAI** is designed for orchestrating autonomous AI agents to collaborate effectively. It allows developers to define agent roles, responsibilities, and interaction styles, making it easier to build complex workflows where specialization and collaboration are essential. CrewAI focuses on role-based agent design, task management, process orchestration, and tool integration. ([dev.to](https://dev.to/voltagent/top-5-ai-agent-frameworks-in-2025-4gab?utm_source=openai))\n",
       "\n",
       "**Eliza** is an open-source, Web3-friendly AI agent operating system that seamlessly integrates with blockchain applications. It allows developers to create AI agents capable of interacting with smart contracts and blockchain data, facilitating the deployment of decentralized applications. ([arxiv.org](https://arxiv.org/abs/2501.06781?utm_source=openai))\n",
       "\n",
       "**AutoAgent** is a fully automated, zero-code framework for LLM agents, enabling users to create and deploy agents through natural language alone. It comprises components like Agentic System Utilities, an LLM-powered Actionable Engine, a Self-Managing File System, and a Self-Play Agent Customization module, facilitating efficient and dynamic creation and modification of tools, agents, and workflows without coding requirements. ([arxiv.org](https://arxiv.org/abs/2502.05957?utm_source=openai))\n",
       "\n",
       "These frameworks represent the forefront of AI agent development, each catering to different needs and applications in the rapidly evolving field of artificial intelligence. "
      ],
      "text/plain": [
       "<IPython.core.display.Markdown object>"
      ]
     },
     "metadata": {},
     "output_type": "display_data"
    }
   ],
   "source": [
    "message = \"Latest AI Agent frameworks in 2025\"\n",
    "\n",
    "with trace(\"Search\"):\n",
    "    result = await Runner.run(search_agent, message)\n",
    "\n",
    "display(Markdown(result.final_output))"
   ]
  },
  {
   "cell_type": "markdown",
   "metadata": {},
   "source": [
    "### As always, take a look at the trace\n",
    "\n",
    "https://platform.openai.com/traces"
   ]
  },
  {
   "cell_type": "markdown",
   "metadata": {},
   "source": [
    "### We will now use Structured Outputs, and include a description of the fields\n",
    "\n",
    "We're going to make heavier use of structured outputs than we did with the last agent. So now, we’ll work on a new agent, which we’ll call the planner agent. This agent will be responsible for taking a query and coming up with a handful of search queries it should run in order to perform deep research.\n",
    "\n",
    "Now, I’m going to limit the number of searches to three, since — as I mentioned — each search costs 2.5 cents, and I’d rather not end up with a big bill.\n",
    "\n",
    "When I first tried this, I had the agent run 10 searches, so you can definitely increase that number. You’ll generally get better results with more searches, but it really comes down to personal preference.\n",
    "\n",
    "I recommend starting with three — it'll cost you around 10 to 20 cents, and if you're enjoying the process, go ahead and splurge a little. Spend 50 cents and get a rich, comprehensive result."
   ]
  },
  {
   "cell_type": "code",
   "execution_count": 5,
   "metadata": {},
   "outputs": [],
   "source": [
    "# See note above about cost of WebSearchTool\n",
    "\n",
    "HOW_MANY_SEARCHES = 3\n",
    "\n",
    "INSTRUCTIONS = f\"You are a helpful research assistant. Given a query, come up with a set of web searches \\\n",
    "to perform to best answer the query. Output {HOW_MANY_SEARCHES} terms to query for.\"\n",
    "\n",
    "# Use Pydantic to define the Schema of our response - this is known as \"Structured Outputs\"\n",
    "\n",
    "\n",
    "# ⬇️ STRUCTURED OUTPUTS SECTION\n",
    "# We define the expected structure of the agent’s response using Pydantic models.\n",
    "# This ensures the LLM outputs are parsable, validated, and predictable.\n",
    "\n",
    "# WebSearchItem represents a *single* search the agent proposes.\n",
    "class WebSearchItem(BaseModel):\n",
    "    # Why this search is useful — agent must justify its choice\n",
    "    reason: str = Field(description=\"Your reasoning for why this search is important to the query.\")\n",
    "    \n",
    "    # The actual search term string that should be passed to the search tool\n",
    "    query: str = Field(description=\"The search term to use for the web search.\")\n",
    "\n",
    "\n",
    "# WebSearchPlan is the overall structure of the agent's response\n",
    "# It consists of a list of individual WebSearchItem entries.\n",
    "class WebSearchPlan(BaseModel):\n",
    "    # The list of searches the planner agent will generate\n",
    "    # This is the structured result we expect from the agent\n",
    "    searches: list[WebSearchItem] = Field(description=\"A list of web searches to perform to best answer the query.\")\n",
    "\n",
    "planner_agent = Agent(\n",
    "    name=\"PlannerAgent\",\n",
    "    instructions=INSTRUCTIONS,\n",
    "    model=\"gpt-4o-mini\",\n",
    "    output_type=WebSearchPlan,  # This is the key part: it tells the agent that its output\n",
    "                                # must follow the schema defined in the WebSearchPlan Pydantic class.\n",
    "                                # That means: a list of search items, each with a reason and query.\n",
    ")"
   ]
  },
  {
   "cell_type": "markdown",
   "metadata": {},
   "source": [
    "Previously, we simply performed an internet search on the latest AI frameworks in 2025. What we’re going to do now is different — we’re not going to do any searching at all. Instead, we’ll use the planner agent to generate three relevant web search queries based on that topic.\n",
    "\n",
    "We expect the agent to respond with an object of type WebSearchPlan. So let’s run it and print the result.\n",
    "\n",
    "What we get back is an object with a field called searches, which contains the list of generated search items..."
   ]
  },
  {
   "cell_type": "code",
   "execution_count": 6,
   "metadata": {},
   "outputs": [
    {
     "name": "stdout",
     "output_type": "stream",
     "text": [
      "searches=[WebSearchItem(reason='To find the most current frameworks for AI agents released or recognized in 2025.', query='Latest AI Agent frameworks 2025'), WebSearchItem(reason='To explore detailed analyses and reviews of AI agent frameworks that are trending in 2025.', query='AI agent frameworks review 2025'), WebSearchItem(reason='To examine emerging technologies and frameworks related to AI agents for 2025.', query='emerging AI frameworks 2025')]\n"
     ]
    }
   ],
   "source": [
    "\n",
    "message = \"Latest AI Agent frameworks in 2025\"\n",
    "\n",
    "with trace(\"Search\"):\n",
    "    result = await Runner.run(planner_agent, message)\n",
    "    print(result.final_output)"
   ]
  },
  {
   "cell_type": "code",
   "execution_count": 7,
   "metadata": {},
   "outputs": [
    {
     "name": "stdout",
     "output_type": "stream",
     "text": [
      "{\n",
      "    \"searches\": [\n",
      "        {\n",
      "            \"reason\": \"To find the most current frameworks for AI agents released or recognized in 2025.\",\n",
      "            \"query\": \"Latest AI Agent frameworks 2025\"\n",
      "        },\n",
      "        {\n",
      "            \"reason\": \"To explore detailed analyses and reviews of AI agent frameworks that are trending in 2025.\",\n",
      "            \"query\": \"AI agent frameworks review 2025\"\n",
      "        },\n",
      "        {\n",
      "            \"reason\": \"To examine emerging technologies and frameworks related to AI agents for 2025.\",\n",
      "            \"query\": \"emerging AI frameworks 2025\"\n",
      "        }\n",
      "    ]\n",
      "}\n"
     ]
    }
   ],
   "source": [
    "import json\n",
    "\n",
    "# Convert to dict using Pydantic's method\n",
    "print(json.dumps(result.final_output.model_dump(), indent=4))\n"
   ]
  },
  {
   "cell_type": "markdown",
   "metadata": {},
   "source": [
    "**The same function as before in lab3 `send_email()`**"
   ]
  },
  {
   "cell_type": "code",
   "execution_count": 8,
   "metadata": {},
   "outputs": [
    {
     "name": "stdout",
     "output_type": "stream",
     "text": [
      "📧 Email sending function configured with Resend\n"
     ]
    }
   ],
   "source": [
    "@function_tool\n",
    "def send_email(subject: str, html_body: str) -> Dict[str, str]:\n",
    "    \"\"\"\n",
    "    Send out an email with the given subject and HTML body \n",
    "    to all sales prospects using Resend\n",
    "    \"\"\"\n",
    "    import os\n",
    "    import requests\n",
    "\n",
    "    # Get email addresses from environment variables\n",
    "    from_email = os.getenv(\"FROM_EMAIL\", \"onboarding@resend.dev\")\n",
    "    to_email = os.getenv(\"TO_EMAIL\", \"alexjustdata@gmail.com\")\n",
    "    \n",
    "    # Get the Resend API key from environment variable\n",
    "    api_key = os.getenv(\"RESEND_API_KEY\")\n",
    "    \n",
    "    # Validate that RESEND_API_KEY is available\n",
    "    if not api_key:\n",
    "        return {\"status\": \"failure\", \n",
    "                \"message\": \"RESEND_API_KEY not found in environment variables\"}\n",
    "    \n",
    "    headers = {\n",
    "        \"Authorization\": f\"Bearer {api_key}\",\n",
    "        \"Content-Type\": \"application/json\"\n",
    "    }\n",
    "\n",
    "    # Directly use the provided HTML body (no extra formatting or conversion)\n",
    "    formatted_html = html_body\n",
    "    \n",
    "    payload = {\n",
    "        \"from\": f\"Alex <{from_email}>\",\n",
    "        \"to\": [to_email],\n",
    "        \"subject\": subject,\n",
    "        \"html\": formatted_html\n",
    "    }\n",
    "    \n",
    "    try:\n",
    "        response = requests.post(\n",
    "            \"https://api.resend.com/emails\", \n",
    "            json=payload, \n",
    "            headers=headers\n",
    "        )\n",
    "        \n",
    "        # Add debugging information\n",
    "        print(f\"Request payload: {payload}\")\n",
    "        print(f\"Response status: {response.status_code}\")\n",
    "        print(f\"Response body: {response.text}\")\n",
    "        \n",
    "        if response.status_code == 200 or response.status_code == 202:\n",
    "            return {\"status\": \"success\", \n",
    "                    \"message\": \"HTML email sent successfully\", \n",
    "                    \"response\": response.text}\n",
    "        else:\n",
    "            return {\"status\": \"failure\", \n",
    "                    \"message\": response.text, \n",
    "                    \"status_code\": response.status_code}\n",
    "            \n",
    "    except Exception as e:\n",
    "        return {\"status\": \"error\", \n",
    "                \"message\": f\"Exception occurred: {str(e)}\"}\n",
    "\n",
    "print(\"📧 Email sending function configured with Resend\")\n",
    "\n"
   ]
  },
  {
   "cell_type": "code",
   "execution_count": 9,
   "metadata": {},
   "outputs": [
    {
     "data": {
      "text/plain": [
       "FunctionTool(name='send_email', description='Send out an email with the given subject and HTML body \\nto all sales prospects using Resend', params_json_schema={'properties': {'subject': {'title': 'Subject', 'type': 'string'}, 'html_body': {'title': 'Html Body', 'type': 'string'}}, 'required': ['subject', 'html_body'], 'title': 'send_email_args', 'type': 'object', 'additionalProperties': False}, on_invoke_tool=<function function_tool.<locals>._create_function_tool.<locals>._on_invoke_tool at 0x10f006a20>, strict_json_schema=True, is_enabled=True)"
      ]
     },
     "execution_count": 9,
     "metadata": {},
     "output_type": "execute_result"
    }
   ],
   "source": [
    "send_email\n",
    "\n"
   ]
  },
  {
   "cell_type": "code",
   "execution_count": 10,
   "metadata": {},
   "outputs": [],
   "source": [
    "INSTRUCTIONS = \"\"\"You are able to send a nicely formatted HTML email based on a detailed report.\n",
    "You will be provided with a detailed report. You should use your tool to send one email, providing the \n",
    "report converted into clean, well presented HTML with an appropriate subject line.\"\"\"\n",
    "\n",
    "email_agent = Agent(\n",
    "    name=\"Email agent\",\n",
    "    instructions=INSTRUCTIONS,\n",
    "    tools=[send_email],\n",
    "    model=\"gpt-4o-mini\",\n",
    ")\n",
    "\n"
   ]
  },
  {
   "cell_type": "code",
   "execution_count": 11,
   "metadata": {},
   "outputs": [],
   "source": [
    "INSTRUCTIONS = (\n",
    "    \"You are a senior researcher tasked with writing a cohesive report for a research query. \"\n",
    "    \"You will be provided with the original query, and some initial research done by a research assistant.\\n\"\n",
    "    \"You should first come up with an outline for the report that describes the structure and \"\n",
    "    \"flow of the report. Then, generate the report and return that as your final output.\\n\"\n",
    "    \"The final output should be in markdown format, and it should be lengthy and detailed. Aim \"\n",
    "    \"for 5-10 pages of content, at least 1000 words.\"\n",
    ")\n",
    "\n",
    "\n",
    "from pydantic import BaseModel, Field\n",
    "\n",
    "class ReportData(BaseModel):\n",
    "    # A brief summary of the findings (2-3 sentences), useful for quickly presenting the main conclusion\n",
    "    short_summary: str = Field(\n",
    "        description=\"A short 2-3 sentence summary of the findings.\"\n",
    "    )\n",
    "    \n",
    "    # The complete final report in Markdown format (can include tables, lists, charts, etc.)\n",
    "    markdown_report: str = Field(\n",
    "        description=\"The final report\"\n",
    "    )\n",
    "\n",
    "    # A list of suggested follow-up topics or questions for further research (helpful for iteration or deeper analysis)\n",
    "    follow_up_questions: list[str] = Field(\n",
    "        description=\"Suggested topics to research further\"\n",
    "    )\n",
    "\n",
    "\n",
    "\n",
    "writer_agent = Agent(\n",
    "    name=\"WriterAgent\",\n",
    "    instructions=INSTRUCTIONS,\n",
    "    model=\"gpt-4o-mini\",\n",
    "    output_type=ReportData,\n",
    ")"
   ]
  },
  {
   "cell_type": "markdown",
   "metadata": {},
   "source": [
    "### The next 3 functions will plan and execute the search, using planner_agent and search_agent\n",
    "\n",
    "\n",
    "`Planning Searches`\n",
    "\n",
    "\n",
    "* **Purpose:**\n",
    "  Calls the **planner\\_agent** to analyze the user's query and determine a list of web searches to perform.\n",
    "* **How:**\n",
    "\n",
    "  * Passes the query to `planner_agent` using `Runner.run`.\n",
    "  * Receives a plan, which includes a list of `WebSearchItem`s (i.e., what to search for).\n",
    "  * Prints the number of planned searches.\n",
    "  * Returns the search plan.\n",
    "\n",
    "`Performing Searches`\n",
    "\n",
    "* **Purpose:**\n",
    "  Executes all searches in the plan **in parallel**.\n",
    "* **How:**\n",
    "\n",
    "  * For each search item, creates an asynchronous task to call the `search()` function.\n",
    "  * Uses `asyncio.gather` to run all tasks simultaneously and collect the results.\n",
    "  * Prints status messages before and after.\n",
    "  * Returns the list of search results.\n",
    "\n",
    "`Performing a Single Search`\n",
    "\n",
    "\n",
    "* **Purpose:**\n",
    "  Uses the **search\\_agent** to run a web search for a given search item.\n",
    "* **How:**\n",
    "\n",
    "  * Formats the input to include both the search term and the reason for the search (for better context).\n",
    "  * Calls `search_agent` using `Runner.run` and waits for the result.\n",
    "  * Returns the search output.\n",
    "\n"
   ]
  },
  {
   "cell_type": "code",
   "execution_count": 12,
   "metadata": {},
   "outputs": [],
   "source": [
    "async def plan_searches(query: str):\n",
    "    \"\"\" Use the planner_agent to plan which searches to run for the query \"\"\"\n",
    "    print(\"Planning searches...\")\n",
    "    result = await Runner.run(planner_agent, f\"Query: {query}\")\n",
    "    print(f\"Will perform {len(result.final_output.searches)} searches\")\n",
    "    return result.final_output\n",
    "\n",
    "async def perform_searches(search_plan: WebSearchPlan):\n",
    "    \"\"\" Call search() for each item in the search plan \"\"\"\n",
    "    print(\"Searching...\")\n",
    "    tasks = [asyncio.create_task(search(item)) for item in search_plan.searches]\n",
    "    results = await asyncio.gather(*tasks)\n",
    "    print(\"Finished searching\")\n",
    "    return results\n",
    "\n",
    "async def search(item: WebSearchItem):\n",
    "    \"\"\" Use the search agent to run a web search for each item in the search plan \"\"\"\n",
    "    input = f\"Search term: {item.query}\\nReason for searching: {item.reason}\"\n",
    "    result = await Runner.run(search_agent, input)\n",
    "    return result.final_output"
   ]
  },
  {
   "cell_type": "markdown",
   "metadata": {},
   "source": [
    "### The next 2 functions write a report and email it\n",
    "\n",
    "``Writing the Report``\n",
    "\n",
    "* **Purpose:**\n",
    "  Uses the **writer\\_agent** to create a human-readable report based on the original query and the summarized search results.\n",
    "* **How:**\n",
    "\n",
    "  * Formats the input with both the original query and the results of all searches.\n",
    "  * Calls `writer_agent` using `Runner.run` and waits for the result.\n",
    "  * Prints status messages before and after.\n",
    "  * Returns the final report.\n",
    "\n",
    "\n",
    "`Sending the Report via Email`\n",
    "\n",
    "* **Purpose:**\n",
    "  Uses the **email\\_agent** to send the generated report via email.\n",
    "* **How:**\n",
    "\n",
    "  * Passes the report content (in Markdown format) to the `email_agent` via `Runner.run`.\n",
    "  * Prints status messages before and after sending.\n",
    "  * Returns the report (can be used for logging or confirmation)."
   ]
  },
  {
   "cell_type": "code",
   "execution_count": 13,
   "metadata": {},
   "outputs": [],
   "source": [
    "async def write_report(query: str, search_results: list[str]):\n",
    "    \"\"\" Use the writer agent to write a report based on the search results\"\"\"\n",
    "    print(\"Thinking about report...\")\n",
    "    input = f\"Original query: {query}\\nSummarized search results: {search_results}\"\n",
    "    result = await Runner.run(writer_agent, input)\n",
    "    print(\"Finished writing report\")\n",
    "    return result.final_output\n",
    "\n",
    "async def send_email(report: ReportData):\n",
    "    \"\"\" Use the email agent to send an email with the report \"\"\"\n",
    "    print(\"Writing email...\")\n",
    "    result = await Runner.run(email_agent, report.markdown_report)\n",
    "    print(\"Email sent\")\n",
    "    return report"
   ]
  },
  {
   "cell_type": "markdown",
   "metadata": {},
   "source": [
    "### Showtime!"
   ]
  },
  {
   "cell_type": "code",
   "execution_count": 14,
   "metadata": {},
   "outputs": [
    {
     "name": "stdout",
     "output_type": "stream",
     "text": [
      "Starting research...\n",
      "Planning searches...\n"
     ]
    },
    {
     "name": "stdout",
     "output_type": "stream",
     "text": [
      "Will perform 3 searches\n",
      "Searching...\n",
      "Finished searching\n",
      "Thinking about report...\n",
      "Finished writing report\n",
      "Writing email...\n",
      "Request payload: {'from': 'Alex <onboarding@resend.dev>', 'to': ['alexjustdata@gmail.com'], 'subject': 'Report on Latest AI Agent Frameworks in 2025', 'html': \"<html>\\n<head>\\n    <title>Report on Latest AI Agent Frameworks in 2025</title>\\n    <style>\\n        body { font-family: Arial, sans-serif; line-height: 1.6; margin: 20px; }\\n        h1 { color: #333; }\\n        h2 { color: #555; }\\n        h3 { color: #777; }\\n        p { margin: 10px 0; }\\n        ul { margin: 10px 0; padding: 0 20px; }\\n        strong { color: #000; }\\n        .section { margin-bottom: 20px; }\\n    </style>\\n</head>\\n<body>\\n    <h1>Report on Latest AI Agent Frameworks in 2025</h1>\\n    <div class='section'>\\n        <h2>Executive Summary</h2>\\n        <p>In 2025, the landscape of artificial intelligence has been significantly enriched by the emergence of advanced AI agent frameworks that facilitate the development of autonomous systems. These frameworks reflect a focus on improving collaboration, integration, and functionality across diverse applications. This report provides an overview of the notable AI frameworks of 2025, detailing their unique features, advantages, and potential use cases.</p>\\n    </div>\\n    <div class='section'>\\n        <h2>1. Introduction</h2>\\n        <p>As we move deeper into the 21st century, artificial intelligence continues to revolutionize various fields. The year 2025 marks a significant leap in the capabilities and functionalities of AI agents, driven by enhanced frameworks that allow developers to create more complex and autonomous systems. These frameworks not only support language models but also integrate functions across different domains, contributing to advancements in multi-agent systems, blockchain technologies, and enterprise applications.</p>\\n    </div>\\n    <div class='section'>\\n        <h2>2. Overview of AI Agent Frameworks in 2025</h2>\\n        <p>Several frameworks have emerged in 2025, each designed with specific roles and functionalities tailored to streamline the development process of AI agents. The following section outlines the most prominent frameworks:</p>\\n        <h3>2.1 LangChain</h3>\\n        <p><strong>LangChain</strong> is a versatile Python-based framework that facilitates the creation of applications leveraging large language models (LLMs). Known for its modular design, LangChain allows developers to integrate various components, such as tools and memory systems, which enhances the framework’s applicability for diverse tasks, including autonomous agents and interactive chatbots. Its comprehensive API supports powerful integrations that enable complex workflows and applications.</p>\\n        <h3>2.2 AutoGen (Microsoft)</h3>\\n        <p>Developed by Microsoft, <strong>AutoGen</strong> stands out as a multi-agent system designed for seamless collaboration between agents. Its architectural foundation supports natural language communication among agents, making it ideal for tasks such as planning and code generation. The inclusion of a graphical interface reduces the technical burden on developers by streamlining the prototyping process, ultimately enhancing efficiency and productivity.</p>\\n        <h3>2.3 CrewAI</h3>\\n        <p><strong>CrewAI</strong> focuses on role-based collaboration among agents, where each agent occupies a specialized role that contributes to a structured workflow. This design is especially effective for applications in data science, writing, and research, where distinct roles (e.g., Planner, Coder, Critic) lead to improved coordination and higher-quality outcomes.</p>\\n        <h3>2.4 LangGraph</h3>\\n        <p>An extension of LangChain, <strong>LangGraph</strong> introduces state machine representations for agents, allowing developers to manage complex workflows effectively. This framework excels in situations demanding precise control over agent interactions and data flow, making it well-suited for applications requiring deterministic behaviors.</p>\\n        <h3>2.5 Eliza</h3>\\n        <p><strong>Eliza</strong> is an innovative, open-source framework that integrates AI agents with blockchain technology. Its Web3-friendly design facilitates smooth interactions with smart contracts, promoting a higher level of interoperability among decentralized applications (dApps). This framework signifies a notable shift toward integrating reliable AI interactions within blockchain ecosystems.</p>\\n        <h3>2.6 AutoAgent</h3>\\n        <p><strong>AutoAgent</strong> offers a zero-code environment tailored for the creation of LLM agents. Through simple natural language instructions, users can deploy agents, making this framework particularly advantageous for non-technical users or smaller enterprises looking to harness AI without high development overhead.</p>\\n        <h3>2.7 OpenAI Operator</h3>\\n        <p>The <strong>OpenAI Operator</strong> is designed to autonomously execute web-based tasks, such as form submissions and online orders, facilitating practical automation solutions in everyday applications. This framework enhances the efficiency of routine digital tasks, showcasing the increasing relevance of AI in daily life.</p>\\n        <h3>2.8 Semantic Kernel</h3>\\n        <p>Another advancement from Microsoft, <strong>Semantic Kernel</strong>, is tailored toward enterprise applications, allowing for easy embedding of AI into existing systems through a lightweight plugin model. Its model-agnostic framework supports multiple programming languages, catering to diverse technological stacks in enterprise environments.</p>\\n        <h3>2.9 OpenAI’s Agents SDK (Swarm)</h3>\\n        <p>The <strong>Agents SDK (Swarm)</strong> from OpenAI introduces foundational principles for building autonomous agents. It emphasizes structured workflows through core primitives such as agents, tools, and handoffs, optimizing the framework for execution in environments that utilize OpenAI’s latest models.</p>\\n        <h3>2.10 SuperAGI</h3>\\n        <p><strong>SuperAGI</strong> is positioned as a comprehensive agent operating system, offering robust runtime management and monitoring capabilities for multiple concurrent agents. It’s designed for applications that require sustained interactions and memory persistence, ideal for long-term AI projects needing continuous learning and adaptation.</p>\\n    </div>\\n    <div class='section'>\\n        <h2>3. Trends Shaping AI Framework Development</h2>\\n        <p>In 2025, the evolution of AI agent frameworks is influenced by several trends:</p>\\n        <ul>\\n            <li><strong>Increased Collaboration</strong>: Frameworks are being designed to enhance collaboration between agents, mimicking human teamwork to solve complex problems effectively.</li>\\n            <li><strong>Accessibility</strong>: The emergence of zero-code solutions like AutoAgent is democratizing access to AI, allowing more users to create agents without extensive technical knowledge.</li>\\n            <li><strong>Integration with Blockchain</strong>: Platforms like Eliza illustrate the trend towards integrating AI functionality with blockchain, paving the way for decentralized solutions.</li>\\n            <li><strong>Enterprise Adoption</strong>: Companies like Microsoft are investing in tools (e.g., Semantic Kernel) that ease the embedding of AI technologies into existing enterprise infrastructures, thereby accelerating adoption in business environments.</li>\\n        </ul>\\n    </div>\\n    <div class='section'>\\n        <h2>4. Comparative Analysis of Frameworks</h2>\\n        <p>When choosing among these frameworks, it’s essential to consider:</p>\\n        <ul>\\n            <li><strong>Modular Design</strong>: LangChain and its extensions provide modular solutions suited for bespoke applications.</li>\\n            <li><strong>Multi-Agent Support</strong>: Frameworks like AutoGen emphasize collaboration, making them ideal for projects requiring teamwork among multiple agents.</li>\\n            <li><strong>Enterprise Integration</strong>: Semantic Kernel is explicitly crafted for embedding AI within enterprise contexts, making it the framework of choice for large organizations.</li>\\n            <li><strong>Accessibility</strong>: AutoAgent stands out in terms of user-friendliness for those without a technical background.</li>\\n        </ul>\\n    </div>\\n    <div class='section'>\\n        <h2>5. Conclusion</h2>\\n        <p>The development of AI agent frameworks in 2025 signifies a remarkable transformation in the capabilities and functionalities of artificial intelligence. As organizations increasingly leverage these frameworks, the potential for innovation across industries grows exponentially. Future research and development within this domain should aim to enhance interoperability, expand capabilities, and cater to ever-evolving market demands.</p>\\n    </div>\\n    <div class='section'>\\n        <h2>6. Follow-Up Questions</h2>\\n        <ul>\\n            <li>What specific industries can benefit most from the adoption of these frameworks?</li>\\n            <li>How can interdisciplinary collaboration improve the development of AI agent frameworks?</li>\\n            <li>What measures can organizations take to ensure ethical deployment of AI agents?</li>\\n            <li>How do these frameworks handle data privacy and security concerns associated with AI?</li>\\n            <li>What potential challenges do developers face when integrating these frameworks into existing systems?</li>\\n        </ul>\\n    </div>\\n    <p><strong>Note</strong>: Additional research and practical implementations of the frameworks discussed in this report will provide further insight into their capabilities and long-range implications.</p>\\n</body>\\n</html>\"}\n",
      "Response status: 200\n",
      "Response body: {\"id\":\"d0eaec87-349b-40da-991b-4872e4f02bce\"}\n",
      "Email sent\n",
      "Hooray!\n"
     ]
    }
   ],
   "source": [
    "query =\"Latest AI Agent frameworks in 2025\"\n",
    "\n",
    "with trace(\"Research trace\"):\n",
    "    print(\"Starting research...\")\n",
    "    search_plan = await plan_searches(query)\n",
    "    search_results = await perform_searches(search_plan)\n",
    "    report = await write_report(query, search_results)\n",
    "    await send_email(report)  \n",
    "    print(\"Hooray!\")\n",
    "\n"
   ]
  },
  {
   "cell_type": "code",
   "execution_count": 16,
   "metadata": {},
   "outputs": [
    {
     "name": "stdout",
     "output_type": "stream",
     "text": [
      "📋 REPORT (Markdown):\n",
      "==================================================\n",
      "# Report on Latest AI Agent Frameworks in 2025\n",
      "\n",
      "## Executive Summary  \n",
      "In 2025, the landscape of artificial intelligence has been significantly enriched by the emergence of advanced AI agent frameworks that facilitate the development of autonomous systems. These frameworks reflect a focus on improving collaboration, integration, and functionality across diverse applications. This report provides an overview of the notable AI frameworks of 2025, detailing their unique features, advantages, and potential use cases.\n",
      "\n",
      "\n",
      "## 1. Introduction  \n",
      "As we move deeper into the 21st century, artificial intelligence continues to revolutionize various fields. The year 2025 marks a significant leap in the capabilities and functionalities of AI agents, driven by enhanced frameworks that allow developers to create more complex and autonomous systems. These frameworks not only support language models but also integrate functions across different domains, contributing to advancements in multi-agent systems, blockchain technologies, and enterprise applications.\n",
      "\n",
      "## 2. Overview of AI Agent Frameworks in 2025  \n",
      "Several frameworks have emerged in 2025, each designed with specific roles and functionalities tailored to streamline the development process of AI agents. The following section outlines the most prominent frameworks:\n",
      "\n",
      "### 2.1 LangChain  \n",
      "**LangChain** is a versatile Python-based framework that facilitates the creation of applications leveraging large language models (LLMs). Known for its modular design, LangChain allows developers to integrate various components, such as tools and memory systems, which enhances the framework’s applicability for diverse tasks, including autonomous agents and interactive chatbots. Its comprehensive API supports powerful integrations that enable complex workflows and applications.\n",
      "\n",
      "### 2.2 AutoGen (Microsoft)  \n",
      "Developed by Microsoft, **AutoGen** stands out as a multi-agent system designed for seamless collaboration between agents. Its architectural foundation supports natural language communication among agents, making it ideal for tasks such as planning and code generation. The inclusion of a graphical interface reduces the technical burden on developers by streamlining the prototyping process, ultimately enhancing efficiency and productivity.\n",
      "\n",
      "### 2.3 CrewAI  \n",
      "**CrewAI** focuses on role-based collaboration among agents, where each agent occupies a specialized role that contributes to a structured workflow. This design is especially effective for applications in data science, writing, and research, where distinct roles (e.g., Planner, Coder, Critic) lead to improved coordination and higher-quality outcomes.\n",
      "\n",
      "### 2.4 LangGraph  \n",
      "An extension of LangChain, **LangGraph** introduces state machine representations for agents, allowing developers to manage complex workflows effectively. This framework excels in situations demanding precise control over agent interactions and data flow, making it well-suited for applications requiring deterministic behaviors.\n",
      "\n",
      "### 2.5 Eliza  \n",
      "**Eliza** is an innovative, open-source framework that integrates AI agents with blockchain technology. Its Web3-friendly design facilitates smooth interactions with smart contracts, promoting a higher level of interoperability among decentralized applications (dApps). This framework signifies a notable shift toward integrating reliable AI interactions within blockchain ecosystems.\n",
      "\n",
      "### 2.6 AutoAgent  \n",
      "**AutoAgent** offers a zero-code environment tailored for the creation of LLM agents. Through simple natural language instructions, users can deploy agents, making this framework particularly advantageous for non-technical users or smaller enterprises looking to harness AI without high development overhead.\n",
      "\n",
      "### 2.7 OpenAI Operator  \n",
      "The **OpenAI Operator** is designed to autonomously execute web-based tasks, such as form submissions and online orders, facilitating practical automation solutions in everyday applications. This framework enhances the efficiency of routine digital tasks, showcasing the increasing relevance of AI in daily life.\n",
      "\n",
      "### 2.8 Semantic Kernel  \n",
      "Another advancement from Microsoft, **Semantic Kernel**, is tailored toward enterprise applications, allowing for easy embedding of AI into existing systems through a lightweight plugin model. Its model-agnostic framework supports multiple programming languages, catering to diverse technological stacks in enterprise environments.\n",
      "\n",
      "### 2.9 OpenAI’s Agents SDK (Swarm)  \n",
      "The **Agents SDK (Swarm)** from OpenAI introduces foundational principles for building autonomous agents. It emphasizes structured workflows through core primitives such as agents, tools, and handoffs, optimizing the framework for execution in environments that utilize OpenAI’s latest models.\n",
      "\n",
      "### 2.10 SuperAGI  \n",
      "**SuperAGI** is positioned as a comprehensive agent operating system, offering robust runtime management and monitoring capabilities for multiple concurrent agents. It’s designed for applications that require sustained interactions and memory persistence, ideal for long-term AI projects needing continuous learning and adaptation.\n",
      "\n",
      "## 3. Trends Shaping AI Framework Development  \n",
      "In 2025, the evolution of AI agent frameworks is influenced by several trends:\n",
      "- **Increased Collaboration**: Frameworks are being designed to enhance collaboration between agents, mimicking human teamwork to solve complex problems effectively.\n",
      "- **Accessibility**: The emergence of zero-code solutions like AutoAgent is democratizing access to AI, allowing more users to create agents without extensive technical knowledge.\n",
      "- **Integration with Blockchain**: Platforms like Eliza illustrate the trend towards integrating AI functionality with blockchain, paving the way for decentralized solutions.\n",
      "- **Enterprise Adoption**: Companies like Microsoft are investing in tools (e.g., Semantic Kernel) that ease the embedding of AI technologies into existing enterprise infrastructures, thereby accelerating adoption in business environments.\n",
      "\n",
      "## 4. Comparative Analysis of Frameworks  \n",
      "When choosing among these frameworks, it’s essential to consider:  \n",
      "- **Modular Design**: LangChain and its extensions provide modular solutions suited for bespoke applications.  \n",
      "- **Multi-Agent Support**: Frameworks like AutoGen emphasize collaboration, making them ideal for projects requiring teamwork among multiple agents.  \n",
      "- **Enterprise Integration**: Semantic Kernel is explicitly crafted for embedding AI within enterprise contexts, making it the framework of choice for large organizations.  \n",
      "- **Accessibility**: AutoAgent stands out in terms of user-friendliness for those without a technical background.\n",
      "\n",
      "## 5. Conclusion  \n",
      "The development of AI agent frameworks in 2025 signifies a remarkable transformation in the capabilities and functionalities of artificial intelligence. As organizations increasingly leverage these frameworks, the potential for innovation across industries grows exponentially. Future research and development within this domain should aim to enhance interoperability, expand capabilities, and cater to ever-evolving market demands.  \n",
      "\n",
      "## 6. Follow-Up Questions  \n",
      "1. What specific industries can benefit most from the adoption of these frameworks?\n",
      "2. How can interdisciplinary collaboration improve the development of AI agent frameworks?\n",
      "3. What measures can organizations take to ensure ethical deployment of AI agents?\n",
      "4. How do these frameworks handle data privacy and security concerns associated with AI?\n",
      "5. What potential challenges do developers face when integrating these frameworks into existing systems?\n",
      "\n",
      "---  \n",
      "**Note**: Additional research and practical implementations of the frameworks discussed in this report will provide further insight into their capabilities and long-range implications.\n",
      "\n",
      "==================================================\n"
     ]
    }
   ],
   "source": [
    "# original report in markdown\n",
    "print(\"📋 REPORT (Markdown):\")\n",
    "print(\"=\" * 50)\n",
    "print(report.markdown_report)\n",
    "print(\"\\n\" + \"=\" * 50)\n"
   ]
  },
  {
   "cell_type": "markdown",
   "metadata": {},
   "source": [
    "### As always, take a look at the trace\n",
    "\n",
    "https://platform.openai.com/traces\n",
    "\n",
    "![](img/07.png)"
   ]
  },
  {
   "cell_type": "markdown",
   "metadata": {},
   "source": [
    "<table style=\"margin: 0; text-align: left; width:100%\">\n",
    "    <tr>\n",
    "        <td>\n",
    "            <span style=\"color:green\">You've created a valuable Agent using one of the latest Agent frameworks. You've upskilled, and unlocked new commercial possibilities. Take a moment to celebrate your success!<br/>\n",
    "            </span>\n",
    "        </td>\n",
    "    </tr>"
   ]
  },
  {
   "cell_type": "markdown",
   "metadata": {},
   "source": [
    "The workflow finished successfully. My three searches were completed, the process ended with “hooray,” and I received a nicely formatted HTML email. The email included a strong introduction, an overview, and detailed analysis, with references and links at the bottom that actually work. I was impressed by how professional the result looked, especially considering how little code was needed to build this system.\n",
    "\n",
    "While the initial results were somewhat simple, I realized how easy it is to expand the workflow. By increasing the number of searches to 20, I generated a much more substantial report. This new version included not only the main frameworks, but also extra information—such as specific applications, benefits, commercial implications, and a longer, richer conclusion.\n",
    "\n",
    "I could see in the trace that all the agents (planner, search, writer, and email) ran exactly as expected. The search tasks ran in parallel thanks to AsyncIO, while the report writing and emailing were done sequentially. This clear trace showed me exactly how each step of the process unfolded.\n",
    "\n",
    "Overall, I’m very satisfied with how simple, flexible, and powerful this framework is. I can see many ways to expand or adapt it for deeper or broader research, and I’d recommend experimenting with the setup to see what else it can do. Building an automated, agent-based research tool is surprisingly straightforward and effective with this approach."
   ]
  },
  {
   "cell_type": "markdown",
   "metadata": {},
   "source": [
    "## Refatoring\n",
    "\n",
    "**Real Python modules**\n",
    "\n",
    "We’re going to take the Deep Research agent we built last time in a Jupyter notebook and turn it into real Python modules. And yes, we’re going to add a user interface with Gradio. "
   ]
  },
  {
   "cell_type": "raw",
   "metadata": {
    "vscode": {
     "languageId": "raw"
    }
   },
   "source": [
    "\n"
   ]
  },
  {
   "cell_type": "code",
   "execution_count": null,
   "metadata": {},
   "outputs": [],
   "source": [
    "# # Use the refactored ResearchManager\n",
    "# import sys\n",
    "# from pathlib import Path\n",
    "\n",
    "# # Add the deep_research directory to the path\n",
    "# deep_research_path = Path.cwd() / \"deep_research\"\n",
    "# sys.path.insert(0, str(deep_research_path))\n",
    "\n",
    "# # Import the ResearchManager\n",
    "# from research_manager import ResearchManager\n",
    "\n",
    "# # Create an instance and use it\n",
    "# manager = ResearchManager()\n",
    "\n",
    "# # Execute a research task\n",
    "# query = \"Latest developments in quantum computing 2025\"\n",
    "\n",
    "# print(\"Starting investigation with ResearchManager...\")\n",
    "# async for update in manager.run(query):\n",
    "#     if isinstance(update, str) and not update.startswith(\"View trace\"):\n",
    "#         print(f\"📊 {update}\")\n",
    "\n",
    "# print(\"✅ Completed investigation!\")"
   ]
  },
  {
   "cell_type": "code",
   "execution_count": 33,
   "metadata": {},
   "outputs": [
    {
     "name": "stdout",
     "output_type": "stream",
     "text": [
      "🚀 Launching ENHANCED Deep Research Agent with Gradio...\n",
      "📁 Directory: /Users/alex/Desktop/00_projects/AI_agents/my_agents/notebooks/week2_openai/deep_research\n",
      "🌐 Opening web interface...\n",
      "💡 TIP: Keep 'Test Mode' checked to avoid API costs\n",
      "💡 TIP: Only uncheck when ready to spend 12.5¢ per query\n",
      "💡 TIP: Use the 'Debug Info' button if report doesn't appear\n",
      "----------------------------------------------------------------------\n",
      "If it doesn't open automatically, look for the URL in the console\n",
      "🔄 Reloading module: research_manager\n",
      "🔄 Reloading module: email_agent\n",
      "🔄 Reloading module: search_agent\n",
      "🔄 Reloading module: planner_agent\n",
      "🔄 Reloading module: writer_agent\n",
      "* Running on local URL:  http://127.0.0.1:7875\n",
      "* To create a public link, set `share=True` in `launch()`.\n"
     ]
    },
    {
     "data": {
      "text/html": [
       "<div><iframe src=\"http://127.0.0.1:7875/\" width=\"100%\" height=\"500\" allow=\"autoplay; camera; microphone; clipboard-read; clipboard-write;\" frameborder=\"0\" allowfullscreen></iframe></div>"
      ],
      "text/plain": [
       "<IPython.core.display.HTML object>"
      ]
     },
     "metadata": {},
     "output_type": "display_data"
    },
    {
     "name": "stdout",
     "output_type": "stream",
     "text": [
      "🔄 Reloading modules for latest changes...\n",
      "🔄 Reloading module: research_manager\n",
      "🔄 Reloading module: email_agent\n",
      "🔄 Reloading module: search_agent\n",
      "🔄 Reloading module: planner_agent\n",
      "🔄 Reloading module: writer_agent\n",
      "🧪 TEST MODE: Using mock searches\n",
      "📥 Collected chunk 1\n",
      "📥 Collected chunk 2\n",
      "Planning searches...\n",
      "Will perform 5 searches\n",
      "📥 Collected chunk 3\n",
      "Searching...\n",
      "🔍 MOCK SEARCH: current news on caca 2023\n",
      "🔍 MOCK SEARCH: definition and implications of caca biological context\n",
      "🔍 MOCK SEARCH: expert opinions on caca feces cultural significance\n",
      "🔍 MOCK SEARCH: synonyms and alternative terms for caca and perceptions\n",
      "🔍 MOCK SEARCH: future trends in waste management and sanitation 2023\n",
      "Searching... 1/5 completed\n",
      "Searching... 2/5 completed\n",
      "Searching... 3/5 completed\n",
      "Searching... 4/5 completed\n",
      "Searching... 5/5 completed\n",
      "Finished searching\n",
      "📥 Collected chunk 4\n",
      "📝 Thinking about report...\n",
      "✅ Finished writing report\n",
      "📥 Collected chunk 5\n",
      "📧 Sending email...\n",
      "🔧 DEBUG: send_email called with subject: 'In-Depth Analysis of Caca: Biological, Cultural, and Waste Management Perspectives'\n",
      "🔧 DEBUG: HTML body length: 8244\n",
      "🔧 DEBUG: About to send email...\n",
      "📧 EMAIL SENT:\n",
      "  - Subject: In-Depth Analysis of Caca: Biological, Cultural, and Waste Management Perspectives\n",
      "  - To: ['alexjustdata@gmail.com']\n",
      "  - HTML content length: 8244 chars\n",
      "  - Response status: 200\n",
      "📧 EMAIL PREVIEW:\n",
      "  - Subject: In-Depth Analysis of Caca: Biological, Cultural, and Waste Management Perspectives\n",
      "  - HTML length: 8244 characters\n",
      "  - HTML preview (first 200 chars): <h1>Comprehensive Report on Caca</h1>\n",
      "\n",
      "<h2>Table of Contents</h2>\n",
      "<ul>\n",
      "<li><a href=\"#introduction\">Introduction</a></li>\n",
      "<li><a href=\"#definition-and-biological-context\">Definition and Biological Cont...\n",
      "🔧 DEBUG: About to call safe_save_html...\n",
      "🔧 DEBUG: safe_save_html called with subject: 'In-Depth Analysis of Caca: Biological, Cultural, and Waste Management Perspectives'\n",
      "🔧 DEBUG: HTML content length: 8244\n",
      "🔧 DEBUG: Generated filename: report_In-Depth_Analysis_of_Caca_Biological_Cultural_and__20250706_164508.html\n",
      "🔧 DEBUG: Checking output directory: output\n",
      "🔧 DEBUG: Output directory already exists\n",
      "🔧 DEBUG: Full filepath: output/report_In-Depth_Analysis_of_Caca_Biological_Cultural_and__20250706_164508.html\n",
      "🔧 DEBUG: Attempting to write file...\n",
      "🔧 DEBUG: File written successfully\n",
      "✅ HTML saved as output/report_In-Depth_Analysis_of_Caca_Biological_Cultural_and__20250706_164508.html\n",
      "🔧 DEBUG: safe_save_html returned: output/report_In-Depth_Analysis_of_Caca_Biological_Cultural_and__20250706_164508.html\n",
      "💾 HTML report saved: output/report_In-Depth_Analysis_of_Caca_Biological_Cultural_and__20250706_164508.html\n",
      "✅ Email sent successfully\n",
      "📥 Collected chunk 6\n",
      "DEBUG: Preparing final report for query: caca\n",
      "DEBUG: Report summary length: 299\n",
      "DEBUG: Report content length: 6694\n",
      "DEBUG: Final report prepared, length: 7396\n",
      "DEBUG: Final report starts with: ## Final Research Report\n",
      "\n",
      "**Query:** caca\n",
      "\n",
      "**Executive Summary:** The report explores the multifacet...\n",
      "📥 Collected chunk 7\n",
      "🔄 Reloading modules for latest changes...\n",
      "🔄 Reloading module: research_manager\n",
      "🔄 Reloading module: email_agent\n",
      "🔄 Reloading module: search_agent\n",
      "🔄 Reloading module: planner_agent\n",
      "🔄 Reloading module: writer_agent\n",
      "💰 REAL MODE: Using live searches\n",
      "📥 Collected chunk 1\n",
      "📥 Collected chunk 2\n",
      "Planning searches...\n",
      "Will perform 5 searches\n",
      "📥 Collected chunk 3\n",
      "Searching...\n",
      "Searching... 1/5 completed\n",
      "Searching... 2/5 completed\n",
      "Searching... 3/5 completed\n",
      "Searching... 4/5 completed\n",
      "Searching... 5/5 completed\n",
      "Finished searching\n",
      "📥 Collected chunk 4\n",
      "📝 Thinking about report...\n",
      "✅ Finished writing report\n",
      "📥 Collected chunk 5\n",
      "📧 Sending email...\n",
      "🔧 DEBUG: send_email called with subject: 'The Impact of 0DTE Options on the Futures Market: Insights & Analysis'\n",
      "🔧 DEBUG: HTML body length: 6505\n",
      "🔧 DEBUG: About to send email...\n",
      "📧 EMAIL SENT:\n",
      "  - Subject: The Impact of 0DTE Options on the Futures Market: Insights & Analysis\n",
      "  - To: ['alexjustdata@gmail.com']\n",
      "  - HTML content length: 6505 chars\n",
      "  - Response status: 200\n",
      "📧 EMAIL PREVIEW:\n",
      "  - Subject: The Impact of 0DTE Options on the Futures Market: Insights & Analysis\n",
      "  - HTML length: 6505 characters\n",
      "  - HTML preview (first 200 chars): <html>\n",
      "<head>\n",
      "    <style>\n",
      "        body { font-family: Arial, sans-serif; margin: 20px; line-height: 1.6; }\n",
      "        h1 { color: #2c3e50; }\n",
      "        h2 { color: #2980b9; }\n",
      "        h3 { color: #27ae60; }\n",
      "...\n",
      "🔧 DEBUG: About to call safe_save_html...\n",
      "🔧 DEBUG: safe_save_html called with subject: 'The Impact of 0DTE Options on the Futures Market: Insights & Analysis'\n",
      "🔧 DEBUG: HTML content length: 6505\n",
      "🔧 DEBUG: Generated filename: report_The_Impact_of_0DTE_Options_on_the_Futures_Market_I_20250706_165002.html\n",
      "🔧 DEBUG: Checking output directory: output\n",
      "🔧 DEBUG: Output directory already exists\n",
      "🔧 DEBUG: Full filepath: output/report_The_Impact_of_0DTE_Options_on_the_Futures_Market_I_20250706_165002.html\n",
      "🔧 DEBUG: Attempting to write file...\n",
      "🔧 DEBUG: File written successfully\n",
      "✅ HTML saved as output/report_The_Impact_of_0DTE_Options_on_the_Futures_Market_I_20250706_165002.html\n",
      "🔧 DEBUG: safe_save_html returned: output/report_The_Impact_of_0DTE_Options_on_the_Futures_Market_I_20250706_165002.html\n",
      "💾 HTML report saved: output/report_The_Impact_of_0DTE_Options_on_the_Futures_Market_I_20250706_165002.html\n",
      "✅ Email sent successfully\n",
      "📥 Collected chunk 6\n",
      "DEBUG: Preparing final report for query: The mathematical model showing how 0dte options impact the futures market in real-time. Specifically, how can this real-time impact be mathematically proven?\n",
      "DEBUG: Report summary length: 452\n",
      "DEBUG: Report content length: 6615\n",
      "DEBUG: Final report prepared, length: 7721\n",
      "DEBUG: Final report starts with: ## Final Research Report\n",
      "\n",
      "**Query:** The mathematical model showing how 0dte options impact the futu...\n",
      "📥 Collected chunk 7\n"
     ]
    }
   ],
   "source": [
    "# 🎯 Launch Enhanced Deep Research Agent - WITH COST CONTROL\n",
    "import subprocess\n",
    "import sys\n",
    "import os\n",
    "from pathlib import Path\n",
    "\n",
    "# Change to the deep_research directory\n",
    "deep_research_dir = Path.cwd() / \"deep_research\"\n",
    "\n",
    "print(\"🚀 Launching ENHANCED Deep Research Agent with Gradio...\")\n",
    "print(f\"📁 Directory: {deep_research_dir}\")\n",
    "\n",
    "# Change to the directory and execute\n",
    "original_dir = os.getcwd()\n",
    "os.chdir(deep_research_dir)\n",
    "\n",
    "try:\n",
    "    print(\"🌐 Opening web interface...\")\n",
    "    print(\"💡 TIP: Keep 'Test Mode' checked to avoid API costs\")\n",
    "    print(\"💡 TIP: Only uncheck when ready to spend 12.5¢ per query\")\n",
    "    print(\"💡 TIP: Use the 'Debug Info' button if report doesn't appear\")\n",
    "    print(\"-\" * 70)\n",
    "    print(\"If it doesn't open automatically, look for the URL in the console\")\n",
    "    \n",
    "    # Run the enhanced deep_research.py\n",
    "    exec(open('deep_research.py').read())\n",
    "    \n",
    "except Exception as e:\n",
    "    print(f\"❌ Error: {e}\")\n",
    "    print(\"Make sure you have gradio installed: pip install gradio\")\n",
    "    \n",
    "finally:\n",
    "    # Return to the original directory\n",
    "    os.chdir(original_dir)\n",
    "\n"
   ]
  }
 ],
 "metadata": {
  "kernelspec": {
   "display_name": "agents_env",
   "language": "python",
   "name": "python3"
  },
  "language_info": {
   "codemirror_mode": {
    "name": "ipython",
    "version": 3
   },
   "file_extension": ".py",
   "mimetype": "text/x-python",
   "name": "python",
   "nbconvert_exporter": "python",
   "pygments_lexer": "ipython3",
   "version": "3.12.11"
  }
 },
 "nbformat": 4,
 "nbformat_minor": 2
}
