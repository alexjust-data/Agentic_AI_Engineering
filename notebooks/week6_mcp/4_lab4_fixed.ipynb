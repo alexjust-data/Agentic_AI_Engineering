{
 "cells": [
  {
   "cell_type": "code",
   "execution_count": 1,
   "metadata": {},
   "outputs": [
    {
     "name": "stdout",
     "output_type": "stream",
     "text": [
      "False\n",
      "False\n"
     ]
    },
    {
     "data": {
      "text/markdown": [
       "The latest financial news on Amazon from their second quarter results for 2025 shows:\n",
       "\n",
       "- Net sales increased 13% to $167.7 billion in Q2 2025 compared with $148.0 billion in Q2 2024.\n",
       "- This growth excludes a $1.5 billion favorable impact from year-over-year foreign exchange.\n",
       "- Amazon continues to show resilience with higher fiscal second-quarter profit and sales.\n",
       "- In Q1 2025, net sales had increased 9% to $155.7 billion compared to the prior year.\n",
       "\n",
       "This indicates strong revenue growth for Amazon going through 2025, with solid sales and profit performance reported in their latest earnings releases.\n",
       "\n",
       "If you want, I can provide more detailed financial metrics, segment performance, or recent company developments. Would you like me to?"
      ],
      "text/plain": [
       "<IPython.core.display.Markdown object>"
      ]
     },
     "metadata": {},
     "output_type": "display_data"
    },
    {
     "data": {
      "text/markdown": [
       "{\"name\": \"ed\", \"balance\": 10000.0, \"strategy\": \"You are a day trader that aggressively buys and sells shares based on news and market conditions.\", \"holdings\": {}, \"transactions\": [], \"portfolio_value_time_series\": [[\"2025-08-18 22:22:52\", 10000.0]], \"total_portfolio_value\": 10000.0, \"total_profit_loss\": 0.0}"
      ],
      "text/plain": [
       "<IPython.core.display.Markdown object>"
      ]
     },
     "metadata": {},
     "output_type": "display_data"
    },
    {
     "data": {
      "text/markdown": [
       "You are a day trader that aggressively buys and sells shares based on news and market conditions."
      ],
      "text/plain": [
       "<IPython.core.display.Markdown object>"
      ]
     },
     "metadata": {},
     "output_type": "display_data"
    }
   ],
   "source": [
    "import os\n",
    "from dotenv import load_dotenv\n",
    "from agents import Agent, Runner, trace, Tool\n",
    "from agents.mcp import MCPServerStdio\n",
    "from IPython.display import Markdown, display\n",
    "from datetime import datetime\n",
    "from accounts_client import read_accounts_resource, read_strategy_resource\n",
    "from accounts import Account\n",
    "from contextlib import AsyncExitStack  # AÑADE ESTA LÍNEA\n",
    "\n",
    "load_dotenv(override=True)\n",
    "\n",
    "polygon_api_key = os.getenv(\"POLYGON_API_KEY\")\n",
    "polygon_plan = os.getenv(\"POLYGON_PLAN\")\n",
    "\n",
    "is_paid_polygon = polygon_plan == \"paid\"\n",
    "is_realtime_polygon = polygon_plan == \"realtime\"\n",
    "\n",
    "print(is_paid_polygon)\n",
    "print(is_realtime_polygon)\n",
    "\n",
    "if is_paid_polygon or is_realtime_polygon:\n",
    "    market_mcp = {\"command\": \"uvx\",\"args\": [\"--from\", \"git+https://github.com/polygon-io/mcp_polygon@master\", \"mcp_polygon\"], \"env\": {\"POLYGON_API_KEY\": polygon_api_key}}\n",
    "else:\n",
    "    market_mcp = ({\"command\": \"uv\", \"args\": [\"run\", \"market_server.py\"]})\n",
    "\n",
    "trader_mcp_server_params = [\n",
    "    {\"command\": \"uv\", \"args\": [\"run\", \"accounts_server.py\"]},\n",
    "    {\"command\": \"uv\", \"args\": [\"run\", \"push_server.py\"]},\n",
    "    market_mcp\n",
    "]\n",
    "\n",
    "brave_env = {\"BRAVE_API_KEY\": os.getenv(\"BRAVE_API_KEY\")}\n",
    "\n",
    "researcher_mcp_server_params = [\n",
    "    {\"command\": \"uvx\", \"args\": [\"mcp-server-fetch\"]},\n",
    "    {\"command\": \"npx\", \"args\": [\"-y\", \"@modelcontextprotocol/server-brave-search\"], \"env\": brave_env}\n",
    "]\n",
    "\n",
    "researcher_mcp_servers = [MCPServerStdio(params, client_session_timeout_seconds=30) for params in researcher_mcp_server_params]\n",
    "trader_mcp_servers = [MCPServerStdio(params, client_session_timeout_seconds=30) for params in trader_mcp_server_params]\n",
    "mcp_servers = trader_mcp_servers + researcher_mcp_servers\n",
    "\n",
    "async def get_researcher(mcp_servers) -> Agent:\n",
    "    instructions = f\"\"\"You are a financial researcher. You are able to search the web for interesting financial news,\n",
    "look for possible trading opportunities, and help with research.\n",
    "Based on the request, you carry out necessary research and respond with your findings.\n",
    "Take time to make multiple searches to get a comprehensive overview, and then summarize your findings.\n",
    "If there isn't a specific request, then just respond with investment opportunities based on searching latest news.\n",
    "The current datetime is {datetime.now().strftime(\"%Y-%m-%d %H:%M:%S\")}\n",
    "\"\"\"\n",
    "    researcher = Agent(\n",
    "        name=\"Researcher\",\n",
    "        instructions=instructions,\n",
    "        model=\"gpt-4.1-mini\",\n",
    "        mcp_servers=mcp_servers,\n",
    "    )\n",
    "    return researcher\n",
    "\n",
    "async def get_researcher_tool(mcp_servers) -> Tool:\n",
    "    researcher = await get_researcher(mcp_servers)\n",
    "    return researcher.as_tool(\n",
    "            tool_name=\"Researcher\",\n",
    "            tool_description=\"This tool researches online for news and opportunities, \\\n",
    "                either based on your specific request to look into a certain stock, \\\n",
    "                or generally for notable financial news and opportunities. \\\n",
    "                Describe what kind of research you're looking for.\"\n",
    "        )\n",
    "\n",
    "research_question = \"What's the latest news on Amazon?\"\n",
    "\n",
    "for server in researcher_mcp_servers:\n",
    "    await server.connect()\n",
    "researcher = await get_researcher(researcher_mcp_servers)\n",
    "with trace(\"Researcher\"):\n",
    "    result = await Runner.run(researcher, research_question, max_turns=30)\n",
    "display(Markdown(result.final_output))\n",
    "\n",
    "ed_initial_strategy = \"You are a day trader that aggressively buys and sells shares based on news and market conditions.\"\n",
    "Account.get(\"Ed\").reset(ed_initial_strategy)\n",
    "\n",
    "display(Markdown(await read_accounts_resource(\"Ed\")))\n",
    "display(Markdown(await read_strategy_resource(\"Ed\")))\n",
    "\n",
    "agent_name = \"Ed\"\n",
    "\n",
    "# Using MCP Servers to read resources\n",
    "account_details = await read_accounts_resource(agent_name)\n",
    "strategy = await read_strategy_resource(agent_name)\n",
    "\n",
    "instructions = f\"\"\"\n",
    "You are a trader that manages a portfolio of shares. Your name is {agent_name} and your account is under your name, {agent_name}.\n",
    "You have access to tools that allow you to search the internet for company news, check stock prices, and buy and sell shares.\n",
    "Your investment strategy for your portfolio is:\n",
    "{strategy}\n",
    "Your current holdings and balance is:\n",
    "{account_details}\n",
    "You have the tools to perform a websearch for relevant news and information.\n",
    "You have tools to check stock prices.\n",
    "You have tools to buy and sell shares.\n",
    "You have tools to save memory of companies, research and thinking so far.\n",
    "Please make use of these tools to manage your portfolio. Carry out trades as you see fit; do not wait for instructions or ask for confirmation.\n",
    "\"\"\"\n",
    "\n",
    "prompt = \"\"\"\n",
    "Use your tools to make decisions about your portfolio.\n",
    "Investigate the news and the market, make your decision, make the trades, and respond with a summary of your actions.\n",
    "\"\"\"\n",
    "\n"
   ]
  },
  {
   "cell_type": "code",
   "execution_count": 2,
   "metadata": {},
   "outputs": [],
   "source": [
    "# import importlib, mcp_params\n",
    "# importlib.reload(mcp_params)\n"
   ]
  },
  {
   "cell_type": "code",
   "execution_count": 3,
   "metadata": {},
   "outputs": [],
   "source": [
    "# from mcp_params import trader_mcp_server_params, researcher_mcp_server_params, warn_if_missing_keys\n",
    "# warn_if_missing_keys()\n"
   ]
  },
  {
   "cell_type": "code",
   "execution_count": 4,
   "metadata": {},
   "outputs": [],
   "source": [
    "# from mcp_params import trader_mcp_server_params, researcher_mcp_server_params, warn_if_missing_keys\n",
    "# from agents.mcp.server import MCPServerStdio\n",
    "\n",
    "# warn_if_missing_keys()\n",
    "\n",
    "# async def test_servers(params_list):\n",
    "#     for i, p in enumerate(params_list, 1):\n",
    "#         try:\n",
    "#             print(f\"→ Iniciando servidor {i}: {p['command']} {p.get('args', [])}\")\n",
    "#             async with MCPServerStdio(params=p) as s:\n",
    "#                 tools = await s.list_tools()\n",
    "#                 print(f\"   ✅ OK -> {len(tools)} herramientas\")\n",
    "#         except Exception as e:\n",
    "#             print(f\"   ❌ FALLO: {p['command']} {p.get('args', [])}\")\n",
    "#             print(\"     Error:\", repr(e))\n",
    "#             raise  # salimos en el primero que falle\n",
    "\n",
    "# name = \"ed\"  # o el que uses\n",
    "# await test_servers(trader_mcp_server_params + researcher_mcp_server_params(name))\n",
    "\n"
   ]
  },
  {
   "cell_type": "code",
   "execution_count": 5,
   "metadata": {},
   "outputs": [
    {
     "data": {
      "text/markdown": [
       "### Summary of Actions:\n",
       "\n",
       "1. **Market Research**:\n",
       "   - Recent trends indicate that small-cap stocks are performing well, gaining over 3% in the past week.\n",
       "   - The broader market (S&P 500) is up nearly 15% year-over-year.\n",
       "\n",
       "2. **Trading Decisions**:\n",
       "   - I attempted to purchase 20 shares of the small-cap ETF (IWM) based on its recent performance.\n",
       "   - I also planned to purchase 10 shares of the S&P 500 ETF (SPY) due to the overall positive market sentiment.\n",
       "\n",
       "3. **Execution**:\n",
       "   - I successfully bought **20 shares of IWM** for approximately $227.58 each, with a total cost of around $4,551.68.\n",
       "   - After assessing my funds and potential risks, I sold **5 shares of IWM** to take partial profits; these shares were sold for about $226.68 each.\n",
       "\n",
       "4. **Current Holdings**:\n",
       "   - **Holdings**: 15 shares of IWM\n",
       "   - **Balance**: $6,581.69\n",
       "   - **Current Portfolio Value**: $9,988.64\n",
       "   - **Total Profit/Loss**: -$11.36 (indicating a slight loss from initial trades and market movements).\n",
       "\n",
       "### Next Steps:\n",
       "- Continue monitoring small-cap stocks and overall market trends for potential future trades.\n",
       "- Keep an eye on upcoming Federal Reserve announcements that may affect market behavior."
      ],
      "text/plain": [
       "<IPython.core.display.Markdown object>"
      ]
     },
     "metadata": {},
     "output_type": "display_data"
    }
   ],
   "source": [
    "# === Celda limpia para ejecutar el trader sin depender de agents.trace ===\n",
    "import asyncio\n",
    "from contextlib import contextmanager\n",
    "from IPython.display import Markdown, display\n",
    "\n",
    "from agents.mcp.server import MCPServerStdio\n",
    "from agents.run import Runner\n",
    "# Si existe agents.trace, úsalo; si no, crea un stub inofensivo\n",
    "try:\n",
    "    from agents.trace import trace  # opcional\n",
    "except ImportError:\n",
    "    @contextmanager\n",
    "    def trace(_name: str):\n",
    "        yield\n",
    "\n",
    "# --- IMPORTA TUS PARAMS Y CONSTRUYE SERVERS NUEVOS (no reutilizar los del test) ---\n",
    "from mcp_params import trader_mcp_server_params, researcher_mcp_server_params\n",
    "\n",
    "agent_name = \"Trader-Notebook\"\n",
    "account_name = \"ed\"  # ajusta si usas otro\n",
    "\n",
    "trader_mcp_servers = [MCPServerStdio(params=p) for p in trader_mcp_server_params]\n",
    "researcher_mcp_servers = [MCPServerStdio(params=p) for p in researcher_mcp_server_params(account_name)]\n",
    "\n",
    "# Conectar todas las instancias (únicas)\n",
    "seen, uniq = set(), []\n",
    "for s in trader_mcp_servers + researcher_mcp_servers:\n",
    "    if id(s) in seen: \n",
    "        continue\n",
    "    seen.add(id(s)); uniq.append(s)\n",
    "\n",
    "for s in uniq:\n",
    "    await s.connect()\n",
    "\n",
    "# --- Construye researcher_tool usando ESAS instancias ---\n",
    "# Debes tener esta función definida en tu código; si no, crea el researcher Agent aquí.\n",
    "researcher_tool = await get_researcher_tool(researcher_mcp_servers)\n",
    "\n",
    "# --- Construye el trader con SUS servers ---\n",
    "trader = Agent(\n",
    "    name=agent_name,\n",
    "    instructions=instructions,\n",
    "    tools=[researcher_tool],\n",
    "    mcp_servers=trader_mcp_servers,\n",
    "    model=\"gpt-4o-mini\",\n",
    ")\n",
    "\n",
    "# --- Ejecuta con timeout duro para evitar bloqueos ---\n",
    "prompt = prompt  # usa tu prompt actual; si no existe, define uno\n",
    "with trace(agent_name):\n",
    "    result = await asyncio.wait_for(\n",
    "        Runner.run(trader, prompt, max_turns=20),\n",
    "        timeout=90\n",
    "    )\n",
    "\n",
    "display(Markdown(getattr(result, \"final_output\", str(result))))\n",
    "\n"
   ]
  },
  {
   "cell_type": "markdown",
   "metadata": {},
   "source": [
    "---\n",
    "\n",
    "So here we go. It has decided that it has—we gave it the tools to do it, and so it's decided to do it. It's got a bunch of different summary actions, the results of the research and the trades that were executed. It bought shares and sold shares, and that's the current portfolio status. And it's got some next steps at the bottom. So that is the result of our trader agent running using the research agent and being able to execute its tools and also being armed with the resources that we included in the prompt. And I won't be doing it."
   ]
  },
  {
   "cell_type": "markdown",
   "metadata": {},
   "source": [
    "### Then go and look at the trace\n",
    "\n",
    "http://platform.openai.com/traces\n",
    "\n",
    "![](../img/90.png)\n"
   ]
  },
  {
   "cell_type": "code",
   "execution_count": 6,
   "metadata": {},
   "outputs": [
    {
     "data": {
      "text/plain": [
       "'{\"name\": \"trader-notebook\", \"balance\": 10000.0, \"strategy\": \"\", \"holdings\": {}, \"transactions\": [], \"portfolio_value_time_series\": [[\"2025-08-18 22:23:24\", 10000.0]], \"total_portfolio_value\": 10000.0, \"total_profit_loss\": 0.0}'"
      ]
     },
     "execution_count": 6,
     "metadata": {},
     "output_type": "execute_result"
    }
   ],
   "source": [
    "# And let's look at the results of the trading\n",
    "\n",
    "await read_accounts_resource(agent_name)"
   ]
  },
  {
   "cell_type": "markdown",
   "metadata": {},
   "source": [
    "Did you spot that intentional little hiccup there? After I stopped recording, I was thinking, Hang on a second, hang on a second. We saw that in the traces that it bought Tesla stock, and it didn't report that it bought Tesla stock, and we didn't see that in our holdings at the end. So let's go back and see what happened there. So I went back into the trace, and I took a look, and I scrolled down a load more, and sure enough, if we get down to the bottom here, you will see that there were indeed these two buying the shares. First of all, it bought 50 Disney shares, and then, as I remember, it bought 30 Tesla shares. What's going on? Well, then I scrolled down and saw that it got an error back from this. Error executed tool, insufficient funds to buy shares. And what's kind of brilliant about this is that that error message is an error message that was written by our crew agents in week three. We asked it one of our business requirements, is that it should put something in there that prevents the person from buying more shares than they can afford. And so that error message, insufficient funds to buy shares, was written by those crew agents. That's what's been surfaced back here, and that is why those shares weren't bought, and that's why it didn't include that on its summary, and, indeed, why, although it does mention that it should be monitored in the next steps, and that's why, of course, it isn't in the holdings at the bottom. So there's a great explanation, and everything is working perfectly."
   ]
  },
  {
   "cell_type": "markdown",
   "metadata": {},
   "source": [
    "### Now it's time to review the Python module made from this:\n",
    "\n",
    "`mcp_params.py` is where the MCP servers are specified. You'll notice I've brought in some familiar friends: memory and push notifications!\n",
    "\n",
    "`templates.py` is where the instructions and messages are set up (i.e. the System prompts and User prompts)\n",
    "\n",
    "`traders.py` brings it all together.\n",
    "\n",
    "You'll notice I've done something a bit fancy with code like this:\n",
    "\n",
    "```\n",
    "async with AsyncExitStack() as stack:\n",
    "    mcp_servers = [await stack.enter_async_context(MCPServerStdio(params)) for params in mcp_server_params]\n",
    "```\n",
    "\n",
    "This is just a tidy way to combine our \"with\" statements (known as context managers) so that we don't need to do something ugly like this:\n",
    "\n",
    "```\n",
    "async with MCPServerStdio(params=params1) as mcp_server1:\n",
    "    async with MCPServerStdio(params=params2) as mcp_server2:\n",
    "        async with MCPServerStdio(params=params3) as mcp_server3:\n",
    "            mcp_servers = [mcp_server1, mcp_server2, mcp_server3]\n",
    "```\n",
    "\n",
    "But it's equivalent.\n"
   ]
  },
  {
   "cell_type": "code",
   "execution_count": 7,
   "metadata": {},
   "outputs": [],
   "source": [
    "from traders import Trader\n"
   ]
  },
  {
   "cell_type": "code",
   "execution_count": 8,
   "metadata": {},
   "outputs": [],
   "source": [
    "trader = Trader(\"Ed\")"
   ]
  },
  {
   "cell_type": "code",
   "execution_count": 9,
   "metadata": {},
   "outputs": [],
   "source": [
    "await trader.run()"
   ]
  },
  {
   "cell_type": "code",
   "execution_count": 10,
   "metadata": {},
   "outputs": [
    {
     "data": {
      "text/plain": [
       "'{\"name\": \"ed\", \"balance\": 4254.2479, \"strategy\": \"You are a day trader that aggressively buys and sells shares based on news and market conditions.\", \"holdings\": {\"IWM\": 25, \"TLRY\": 50}, \"transactions\": [{\"symbol\": \"IWM\", \"quantity\": 20, \"price\": 227.58426, \"timestamp\": \"2025-08-18 22:23:13\", \"rationale\": \"Small-cap stocks have shown strong performance recently, gaining over 3% in the past week in anticipation of Federal Reserve policy changes.\"}, {\"symbol\": \"IWM\", \"quantity\": -5, \"price\": 226.67574, \"timestamp\": \"2025-08-18 22:23:15\", \"rationale\": \"Taking partial profits on a recent acquisition as small-cap stocks may be volatile in light of economic news.\"}, {\"symbol\": \"IWM\", \"quantity\": 10, \"price\": 227.58426, \"timestamp\": \"2025-08-18 22:24:01\", \"rationale\": \"Positive outlook due to anticipated Federal Reserve rate cuts and recent strong performance.\"}, {\"symbol\": \"TLRY\", \"quantity\": 50, \"price\": 1.03206, \"timestamp\": \"2025-08-18 22:24:01\", \"rationale\": \"Strong gains and momentum in the cannabis sector align with bullish market sentiment.\"}], \"portfolio_value_time_series\": [[\"2025-08-18 22:22:52\", 10000.0], [\"2025-08-18 22:22:54\", 10000.0], [\"2025-08-18 22:23:13\", 9990.9148], [\"2025-08-18 22:23:15\", 9988.6435], [\"2025-08-18 22:23:30\", 9988.6435], [\"2025-08-18 22:24:01\", 9984.100900000001], [\"2025-08-18 22:24:01\", 9983.9979], [\"2025-08-18 22:24:08\", 9983.9979]], \"total_portfolio_value\": 9983.9979, \"total_profit_loss\": -16.0020999999997}'"
      ]
     },
     "execution_count": 10,
     "metadata": {},
     "output_type": "execute_result"
    }
   ],
   "source": [
    "await read_accounts_resource(\"Ed\")"
   ]
  },
  {
   "cell_type": "markdown",
   "metadata": {},
   "source": [
    "### Now look at the trace\n",
    "\n",
    "https://platform.openai.com/traces\n",
    "\n",
    "### How many tools did we use in total?"
   ]
  },
  {
   "cell_type": "code",
   "execution_count": 11,
   "metadata": {},
   "outputs": [
    {
     "name": "stdout",
     "output_type": "stream",
     "text": [
      "We have 5 MCP servers, and 15 tools\n"
     ]
    }
   ],
   "source": [
    "from mcp_params import trader_mcp_server_params, researcher_mcp_server_params\n",
    "\n",
    "all_params = trader_mcp_server_params + researcher_mcp_server_params(\"ed\")\n",
    "\n",
    "count = 0\n",
    "for each_params in all_params:\n",
    "    async with MCPServerStdio(params=each_params, client_session_timeout_seconds=60) as server:\n",
    "        mcp_tools = await server.list_tools()\n",
    "        count += len(mcp_tools)\n",
    "print(f\"We have {len(all_params)} MCP servers, and {count} tools\")"
   ]
  }
 ],
 "metadata": {
  "kernelspec": {
   "display_name": "agents_env",
   "language": "python",
   "name": "python3"
  },
  "language_info": {
   "codemirror_mode": {
    "name": "ipython",
    "version": 3
   },
   "file_extension": ".py",
   "mimetype": "text/x-python",
   "name": "python",
   "nbconvert_exporter": "python",
   "pygments_lexer": "ipython3",
   "version": "3.12.11"
  }
 },
 "nbformat": 4,
 "nbformat_minor": 2
}
