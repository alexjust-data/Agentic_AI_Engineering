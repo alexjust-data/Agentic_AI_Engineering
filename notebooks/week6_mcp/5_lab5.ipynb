{
 "cells": [
  {
   "cell_type": "markdown",
   "metadata": {},
   "source": [
    "<table style=\"margin: 0; text-align: left; width:100%\">\n",
    "        <td>\n",
    "            <h2 style=\"color:#ff7800;\">Autonomous Traders</h2>\n",
    "            <span style=\"color:#ff7800;\">An equity trading simulation to illustrate autonomous agents powered by tools and resources from MCP servers.\n",
    "            </span>\n",
    "        </td>\n",
    "</table>"
   ]
  },
  {
   "cell_type": "markdown",
   "metadata": {},
   "source": [
    "### Week 6 Day 5\n",
    "\n",
    "THE GRAND FINALE!!\n",
    "\n",
    "Welcome to the grand finale, the conclusion of our capstone project, and also the time when we wrap up and answer the question of, okay, so which agent framework should I use for my project? But first, the capstone project, autonomous trading. We have some ingredients to add to the mix. We're going to turn it into a trading floor of four traders. We're going to give the traders autonomy to evolve their strategy. We're going to expand the number of models. You've already seen a little teaser of this, and we're going to build a user interface, which is going to have a surprise extra component, which is a super important piece of functionality extensibility that we can get through OpenAI Agents SDK. So without further ado, let's go back to the lab for the final time.\n",
    "\n",
    "# Autonomous Traders\n",
    "\n",
    "An equity trading simulation, with 4 Traders and a Researcher, powered by 44 MCP servers with tools & resources.\n",
    "\n",
    "Time to add a team of traders."
   ]
  },
  {
   "cell_type": "markdown",
   "metadata": {},
   "source": [
    "<table style=\"margin: 0; text-align: left; width:100%\">\n",
    "        <td>\n",
    "            <h2 style=\"color:#00bfff;\">Adding more and more MCP Servers</h2>\n",
    "            <span style=\"color:#00bfff;\">Over time, I plan to keep adding MCP Servers agents and functionality - and you should too! For now I've added Push Notification since it's been a recurring theme through the course.\n",
    "            </span>\n",
    "        </td>\n",
    "</table>"
   ]
  },
  {
   "cell_type": "markdown",
   "metadata": {},
   "source": [
    "## Introducing our FOUR traders\n",
    "\n",
    "And here we are once more in Cursor for the last time. We go into the sixth folder and we go to Lab 5, which is really more of a text thing, but let's just talk about what we have here. So actually now we've already taken a look at all of the MCP servers that we're going to be playing with, but it includes, of course, things like the push notification and the memory and everything else. But I want to be adding more in time, and I would like you to as well. And so if you go in there and you look in the MCP servers, you might find that there are more there already because I do plan to be adding more, and if not, you should keep adding them in. As of the time I record this, there are currently, as we just saw, six MCP servers with 44 different tools and two resources, and I do hope to be adding to them in time. Okay, so now to introduce you to the four traders that we have set up in our trading floor. We have four traders that are now known. They are named Warren, George, Ray, and Cathy, and they are paying homage to four luminaries of the industry. Warren, to the legend that is Warren Buffett, George to George Soros, Ray for Ray Dalio, and Cathy, perhaps an odd one out for a more modern investor, for Cathy Wood of ARK Investments. And they each have investment strategies inspired by their namesakes, but also I've given them autonomy to be changing their strategy in time. So let's look at this.\n",
    "\n",
    "We have four traders, and they are inspired by 4 titans of the industry.  \n",
    "\n",
    "**Warren**, in homage to Warren Buffett  \n",
    "**George**, in homage to George Soros  \n",
    "**Ray**, in homage to Ray Dalio  \n",
    "**Cathie**, in homage to Cathie Wood\n",
    "\n",
    "They have initial investment strategies that are inspired by their namesakes; but they have the autonomy to change their own strategy over time if they wish, using a tool.\n",
    "\n",
    "\n",
    "Check out the file `reset.py` to read their initial investment theses.\n",
    "\n",
    "```sh\n",
    "waren_strategy = \"\"\"\n",
    "You are Warren, and you are named in homage to your role model, Warren Buffett.\n",
    "You are a value-oriented investor who prioritizes long-term wealth creation....\n",
    "\"\"\"\n",
    "\n",
    "george_strategy = \"\"\"\n",
    "You are George, and you are named in homage to your role model, George Soros.\n",
    "You are an aggressive macro trader who actively seeks significant market \n",
    "mispricings...\n",
    "\"\"\"\n",
    "\n",
    "ray_strategy = \"\"\"\n",
    "You are Ray, and you are named in homage to your role model, Ray Dalio.\n",
    "You apply a systematic, principles-based approach rooted in macroeconomic insights and diversification...\n",
    "\"\"\"\n",
    "\n",
    "cathie_strategy = \"\"\"\n",
    "You are Cathie, and you are named in homage to your role model, Cathie Wood.\n",
    "You aggressively pursue opportunities in disruptive innovation, particularly focusing on Crypto ETFs...\n",
    "\"\"\"\n",
    "```\n",
    "\n",
    "So first of all, we need to go to a Python module called reset.py, and this is where the strategies are laid out. There is a Warren strategy. You're Warren. You're named in homage to your role model, Warren Buffett, a value-oriented investor prioritizing long-term wealth creation. George is named for George Soros, an aggressive macro trader. Ray, of course, a systematic principles-based approach with macroeconomic insights. And Cathy, who pursues disruptive innovation, particularly crypto. But I focus on crypto ETFs because this is all meant to be about equity trading. So ETFs is what we do. And reset traders will reset these four people to have this strategy. Now I'm not going to run that reset method myself because I've already had this running for a couple of weeks. I don't want to delete all that history. I want you to see how these traders have done for the last couple of weeks because that's going to be fun. So I won't reset, but you, of course, should so that you have the right strategies if you're looking at this. So you should uncomment this line right here and run reset traders so that everything is ready to begin.\n",
    "\n"
   ]
  },
  {
   "cell_type": "code",
   "execution_count": 1,
   "metadata": {},
   "outputs": [],
   "source": [
    "# Now, set our traders to the starting point - uncomment the line to reset..\n",
    "\n",
    "from reset import reset_traders\n",
    "# reset_traders()"
   ]
  },
  {
   "cell_type": "markdown",
   "metadata": {},
   "source": [
    "## Revealing the final changes\n",
    "\n",
    "Some new MCP servers - memory and push notification - take a look at `mcp_params.py` and `push_server.py`\n",
    "\n",
    "And this is a cool thing:\n",
    "\n",
    "OpenAI Agents SDK has a nice feature that you can integrate with their Tracing code, so that you can monitor Trace messages in code.\n",
    "\n",
    "\n",
    "\n",
    "And then I need to talk to you about traces. Okay, so I now want to tell you about traces. One of the things you might have thought about OpenAI Agents SDK is that whilst it is quite lightweight and simple, which is nice, it perhaps doesn't have the same level of resiliency and plumbing that something like Landgraf has with its connectivity to LangSmith. The trace functionality in OpenAI, it's a little bit sort of cheap or cheerful. You have to log into your OpenAI screen and then see the tracing in there. Well it happens that they thought of that. They've made the tracing functionality in OpenAI Agents SDK very extensible. You can, in fact, connect it to LangSmith to be able to look at your data in LangSmith. You can also connect it to things like weights and biases, which I teach in my other course, which is super useful. And indeed, you can extend it yourself to record trace information however you would like so that you can programmatically handle that with your agent flow and take actions as a result of the tracing. And that is really cool and it's very easy to do.\n",
    "\n",
    "See `tracers.py` - I've written a custom tracer that records our Trader activity and stores it in the database, so we can surface the Traders' inner thoughts on our UI.\n",
    "\n",
    "```py\n",
    "\n",
    "def make_trace_id(tag: str) -> str:\n",
    "\n",
    "class LogTracer(TracingProcessor):\n",
    "\n",
    "    def get_name(self, trace_or_span: Trace | Span) -> str | None:\n",
    "\n",
    "    def on_trace_start(self, trace) -> None:\n",
    "\n",
    "    def on_trace_end(self, trace) -> None:\n",
    "\n",
    "    def on_span_start(self, span) -> None:\n",
    "\n",
    "    def on_span_end(self, span) -> None:\n",
    "\n",
    "    def force_flush(self) -> None:\n",
    "\n",
    "    def shutdown(self) -> None:\n",
    "```\n",
    "\n",
    "And I've done it here in this traces module. So you essentially make a subclass of an OpenAI class called TracingProcessor. And in that subclass, you have to override four methods. OnTraceStart, OnTraceEnd, OnSpanStart, and OnSpanEnd. And you get passed in an object that describes what's going on and you can then choose to do what you want, record it in any way. And what gets passed in could be one of a number of different types of data and you can pluck out relevant information and decide what to do with it. And so what did I use this for? What do I decide to do with it? I've decided to have my own little logging mechanism. And so I write this to my own log with a name and a type and a message. And I actually store this in SQLite. I have this write log, just writes it to a database based on this person's name so that I can keep track of these logs. And that allows me to take some actions as a result of the tracing activity happening in my agent framework. What would I like to do with that? Well, I'd like to display it. I'd like to be able to see on the user interface what are our traders actually doing? What are they thinking? What's going on? And I'd like to be able to reflect what is effectively being recorded in OpenAI's traces on the user interface. And that is what we will be doing.\n",
    "\n",
    "\n",
    "6:06"
   ]
  },
  {
   "cell_type": "markdown",
   "metadata": {},
   "source": [
    "# AND NOW.. Reveal part 1\n",
    "\n",
    "First, there are some settings that you can optionally add to your .env file:\n",
    "\n",
    "`RUN_EVERY_N_MINUTES=60`  \n",
    "This determines how often the trader agents are run, and it defaults to every 60 minutes if not specified in your .env file.\n",
    "\n",
    "`RUN_EVEN_WHEN_MARKET_IS_CLOSED=False`  \n",
    "This determines if the traders should still run out of hours, and defaults to False if not specified in your .env file.\n",
    "\n",
    "`USE_MANY_MODELS=False`  \n",
    "This determines whether to use DeepSeek, Gemini and Grok in addition to OpenAI, using DeepSeek API and OpenRouter.  \n",
    "It defaults to False if not specified in your .env file, in which case gpt-4o-mini is used throughout.\n",
    "\n",
    "Please make those changes if you wish!\n",
    "\n",
    "Then take a look at the UI code in `app.py`\n",
    "\n",
    "Then, open a new terminal (Shift + Ctrl + Backtick)\n",
    "\n",
    "Change to this directory:  \n",
    "`cd 6_mcp`\n",
    "\n",
    "And run:  \n",
    "`uv run app.py`\n",
    "\n",
    "And take joy in the user interface!"
   ]
  },
  {
   "cell_type": "markdown",
   "metadata": {},
   "source": [
    "# AND NOW.. Reveal part 2\n"
   ]
  },
  {
   "cell_type": "markdown",
   "metadata": {},
   "source": [
    "### Now go and look at the engine:\n",
    "\n",
    "`trading_floor.py`\n",
    "\n",
    "It has the super-simple loop that's where the magic happens:\n",
    "\n",
    "\n",
    "```\n",
    "while True:\n",
    "    await asyncio.gather(*[trader.run() for trader in traders])\n",
    "    await asyncio.sleep(RUN_EVERY_N_MINUTES * 60)\n",
    "```\n",
    "\n",
    "You'll also see how it looks for the environment variables.\n",
    "\n",
    "And finally, open a new terminal (Shift + Ctrl + Backtick, or press the Plus on the top right of the Terminals below)\n",
    "\n",
    "Change to this directory:  \n",
    "`cd 6_mcp`\n",
    "\n",
    "And run:  \n",
    "`uv run trading_floor.py`\n",
    "\n",
    "And watch your user interface - see your trading team in action!"
   ]
  },
  {
   "cell_type": "markdown",
   "metadata": {},
   "source": [
    "<table style=\"margin: 0; text-align: left; width:100%\">\n",
    "    <tr>\n",
    "        <td style=\"width: 150px; height: 150px; vertical-align: middle;\">\n",
    "            <img src=\"../assets/stop.png\" width=\"150\" height=\"150\" style=\"display: block;\" />\n",
    "        </td>\n",
    "        <td>\n",
    "            <h2 style=\"color:#ff7800;\">One last reminder to monitor your APIs</h2>\n",
    "            <span style=\"color:#ff7800;\">This will run on a loop, every hour, or however you specified. You should watch your API usage, and stop this running when you've had enough!<br/>\n",
    "            I find myself watching this happily for hours - and I hope you will too! A huge project that showcases the power of Autonomous Agents.\n",
    "            </span>\n",
    "        </td>\n",
    "    </tr>\n",
    "</table>"
   ]
  },
  {
   "cell_type": "markdown",
   "metadata": {},
   "source": [
    "<table style=\"margin: 0; text-align: left; width:100%\">\n",
    "    <tr>\n",
    "        <td style=\"width: 150px; height: 150px; vertical-align: middle;\">\n",
    "            <img src=\"../assets/thanks.png\" width=\"150\" height=\"150\" style=\"display: block;\" />\n",
    "        </td>\n",
    "        <td>\n",
    "            <h2 style=\"color:#00cc00;\">THANK YOU SO SO MUCH!</h2>\n",
    "            <span style=\"color:#00cc00;\">You've reached the conclusion! I'm so grateful that you stuck at it all the way to the end. My editor would smack me if I didn't mention one more time: if you're able to rate the course on Udemy, I'd be super thankful: it's the most important way that Udemy decides whether to show the course to others and it makes a massive difference.<br/><br/>Please do stay in touch and let me know how you get on, and share your journey in this extraordinary field in these extraordinary times. If you've made it this far and somehow resisted connecting with me on LinkedIn - <a href=\"https://www.linkedin.com/in/eddonner/\">here I am</a> one more time! If you wanted to post about your accomplishment on the course, please tag me and I'll weigh in to increase your exposure.<br><br/>Congratulations! \n",
    "            </span>\n",
    "        </td>\n",
    "    </tr>\n",
    "</table>"
   ]
  }
 ],
 "metadata": {
  "kernelspec": {
   "display_name": "agents_env",
   "language": "python",
   "name": "python3"
  },
  "language_info": {
   "codemirror_mode": {
    "name": "ipython",
    "version": 3
   },
   "file_extension": ".py",
   "mimetype": "text/x-python",
   "name": "python",
   "nbconvert_exporter": "python",
   "pygments_lexer": "ipython3",
   "version": "3.12.11"
  }
 },
 "nbformat": 4,
 "nbformat_minor": 2
}
