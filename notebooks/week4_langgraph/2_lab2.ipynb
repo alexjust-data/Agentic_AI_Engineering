{
 "cells": [
  {
   "cell_type": "markdown",
   "metadata": {},
   "source": [
    "### And welcome to Week 4, Day 3 - more LangGraph.."
   ]
  },
  {
   "cell_type": "code",
   "execution_count": 1,
   "metadata": {},
   "outputs": [],
   "source": [
    "from typing import Annotated\n",
    "from langgraph.graph import StateGraph, START\n",
    "from langgraph.graph.message import add_messages\n",
    "from dotenv import load_dotenv\n",
    "from IPython.display import Image, display\n",
    "import gradio as gr\n",
    "from langgraph.prebuilt import ToolNode, tools_condition\n",
    "import requests\n",
    "import os\n",
    "from langchain_openai import ChatOpenAI\n",
    "from typing import TypedDict"
   ]
  },
  {
   "cell_type": "code",
   "execution_count": 2,
   "metadata": {},
   "outputs": [
    {
     "data": {
      "text/plain": [
       "True"
      ]
     },
     "execution_count": 2,
     "metadata": {},
     "output_type": "execute_result"
    }
   ],
   "source": [
    "# Our favorite first step! Crew was doing this for us, by the way.\n",
    "load_dotenv(\"/Users/alex/Desktop/00_projects/AI_agents/my_agents/.env\", override=True)\n"
   ]
  },
  {
   "cell_type": "markdown",
   "metadata": {},
   "source": [
    "### First, let's go set up LangSmith!\n",
    "\n",
    "https://langsmith.com\n",
    "\n",
    "And we are now going to go and set up LangSmith. So there's a link to LangSmith here. When you follow this link, you'll get to their website. And the first thing you'll need to do is create an account. And it's free. It's free as long as you stay within some very high number, which we definitely will. So you can set that up. And when you come in, you're going to get this sort of dashboard, a bit like this, except it will be empty. And the first thing to do is to press the Setup Tracing button right here. \n",
    "\n",
    "![](../img/39.png)\n",
    "\n",
    "And this is going to fly up. You have to generate an API key so that you've got an API key. And as soon as you press that, it will then fill this in down here. And you just simply will then want to copy that to your clipboard, all of your fields, all of the key variables that you'll see here. But just don't, obviously, don't take the OpenAI API key as well. You don't need that. But you need this. \n",
    "\n",
    "![](../img/40.png)\n",
    "\n",
    "And then it will actually populate that API key with whatever you generate right here, which is great. And then you will go back here into your .env file, which is just there. And you will add this in to your .env file so that we have these variables set. And then once you've done that, come back and run load.env again so that they load in. \n",
    "\n",
    "---\n",
    "Maybe I should have done that in the other order. So that's great. Then you have Langsmith configured, and you'll be able to see things. Now, before we go further, I will just talk through a few things we can expect to see. So I called the project Mastering Agents. You can call it whatever you want, of course. And you can see in here, there's lots of stuff that I've been doing. You'll see that for every time that I've invoked LandGraph, I get some sort of an entry here. I get the input and the output. If there's an error, which I had a couple of errors, then we will see them. It tells you when it happened. It tells you the latency, which is very helpful. And there's a bunch of other useful stuff here too, which we don't often get to see. The cost in this column is telling us how much this costs us to make this call to OpenAI. And for those people that are concerned about API costs, do have a look at how insanely small these numbers are. It just really brings it to life. I realize that the main problem people have is with the upfront $5 you have to put in at the beginning. But I hope that you see that until you get to such a point as you are scaling, we are talking about not just fractions of a cent, but fractions of fractions of a cent for most of these. It also tells you the number of tokens, which is helpful to know. I'm not sure if these zeros were because I had some bug, but luckily they're fixed. So you get to see a bunch of stuff in here. And this is going to be useful. And when we actually have things to look at, we will come back and take a look at that. \n",
    "\n",
    "---"
   ]
  },
  {
   "cell_type": "markdown",
   "metadata": {},
   "source": [
    "### Next, here is a useful function in LangChain community:\n",
    "\n",
    "So I found a useful function that's in the Lanchain community folder, and it's called Google SERPA API wrapper, which means there's a nice little convenient wrapper around the same thing that we set up before, this SERPA API, where we already have the API key in our M file, which is convenient to use. And so we can create an instance of this thing, Google SERPA API wrapper, and we could call SERPA.run with something like, what's the capital of France? And if we do this, then it will think for a moment. And indeed, we get Paris as the capital, largest city of France, and with some stuff about it from doing an Internet search on this, which is great. And again, this is something that's part of what's free and included in the plan up to several thousand calls, I think, unlike OpenAI, which is charging us two and a half cents for each one. So that is good. "
   ]
  },
  {
   "cell_type": "code",
   "execution_count": 3,
   "metadata": {},
   "outputs": [
    {
     "data": {
      "text/plain": [
       "'Paris is the capital and largest city of France. With an estimated population of 2,048,472 in January 2025 in an area of more than 105 km2 (41 sq mi), ... Paris is the capital and most populous city of France. Situated on the Seine River, in the north of the country, it is in the centre of the Île-de-France ... Paris is the capital of France, the largest country of Europe with 550 000 km2 (65 millions inhabitants). Paris has 2.234 million inhabitants end 2011. The capital of France has been Paris since its liberation in 1944. Paris, city and capital of France, located along the Seine River, in the north-central part of the country. Paris is one of the world\\'s most ... Paris is the city of romance par excellence, the fashion capital and the best example of French art de vivre. Exploring Paris is an essential rite of passage ... Paris, the capital of France, is often referred to as the \"City of Light\" and is renowned for its art, culture, and history. NARRATOR: The Eiffel Tower is the best-known symbol of Paris, the capital of France. Paris is an important center for business and culture. With its wide ... Paris is the capital and most populous city of France. Situated on the Seine River, in the north of the country, it is in the centre of the Île- ... Paris Is The Capital City Of France! | The Paris Song | KLT Geography · Try YouTube Kids.'"
      ]
     },
     "execution_count": 3,
     "metadata": {},
     "output_type": "execute_result"
    }
   ],
   "source": [
    "from langchain_community.utilities import GoogleSerperAPIWrapper\n",
    "\n",
    "serper = GoogleSerperAPIWrapper()\n",
    "serper.run(\"What is the capital of France?\")"
   ]
  },
  {
   "cell_type": "markdown",
   "metadata": {},
   "source": [
    "### Now here is a LangChain wrapper class for converting functions into Tools\n",
    "\n",
    "Now, this is showing you some of the nice stuff that's actually in Lanchain rather than Langroth, but Langroth uses it too. I mentioned to you that Lanchain already does sort of simple agent interactions. It already gives some wrapper code, some abstraction code. And here is one of them. I kept the import here so we could see that it's from Lanchain. So you can say that you can wrap a function like this with a tool object. You give it a name, like search, a function, SERPA.run. That's what it will actually do when it needs to call this tool. And a description is what will be called when building the JSON around this tool. So that's wrapped it in a tool object, a Lanchain tool object. And as you can probably guess, this is going to take away all of the gumph about building that JSON object with all the stuff and properties and everything else. It's going to take care of all of that for us. "
   ]
  },
  {
   "cell_type": "code",
   "execution_count": 4,
   "metadata": {},
   "outputs": [],
   "source": [
    "from langchain.agents import Tool\n",
    "\n",
    "tool_search =Tool(\n",
    "        name=\"search\",\n",
    "        func=serper.run,\n",
    "        description=\"Useful for when you need more information from an online search\"\n",
    "    )"
   ]
  },
  {
   "cell_type": "markdown",
   "metadata": {},
   "source": [
    "### Now we can try out the tool the langchain way"
   ]
  },
  {
   "cell_type": "markdown",
   "metadata": {},
   "source": [
    "So we can now try out the same question. What's the capital of France? Which we can do using toolsearch.invoke. The Lanchain way we are calling this tool. And there we go. We get an answer of the capital of France. Same thing. But now we're doing it by calling invoke. Okay. And now let's just show you what it's like to build a tool from scratch ourselves. It's super easy. "
   ]
  },
  {
   "cell_type": "code",
   "execution_count": 5,
   "metadata": {},
   "outputs": [
    {
     "data": {
      "text/plain": [
       "'Paris is the capital and largest city of France. With an estimated population of 2,048,472 in January 2025 in an area of more than 105 km2 (41 sq mi), ... Paris is the capital and most populous city of France. Situated on the Seine River, in the north of the country, it is in the centre of the Île-de-France ... Paris is the capital of France, the largest country of Europe with 550 000 km2 (65 millions inhabitants). Paris has 2.234 million inhabitants end 2011. The capital of France has been Paris since its liberation in 1944. Paris, city and capital of France, located along the Seine River, in the north-central part of the country. Paris is one of the world\\'s most ... Paris is the city of romance par excellence, the fashion capital and the best example of French art de vivre. Exploring Paris is an essential rite of passage ... Paris, the capital of France, is often referred to as the \"City of Light\" and is renowned for its art, culture, and history. NARRATOR: The Eiffel Tower is the best-known symbol of Paris, the capital of France. Paris is an important center for business and culture. With its wide ... Paris is the capital and most populous city of France. Situated on the Seine River, in the north of the country, it is in the centre of the Île- ... Paris Is The Capital City Of France! | The Paris Song | KLT Geography · Try YouTube Kids.'"
      ]
     },
     "execution_count": 5,
     "metadata": {},
     "output_type": "execute_result"
    }
   ],
   "source": [
    "tool_search.invoke(\"What is the capital of France?\")"
   ]
  },
  {
   "cell_type": "markdown",
   "metadata": {},
   "source": [
    "### And now let's write a tool ourselves\n",
    "\n",
    "We'll pick a familiar one\n",
    "\n",
    "So we'll use the same old thing that we like to do. This is nice. It's so tangible. Using pushover, this is the same kind of function. This is able to send a push notification to me. So we give it the usual doc string. We give it the information about it. And here we go. That's that. "
   ]
  },
  {
   "cell_type": "code",
   "execution_count": 6,
   "metadata": {},
   "outputs": [],
   "source": [
    "pushover_token = os.getenv(\"PUSHOVER_TOKEN\")\n",
    "pushover_user = os.getenv(\"PUSHOVER_USER\")\n",
    "pushover_url = \"https://api.pushover.net/1/messages.json\"\n",
    "\n",
    "def push(text: str):\n",
    "    \"\"\"Send a push notification to the user\"\"\"\n",
    "    requests.post(pushover_url, data = {\"token\": pushover_token, \"user\": pushover_user, \"message\": text})"
   ]
  },
  {
   "cell_type": "markdown",
   "metadata": {},
   "source": [
    "I put that into a tool. Again, the same construct, the Lanchain construct. The name is send push notification. The function is push. And that's a description. And now I can then call toolpush.invoke with hello me. There we go. "
   ]
  },
  {
   "cell_type": "code",
   "execution_count": 7,
   "metadata": {},
   "outputs": [],
   "source": [
    "tool_push = Tool(\n",
    "        name=\"send_push_notification\",\n",
    "        func=push,\n",
    "        description=\"useful for when you want to send a push notification\"\n",
    "    )\n",
    "\n",
    "tool_push.invoke(\"Hello, me\")"
   ]
  },
  {
   "cell_type": "markdown",
   "metadata": {},
   "source": [
    "### Bring them together\n",
    "\n",
    "Hello me. So now we have made a tool ourselves. A custom tool. So now we have an off-the-shelf tool for searching using the same Serpa API. And we have a custom tool for sending a push notification using the nifty pushover package. Okay. And we can put both of these tools in a list of tools. "
   ]
  },
  {
   "cell_type": "code",
   "execution_count": 8,
   "metadata": {},
   "outputs": [],
   "source": [
    "tools = [tool_search, tool_push]"
   ]
  },
  {
   "cell_type": "markdown",
   "metadata": {},
   "source": [
    "### Back to the Graph from yesterday\n",
    "\n",
    "One small change - using TypedDict instead of BaseModel for the State object\n",
    "\n",
    "When we implement tools, we always need to make 2 changes to the code:\n",
    "\n",
    "1. Changes to provide the tools to OpenAI in json when we make the call\n",
    "\n",
    "2. Changes to handle the results back: look for the model staying that the finish_reason==\"tool_calls\" and then retrieve the call, run the function, provide the results.\n",
    "\n",
    "\n",
    "---\n",
    "\n",
    "One small change I'm going to make, though, is this time, for the State object, we're not going to use a Pydantic object, we're going to use a TypedDict. And it looks almost identical, it's just a subclass of TypedDict instead of Pydantic, a base model. But otherwise, the same thing. Messages field, it's annotated, it's a list, and this is telling LandGraph that we're going to use the AddMessagesReducer as a way of reducing. Otherwise, it's just the same. So you can stick with Pydantic if you prefer, but this is a different way of doing it."
   ]
  },
  {
   "cell_type": "code",
   "execution_count": 9,
   "metadata": {},
   "outputs": [],
   "source": [
    "# Step 1: Define the State object\n",
    "class State(TypedDict):\n",
    "    messages: Annotated[list, add_messages]"
   ]
  },
  {
   "cell_type": "markdown",
   "metadata": {},
   "source": [
    "So then we start the GraphBuilder right there,"
   ]
  },
  {
   "cell_type": "code",
   "execution_count": 10,
   "metadata": {},
   "outputs": [],
   "source": [
    "# Step 2: Start the Graph Builder with this State class\n",
    "graph_builder = StateGraph(State)"
   ]
  },
  {
   "cell_type": "markdown",
   "metadata": {},
   "source": [
    "So then we start the GraphBuilder right there, and now we have something different. So it's worth keeping in mind, in your mind, that when we work with tools, there's actually two different places in our code that typically we have to worry about tools. And I've explained this up here. First of all, when we're making the call to the model to open AI, that's the point at which we have to look at our tools and create all of that JSON nonsense, all of the stuff to describe what the tool is, so that when we prompt the model, it knows what it can do. So that's one piece of work that has to happen. And then another piece of work is when the model then responds, we have to test to see whether it's a finish reason, tool calls, and if so, then we have to do that stuff, which was the quite long-winded handle tool call method in the first week, where we unpacked the tool call, and then we did some clever stuff. You can either have just an if statement, or you can have something clever that goes and finds the function and calls it. But that whole piece of the puzzle, the receiving the message to call a tool from the model, is like another place where you have to do all of your coding. Those are the two points, and we'll see both those points separately in how we have to handle this with Langra. \n",
    "\n",
    "\n",
    "So this is the first one. When we create the model, this is the chat open AI object, which is the Lang chain wrap-up around calling open AI. We also, once we've created this, we make another version of LLM, which is LLM with tools, which is after calling bind tools to the LLM. And this is just some nice sort of magic, which is going to then figure out what are the tools that it can call, and make sure that whenever we call that model, whenever we call this version of the model, it's going to provide all of the tools it can do. So it's one of those examples. This is really powerful. It's Lang chain here, and it's Lang chain being really nice at making it simple to package away all of that JSON stuff, and do it for us by abstracting around an LLM to have an LLM with tools, which whenever you call it, it's going to automatically pass in all the tools it can call. The flip side of that is that it's sort of hiding from us some of the implementation and some of what's going on, which can make it hard to debug and things. But you certainly, I mean, hopefully you see the positives very much. It's really easy. That is done. Now whenever we call LLM with tools, it's going to automatically handle the building of that JSON and the passing it in. "
   ]
  },
  {
   "cell_type": "code",
   "execution_count": 11,
   "metadata": {},
   "outputs": [],
   "source": [
    "# This is different:\n",
    "\n",
    "llm = ChatOpenAI(model=\"gpt-4o-mini\")\n",
    "llm_with_tools = llm.bind_tools(tools)"
   ]
  },
  {
   "cell_type": "markdown",
   "metadata": {},
   "source": [
    "This is our node, our function for the chatbot, which just as before, we return messages. And then what we've got here is we just call invoke, but not on the LLM, but on the LLM with tools that knows already about those tools. It will build the JSON. It will pass the JSON in as the tools. So it's really clever. And then we add that node. \n",
    "\n",
    "\n",
    "And then there's this line here. This is part two. This is the other thing. This is handling the results back. So what's happening here is that we added that chatbot node. We're adding a second node called tools. And it is a special type of node. It's a tool node. And when you create a tool node, you have to tell it, okay, what are these tools? What is it that you do? And this tool node is basically like a canned node that when it's invoked, it's going to see whether any of the message is asking to call one of the tools that it's been assigned, that was passed to it when it was created. That's the job of the tool node. And if so, it will run them. So one more time, this piece of code here is handling the request to the LLM and packaging up the tools JSON. And this node here is handling what happens if there is a tool request. It's handling the unbundling of the request and the actual calling of the tool function."
   ]
  },
  {
   "cell_type": "code",
   "execution_count": 12,
   "metadata": {},
   "outputs": [
    {
     "data": {
      "text/plain": [
       "<langgraph.graph.state.StateGraph at 0x11497e150>"
      ]
     },
     "execution_count": 12,
     "metadata": {},
     "output_type": "execute_result"
    }
   ],
   "source": [
    "# Step 3: Create a Node\n",
    "\n",
    "\n",
    "def chatbot(state: State):\n",
    "    return {\"messages\": [llm_with_tools.invoke(state[\"messages\"])]}\n",
    "\n",
    "graph_builder.add_node(\"chatbot\", chatbot)\n",
    "graph_builder.add_node(\"tools\", ToolNode(tools=tools))"
   ]
  },
  {
   "cell_type": "markdown",
   "metadata": {},
   "source": [
    "Surely, we're going to create the edges now, and again, a little bit more complicated than before. So, there is an edge which is going from the chatbot to the tools, from this node, which is the actual chatbot, the LLM with tools, to the thing that calls tools, to the node that actually runs the different tools. We need to connect those two. But that connection, it's a connection which has like an if attached to it. We don't want to always call tools. We only want to call those tools if the model has returned a response that the finish reason is tool calls. We had to like code that ourselves in week one, if finish reason is tool calls. So that if has to be included in here, because it's only if that's true, it's only if the model returns that it wants to call tools that we actually want to call this node. And so, that is why, when you look at this edge, it's not a normal edge, it's called `add_conditional_edges`, which means it's an edge that's only triggered in certain conditions, like an if statement, and you give it the node name, you give it the condition, and you give it the node that would then be called. And that condition, called `tools _condition`, is again pre-canned with Langraph, and of course it looks to see if the finish reason is handle tools. And so, sorry, the finish reason is tool calls. And so that is what, that's exactly what that does. So when I used to say that at the end of the day, tool calling is just an if statement, this is the if statement. This thing here is handling that if statement, and if this if statement is true, then it's calling a node called tools. "
   ]
  },
  {
   "cell_type": "code",
   "execution_count": 13,
   "metadata": {},
   "outputs": [
    {
     "data": {
      "text/plain": [
       "<langgraph.graph.state.StateGraph at 0x11497e150>"
      ]
     },
     "execution_count": 13,
     "metadata": {},
     "output_type": "execute_result"
    }
   ],
   "source": [
    "# Step 4: Create Edges\n",
    "graph_builder.add_conditional_edges( \"chatbot\", tools_condition, \"tools\")"
   ]
  },
  {
   "cell_type": "markdown",
   "metadata": {},
   "source": [
    "All right, and then there's one more quite subtle point here, which is that you also have to make an edge between tools back to chatbot again, because the result of this, the result of running the tool, the output, needs to get fed back into the chatbot, and it needs to continue processing from there. So this is subtle, and once I've said it, it's probably obvious, but it's one of those things that if I hadn't said it, it's not something that would naturally have occurred to you, and if you don't do it, then things will go wrong in strange ways. So it's one of those times again, it's elegant, it's neat, it's great that Langraph does that, but it can make it a bit harder to debug. All right, and then we're going to add that start edge"
   ]
  },
  {
   "cell_type": "code",
   "execution_count": 14,
   "metadata": {},
   "outputs": [
    {
     "data": {
      "text/plain": [
       "<langgraph.graph.state.StateGraph at 0x11497e150>"
      ]
     },
     "execution_count": 14,
     "metadata": {},
     "output_type": "execute_result"
    }
   ],
   "source": [
    "# Any time a tool is called, we return to the chatbot to decide the next step\n",
    "graph_builder.add_edge(\"tools\", \"chatbot\")\n",
    "graph_builder.add_edge(START, \"chatbot\")"
   ]
  },
  {
   "cell_type": "markdown",
   "metadata": {},
   "source": [
    "and then we're going to compile and picture it, and this will hopefully bring this together for you. Start goes to chatbot. This is a conditional line. If the finish reason is a tool call, then it will come here, because the tool's condition will be true. Then it will be responsible, this node is a canned node that's responsible for calling the tools that are relevant, and then the result comes back, and this is a solid line, because if it's got here, it should always come back. And this is a dotted line, because only in the event that this didn't happen, then it will come to end naturally. Langraph automatically adds an end node for any unresolved condition like that. And so that is our graph, and I hope that seeing that graph has made it come together for you. So the two places where tools are incorporated, one is the chatbot itself, we're using the LLM with tools, and the other is in the conditional branch and this tools node itself."
   ]
  },
  {
   "cell_type": "code",
   "execution_count": 15,
   "metadata": {},
   "outputs": [
    {
     "data": {
      "image/png": "[encoded data removed]",
      "text/plain": [
       "<IPython.core.display.Image object>"
      ]
     },
     "metadata": {},
     "output_type": "display_data"
    }
   ],
   "source": [
    "# Step 5: Compile the Graph\n",
    "graph = graph_builder.compile()\n",
    "display(Image(graph.get_graph().draw_mermaid_png()))"
   ]
  },
  {
   "cell_type": "markdown",
   "metadata": {},
   "source": [
    "### That's it! And, let's do this:\n",
    "\n",
    "Well, I think it's enough chit-chat. We should get on and run this thing. So here we go. We're going to... I think I'll make this consistent with how we've done it before. We'll call this Chat, not InvokeGraph, but it is how we should think of it, really. So we're going to bring up a radio screen, and we're just going to call it. Let's see if this works. Okay, so I'm going to say hi there. Hello, how can I assist you today? Well, I'm going to do something fun here. I'm going to say, please send me a push notification with the current US dollar to Great British Pound exchange rate. So I'm hoping that it's going to look up the exchange rates by doing a web search, find it out, and then send me a push notification. This is ambitious. Two tool calls in one shot. Get that out of me. And we'll see how it does. So it's going. It's off. It's pausing. As you heard, it certainly sent me something. The current US dollar GBP exchange rate is 0.78. Well, I happen to have a Google screen sitting over here. Let's bring this into view. There you will find the current US dollar GBP exchange rate is indeed 0.78. So that's cool. That's cool. I hope you agree. Sorry, get that out of your way. I hope you agree. It's interesting to see that this has happened and that it's achieved this. And what we can see here is that we can come into Langsmith and see the outcome of this. I'm interested that it's put that in red, the four seconds that it took. So let's go into this and see more. Please send me a push notification with the current US dollar GBP exchange rate. So we can see that you can see the whole graph playing out here."
   ]
  },
  {
   "cell_type": "code",
   "execution_count": 16,
   "metadata": {},
   "outputs": [
    {
     "name": "stdout",
     "output_type": "stream",
     "text": [
      "* Running on local URL:  http://127.0.0.1:7860\n",
      "* To create a public link, set `share=True` in `launch()`.\n"
     ]
    },
    {
     "data": {
      "text/html": [
       "<div><iframe src=\"http://127.0.0.1:7860/\" width=\"100%\" height=\"500\" allow=\"autoplay; camera; microphone; clipboard-read; clipboard-write;\" frameborder=\"0\" allowfullscreen></iframe></div>"
      ],
      "text/plain": [
       "<IPython.core.display.HTML object>"
      ]
     },
     "metadata": {},
     "output_type": "display_data"
    },
    {
     "data": {
      "text/plain": []
     },
     "execution_count": 16,
     "metadata": {},
     "output_type": "execute_result"
    }
   ],
   "source": [
    "def chat(user_input: str, history):\n",
    "    result = graph.invoke({\"messages\": [{\"role\": \"user\", \"content\": user_input}]})\n",
    "    return result[\"messages\"][-1].content\n",
    "\n",
    "\n",
    "gr.ChatInterface(chat, type=\"messages\").launch()"
   ]
  },
  {
   "cell_type": "markdown",
   "metadata": {},
   "source": [
    "![](../img/41.png)"
   ]
  },
  {
   "cell_type": "markdown",
   "metadata": {},
   "source": [
    "So, we can see that, you can see the whole graph playing out here, and it's fascinating to see. Let's scroll down. It's doing a search right here, click here, current USDT-GPT exchange rate, and that's the result that came back. This is from doing the search, just as we expected, and then it came back to a tools condition to a send push notification, and back came the answer, and then that was the conclusion. There we go, and that's how it responded. So there we see the full chain of discussion happening within Langsmith, and how you can come in and debug this, and see what's going on, and see, indeed, convince yourself that it did call the couple of tools. And this was great fun, and I hope you'll do the same thing. Come in now, and run this, let it call both tools, go into Langsmith, and trace through to make sure that you can also see all of these calls happening, just as we did right here."
   ]
  },
  {
   "cell_type": "markdown",
   "metadata": {},
   "source": [
    "![](../img/42.png)"
   ]
  },
  {
   "cell_type": "markdown",
   "metadata": {},
   "source": [
    "And I've come into length, spent one more time just to show you, I think I read from the wrong place there. The final output from GPT was right down here. I have sent you a push notification of the current USDGP exchange rate. So that's where you saw the end of the whole of the trace, right down at the bottom there. \n",
    "\n",
    "![](../img/44.png)\n",
    "\n",
    "Okay, so here we are back in this chat. And now let me just show you something, despite its incredible intelligence with this conversation. What we can now say is, my name's Alex. Nice to meet you, Alex. How can I assist you today? And I can say, what's my name? And it says, I don't have access to your personal information. \n",
    "\n",
    "![](../img/43.png)\n",
    "\n",
    "So I use this as a way of showing you that despite the fact that we have all of this state management, despite the fact that we've built up these reducers and this clever structure, it doesn't have any memory. It doesn't have the ability to remember between the different conversations. And you might be thinking, well, I guess you're not thinking because I explained it already, but if I hadn't explained it, you might be thinking, but hang on, we've got all these reducers, we've got all of this stuff to handle state and to add in state. Why isn't it just naturally remembering what's happening? And yes, it's all down to **super steps**. \n",
    "\n",
    "The point is that every invocation, every time we call this graph, it's like a separate, fresh invocation, and state is managed and maintained within any one invocation. That's what it's there for. It's to handle so that you can have multiple nodes running in parallel, you can have all sorts of stuff happening, and the state will be managed through the whole graph in a reproducible way. That's the power of the state management part. But that doesn't help you between separate super steps. Each **Super-Step** is a different invocation of the graph, and the way that you do this is you use **checkpointing**. That's how you add memory. \n",
    "\n",
    "Well, I have to tell you, I have some misgivings about Landgraf from time to time, how heavyweight it can be on occasion, and some of the things we have to learn. But this is one case where I am very impressed indeed, and it's a moment for me when I get it. I realize why people like this so much, and I can really appreciate the power of it. Checkpointing is very elegant, very simple, and it leads to robust, repeatable processes. And you will see that too, and I imagine you'll be impressed like me at the end of it."
   ]
  },
  {
   "cell_type": "markdown",
   "metadata": {},
   "source": [
    "## OK it's time to add Memory!\n",
    "\n",
    "### BUT WAIT!\n",
    "\n",
    "We have this whole Graph maintaining the state and appending to the state.\n",
    "\n",
    "Why isn't this handling memory?\n",
    "\n",
    "### This is a crucial point for understanding LangGraph\n",
    "\n",
    "> A super-step can be considered a single iteration over the graph nodes. Nodes that run in parallel are part of the same super-step, while nodes that run sequentially belong to separate super-steps.\n",
    "\n",
    "\n",
    "One \"Super-Step\" of the graph represents one invocation of passing messages between agents.\n",
    "\n",
    "In idomatic LangGraph, you call invoke to run your graph for each super-step; for each interaction.\n",
    "\n",
    "The reducer handles state updates automatically within one super-step, but not between them.\n",
    "\n",
    "That is what checkpointing achieves."
   ]
  },
  {
   "cell_type": "markdown",
   "metadata": {},
   "source": [
    "---\n",
    "So, we begin by creating a new object called MemorySaver. Now, MemorySaver doesn't mean, like, saving memories. It's talking about saving to in-memory stores, to in-memory rather than to disk or to a database. That's a bit confusing. So that's what MemorySaver means. "
   ]
  },
  {
   "cell_type": "code",
   "execution_count": 17,
   "metadata": {},
   "outputs": [],
   "source": [
    "from langgraph.checkpoint.memory import MemorySaver\n",
    "\n",
    "memory = MemorySaver()"
   ]
  },
  {
   "cell_type": "markdown",
   "metadata": {},
   "source": [
    "And this is the same code we had before, exactly the same code. I put in a print statement so we can see what it's doing. And otherwise, the only change is when we compile the graph, we pass in checkpointer equals memory. We're passing in that memory object. There's our graph. It looks identical, exactly the same."
   ]
  },
  {
   "cell_type": "code",
   "execution_count": 18,
   "metadata": {},
   "outputs": [
    {
     "data": {
      "image/png": "[encoded data removed]",
      "text/plain": [
       "<IPython.core.display.Image object>"
      ]
     },
     "metadata": {},
     "output_type": "display_data"
    }
   ],
   "source": [
    "# Steps 1 and 2\n",
    "graph_builder = StateGraph(State)\n",
    "\n",
    "\n",
    "# Step 3\n",
    "llm = ChatOpenAI(model=\"gpt-4o-mini\")\n",
    "llm_with_tools = llm.bind_tools(tools)\n",
    "\n",
    "def chatbot(state: State):\n",
    "    print(state)\n",
    "    return {\"messages\": [llm_with_tools.invoke(state[\"messages\"])]}\n",
    "\n",
    "graph_builder.add_node(\"chatbot\", chatbot)\n",
    "graph_builder.add_node(\"tools\", ToolNode(tools=tools))\n",
    "\n",
    "# Step 4\n",
    "graph_builder.add_conditional_edges( \"chatbot\", tools_condition, \"tools\")\n",
    "graph_builder.add_edge(\"tools\", \"chatbot\")\n",
    "graph_builder.add_edge(START, \"chatbot\")\n",
    "\n",
    "# Step 5\n",
    "graph = graph_builder.compile(checkpointer=memory)\n",
    "display(Image(graph.get_graph().draw_mermaid_png()))"
   ]
  },
  {
   "cell_type": "markdown",
   "metadata": {},
   "source": [
    "And now, this is where we actually run the code. There's a little bit of stuff here, which is a bit hacky, a bit hokey. But the idea is you have to create this object called config. It's a dictionary with one field, configurable. And in that field, you have to put in a thread ID. And thread ID doesn't mean, like, a technical thread. It's meant to be, like, a conversation thread. Like, it's something that refers to this set of thread of memories that needs to be connected together. And so that's how you specify that this is this particular grouping in memory. \n",
    "\n",
    "And then, when you invoke the graph, you have to pass in that config. That's how you make sure that when you're invoking the graph, it's being associated with the right sort of slot in memory. And that is all there is to it. "
   ]
  },
  {
   "cell_type": "code",
   "execution_count": 19,
   "metadata": {},
   "outputs": [
    {
     "name": "stdout",
     "output_type": "stream",
     "text": [
      "* Running on local URL:  http://127.0.0.1:7861\n",
      "* To create a public link, set `share=True` in `launch()`.\n"
     ]
    },
    {
     "data": {
      "text/html": [
       "<div><iframe src=\"http://127.0.0.1:7861/\" width=\"100%\" height=\"500\" allow=\"autoplay; camera; microphone; clipboard-read; clipboard-write;\" frameborder=\"0\" allowfullscreen></iframe></div>"
      ],
      "text/plain": [
       "<IPython.core.display.HTML object>"
      ]
     },
     "metadata": {},
     "output_type": "display_data"
    },
    {
     "data": {
      "text/plain": []
     },
     "execution_count": 19,
     "metadata": {},
     "output_type": "execute_result"
    },
    {
     "name": "stdout",
     "output_type": "stream",
     "text": [
      "{'messages': [HumanMessage(content='What´s my name?', additional_kwargs={}, response_metadata={}, id='038ea49a-73d8-4b96-b15a-655ff617e7e8')]}\n"
     ]
    }
   ],
   "source": [
    "config = {\"configurable\": {\"thread_id\": \"1\"}}\n",
    "\n",
    "def chat(user_input: str, history):\n",
    "    result = graph.invoke({\"messages\": [{\"role\": \"user\", \"content\": user_input}]}, config=config)\n",
    "    return result[\"messages\"][-1].content\n",
    "\n",
    "\n",
    "gr.ChatInterface(chat, type=\"messages\").launch()"
   ]
  },
  {
   "cell_type": "markdown",
   "metadata": {},
   "source": [
    "So, with that, let's bring this up. And will you say hi there? Hello. I can assist you today. My name's Ed. Nice to meet you, Ed. How can I help you? What's my name? I think it's going to get it. Your name is Ed. How can I help you further? And no surprise, you can see down here, the print statement that I mentioned is printing out the inputs. And we're getting the full history each time. And that is all there is to it. That is checkpointing in action. Maintaining memory between each of the calls, each of the super steps. Now, I know what you're thinking. You're thinking, oh, yeah, what's the big deal? Why are you so impressed by this? I mean, it's just like, you could also get that just by storing that list of dicks. Or we could take it from Gradio's UI here and put it in a global link and keep playing it in. Well, look. Look at some of this stuff."
   ]
  },
  {
   "cell_type": "markdown",
   "metadata": {},
   "source": [
    "![](../img/45.png)"
   ]
  },
  {
   "cell_type": "markdown",
   "metadata": {},
   "source": [
    "So you can call graph, the compiled graph, .getState, given the config, and we get back this thing called a state snapshot. And this has in it the messages and then the complete, the conversation so far. Alright, so it's like a global that has this in it. But there's more. "
   ]
  },
  {
   "cell_type": "code",
   "execution_count": 21,
   "metadata": {},
   "outputs": [
    {
     "data": {
      "text/plain": [
       "StateSnapshot(values={'messages': [HumanMessage(content='My name is Alex', additional_kwargs={}, response_metadata={}, id='e012c408-97e5-4e8f-9f81-eb848d821cac'), AIMessage(content='Nice to meet you, Alex! How can I assist you today?', additional_kwargs={'refusal': None}, response_metadata={'token_usage': {'completion_tokens': 15, 'prompt_tokens': 92, 'total_tokens': 107, 'completion_tokens_details': {'accepted_prediction_tokens': 0, 'audio_tokens': 0, 'reasoning_tokens': 0, 'rejected_prediction_tokens': 0}, 'prompt_tokens_details': {'audio_tokens': 0, 'cached_tokens': 0}}, 'model_name': 'gpt-4o-mini-2024-07-18', 'system_fingerprint': 'fp_34a54ae93c', 'id': 'chatcmpl-BxaDCezTZz5MixsKXk4SPskQPtwJE', 'service_tier': 'default', 'finish_reason': 'stop', 'logprobs': None}, id='run--06459512-66fc-42bb-9de3-f02bb0aa20d0-0', usage_metadata={'input_tokens': 92, 'output_tokens': 15, 'total_tokens': 107, 'input_token_details': {'audio': 0, 'cache_read': 0}, 'output_token_details': {'audio': 0, 'reasoning': 0}}), HumanMessage(content='what´s my name?', additional_kwargs={}, response_metadata={}, id='16c17def-d6fe-4fb5-abd7-45b9916f6f89'), AIMessage(content='Your name is Alex.', additional_kwargs={'refusal': None}, response_metadata={'token_usage': {'completion_tokens': 6, 'prompt_tokens': 119, 'total_tokens': 125, 'completion_tokens_details': {'accepted_prediction_tokens': 0, 'audio_tokens': 0, 'reasoning_tokens': 0, 'rejected_prediction_tokens': 0}, 'prompt_tokens_details': {'audio_tokens': 0, 'cached_tokens': 0}}, 'model_name': 'gpt-4o-mini-2024-07-18', 'system_fingerprint': 'fp_34a54ae93c', 'id': 'chatcmpl-BxaDLoB5YL4uaE9y3JS10sIVnXHgW', 'service_tier': 'default', 'finish_reason': 'stop', 'logprobs': None}, id='run--b4019355-3f31-4987-8386-45ac2e3d1913-0', usage_metadata={'input_tokens': 119, 'output_tokens': 6, 'total_tokens': 125, 'input_token_details': {'audio': 0, 'cache_read': 0}, 'output_token_details': {'audio': 0, 'reasoning': 0}})]}, next=(), config={'configurable': {'thread_id': '1', 'checkpoint_ns': '', 'checkpoint_id': '1f06a2d2-6417-6e7c-8004-2f5e6ee311c0'}}, metadata={'source': 'loop', 'writes': {'chatbot': {'messages': [AIMessage(content='Your name is Alex.', additional_kwargs={'refusal': None}, response_metadata={'token_usage': {'completion_tokens': 6, 'prompt_tokens': 119, 'total_tokens': 125, 'completion_tokens_details': {'accepted_prediction_tokens': 0, 'audio_tokens': 0, 'reasoning_tokens': 0, 'rejected_prediction_tokens': 0}, 'prompt_tokens_details': {'audio_tokens': 0, 'cached_tokens': 0}}, 'model_name': 'gpt-4o-mini-2024-07-18', 'system_fingerprint': 'fp_34a54ae93c', 'id': 'chatcmpl-BxaDLoB5YL4uaE9y3JS10sIVnXHgW', 'service_tier': 'default', 'finish_reason': 'stop', 'logprobs': None}, id='run--b4019355-3f31-4987-8386-45ac2e3d1913-0', usage_metadata={'input_tokens': 119, 'output_tokens': 6, 'total_tokens': 125, 'input_token_details': {'audio': 0, 'cache_read': 0}, 'output_token_details': {'audio': 0, 'reasoning': 0}})]}}, 'step': 4, 'parents': {}, 'thread_id': '1'}, created_at='2025-07-26T14:30:59.638423+00:00', parent_config={'configurable': {'thread_id': '1', 'checkpoint_ns': '', 'checkpoint_id': '1f06a2d2-5d28-6d28-8003-414c8423fc30'}}, tasks=(), interrupts=())"
      ]
     },
     "execution_count": 21,
     "metadata": {},
     "output_type": "execute_result"
    }
   ],
   "source": [
    "graph.get_state(config)"
   ]
  },
  {
   "cell_type": "markdown",
   "metadata": {},
   "source": [
    "You can get .getStateHistory for our config. And what we get now is each step in time, every super step, every time we invoke the graph, the complete snapshot at that moment, starting from most recent at the top and then going back in time. And this is where it gets cool. And it's not like it's super sophisticated, but it's definitely a cool construct. LangChain allows you to step back in time to any prior moment. When you're passing in that config, the configurable, the thread ID, you can pass in a checkpoint ID to kind of rewind to a previous moment and then replay that through the graph. And this gives you this ability to basically do what they call time travel. That's the Lang Graph official name for it, which is really to be able to move back, get your snapshot at any point in time, and be able to rerun it from there. And this is really great because it allows you to build systems that are repeatable and robust. If something falls over, you can restart it from any snapshot, any point in time, and you've got this kind of full tracking on everything that happened. So, yeah, it's simple, but it's elegant, and this is a case of an abstraction that really makes sense to me. And it's definitely something that I think is very valuable. "
   ]
  },
  {
   "cell_type": "code",
   "execution_count": 22,
   "metadata": {},
   "outputs": [
    {
     "data": {
      "text/plain": [
       "[StateSnapshot(values={'messages': [HumanMessage(content='My name is Alex', additional_kwargs={}, response_metadata={}, id='e012c408-97e5-4e8f-9f81-eb848d821cac'), AIMessage(content='Nice to meet you, Alex! How can I assist you today?', additional_kwargs={'refusal': None}, response_metadata={'token_usage': {'completion_tokens': 15, 'prompt_tokens': 92, 'total_tokens': 107, 'completion_tokens_details': {'accepted_prediction_tokens': 0, 'audio_tokens': 0, 'reasoning_tokens': 0, 'rejected_prediction_tokens': 0}, 'prompt_tokens_details': {'audio_tokens': 0, 'cached_tokens': 0}}, 'model_name': 'gpt-4o-mini-2024-07-18', 'system_fingerprint': 'fp_34a54ae93c', 'id': 'chatcmpl-BxaDCezTZz5MixsKXk4SPskQPtwJE', 'service_tier': 'default', 'finish_reason': 'stop', 'logprobs': None}, id='run--06459512-66fc-42bb-9de3-f02bb0aa20d0-0', usage_metadata={'input_tokens': 92, 'output_tokens': 15, 'total_tokens': 107, 'input_token_details': {'audio': 0, 'cache_read': 0}, 'output_token_details': {'audio': 0, 'reasoning': 0}}), HumanMessage(content='what´s my name?', additional_kwargs={}, response_metadata={}, id='16c17def-d6fe-4fb5-abd7-45b9916f6f89'), AIMessage(content='Your name is Alex.', additional_kwargs={'refusal': None}, response_metadata={'token_usage': {'completion_tokens': 6, 'prompt_tokens': 119, 'total_tokens': 125, 'completion_tokens_details': {'accepted_prediction_tokens': 0, 'audio_tokens': 0, 'reasoning_tokens': 0, 'rejected_prediction_tokens': 0}, 'prompt_tokens_details': {'audio_tokens': 0, 'cached_tokens': 0}}, 'model_name': 'gpt-4o-mini-2024-07-18', 'system_fingerprint': 'fp_34a54ae93c', 'id': 'chatcmpl-BxaDLoB5YL4uaE9y3JS10sIVnXHgW', 'service_tier': 'default', 'finish_reason': 'stop', 'logprobs': None}, id='run--b4019355-3f31-4987-8386-45ac2e3d1913-0', usage_metadata={'input_tokens': 119, 'output_tokens': 6, 'total_tokens': 125, 'input_token_details': {'audio': 0, 'cache_read': 0}, 'output_token_details': {'audio': 0, 'reasoning': 0}})]}, next=(), config={'configurable': {'thread_id': '1', 'checkpoint_ns': '', 'checkpoint_id': '1f06a2d2-6417-6e7c-8004-2f5e6ee311c0'}}, metadata={'source': 'loop', 'writes': {'chatbot': {'messages': [AIMessage(content='Your name is Alex.', additional_kwargs={'refusal': None}, response_metadata={'token_usage': {'completion_tokens': 6, 'prompt_tokens': 119, 'total_tokens': 125, 'completion_tokens_details': {'accepted_prediction_tokens': 0, 'audio_tokens': 0, 'reasoning_tokens': 0, 'rejected_prediction_tokens': 0}, 'prompt_tokens_details': {'audio_tokens': 0, 'cached_tokens': 0}}, 'model_name': 'gpt-4o-mini-2024-07-18', 'system_fingerprint': 'fp_34a54ae93c', 'id': 'chatcmpl-BxaDLoB5YL4uaE9y3JS10sIVnXHgW', 'service_tier': 'default', 'finish_reason': 'stop', 'logprobs': None}, id='run--b4019355-3f31-4987-8386-45ac2e3d1913-0', usage_metadata={'input_tokens': 119, 'output_tokens': 6, 'total_tokens': 125, 'input_token_details': {'audio': 0, 'cache_read': 0}, 'output_token_details': {'audio': 0, 'reasoning': 0}})]}}, 'step': 4, 'parents': {}, 'thread_id': '1'}, created_at='2025-07-26T14:30:59.638423+00:00', parent_config={'configurable': {'thread_id': '1', 'checkpoint_ns': '', 'checkpoint_id': '1f06a2d2-5d28-6d28-8003-414c8423fc30'}}, tasks=(), interrupts=()),\n",
       " StateSnapshot(values={'messages': [HumanMessage(content='My name is Alex', additional_kwargs={}, response_metadata={}, id='e012c408-97e5-4e8f-9f81-eb848d821cac'), AIMessage(content='Nice to meet you, Alex! How can I assist you today?', additional_kwargs={'refusal': None}, response_metadata={'token_usage': {'completion_tokens': 15, 'prompt_tokens': 92, 'total_tokens': 107, 'completion_tokens_details': {'accepted_prediction_tokens': 0, 'audio_tokens': 0, 'reasoning_tokens': 0, 'rejected_prediction_tokens': 0}, 'prompt_tokens_details': {'audio_tokens': 0, 'cached_tokens': 0}}, 'model_name': 'gpt-4o-mini-2024-07-18', 'system_fingerprint': 'fp_34a54ae93c', 'id': 'chatcmpl-BxaDCezTZz5MixsKXk4SPskQPtwJE', 'service_tier': 'default', 'finish_reason': 'stop', 'logprobs': None}, id='run--06459512-66fc-42bb-9de3-f02bb0aa20d0-0', usage_metadata={'input_tokens': 92, 'output_tokens': 15, 'total_tokens': 107, 'input_token_details': {'audio': 0, 'cache_read': 0}, 'output_token_details': {'audio': 0, 'reasoning': 0}}), HumanMessage(content='what´s my name?', additional_kwargs={}, response_metadata={}, id='16c17def-d6fe-4fb5-abd7-45b9916f6f89')]}, next=('chatbot',), config={'configurable': {'thread_id': '1', 'checkpoint_ns': '', 'checkpoint_id': '1f06a2d2-5d28-6d28-8003-414c8423fc30'}}, metadata={'source': 'loop', 'writes': None, 'step': 3, 'parents': {}, 'thread_id': '1'}, created_at='2025-07-26T14:30:58.911351+00:00', parent_config={'configurable': {'thread_id': '1', 'checkpoint_ns': '', 'checkpoint_id': '1f06a2d2-5d26-6ee2-8002-9b202699bb67'}}, tasks=(PregelTask(id='e37e0474-d1ce-4280-13de-74cb45edeadb', name='chatbot', path=('__pregel_pull', 'chatbot'), error=None, interrupts=(), state=None, result={'messages': [AIMessage(content='Your name is Alex.', additional_kwargs={'refusal': None}, response_metadata={'token_usage': {'completion_tokens': 6, 'prompt_tokens': 119, 'total_tokens': 125, 'completion_tokens_details': {'accepted_prediction_tokens': 0, 'audio_tokens': 0, 'reasoning_tokens': 0, 'rejected_prediction_tokens': 0}, 'prompt_tokens_details': {'audio_tokens': 0, 'cached_tokens': 0}}, 'model_name': 'gpt-4o-mini-2024-07-18', 'system_fingerprint': 'fp_34a54ae93c', 'id': 'chatcmpl-BxaDLoB5YL4uaE9y3JS10sIVnXHgW', 'service_tier': 'default', 'finish_reason': 'stop', 'logprobs': None}, id='run--b4019355-3f31-4987-8386-45ac2e3d1913-0', usage_metadata={'input_tokens': 119, 'output_tokens': 6, 'total_tokens': 125, 'input_token_details': {'audio': 0, 'cache_read': 0}, 'output_token_details': {'audio': 0, 'reasoning': 0}})]}),), interrupts=()),\n",
       " StateSnapshot(values={'messages': [HumanMessage(content='My name is Alex', additional_kwargs={}, response_metadata={}, id='e012c408-97e5-4e8f-9f81-eb848d821cac'), AIMessage(content='Nice to meet you, Alex! How can I assist you today?', additional_kwargs={'refusal': None}, response_metadata={'token_usage': {'completion_tokens': 15, 'prompt_tokens': 92, 'total_tokens': 107, 'completion_tokens_details': {'accepted_prediction_tokens': 0, 'audio_tokens': 0, 'reasoning_tokens': 0, 'rejected_prediction_tokens': 0}, 'prompt_tokens_details': {'audio_tokens': 0, 'cached_tokens': 0}}, 'model_name': 'gpt-4o-mini-2024-07-18', 'system_fingerprint': 'fp_34a54ae93c', 'id': 'chatcmpl-BxaDCezTZz5MixsKXk4SPskQPtwJE', 'service_tier': 'default', 'finish_reason': 'stop', 'logprobs': None}, id='run--06459512-66fc-42bb-9de3-f02bb0aa20d0-0', usage_metadata={'input_tokens': 92, 'output_tokens': 15, 'total_tokens': 107, 'input_token_details': {'audio': 0, 'cache_read': 0}, 'output_token_details': {'audio': 0, 'reasoning': 0}})]}, next=('__start__',), config={'configurable': {'thread_id': '1', 'checkpoint_ns': '', 'checkpoint_id': '1f06a2d2-5d26-6ee2-8002-9b202699bb67'}}, metadata={'source': 'input', 'writes': {'__start__': {'messages': [{'role': 'user', 'content': 'what´s my name?'}]}}, 'step': 2, 'parents': {}, 'thread_id': '1'}, created_at='2025-07-26T14:30:58.910572+00:00', parent_config={'configurable': {'thread_id': '1', 'checkpoint_ns': '', 'checkpoint_id': '1f06a2d2-1319-6d04-8001-d8707310dc22'}}, tasks=(PregelTask(id='a441d7a9-cb80-9d02-7568-466d70d46861', name='__start__', path=('__pregel_pull', '__start__'), error=None, interrupts=(), state=None, result={'messages': [{'role': 'user', 'content': 'what´s my name?'}]}),), interrupts=()),\n",
       " StateSnapshot(values={'messages': [HumanMessage(content='My name is Alex', additional_kwargs={}, response_metadata={}, id='e012c408-97e5-4e8f-9f81-eb848d821cac'), AIMessage(content='Nice to meet you, Alex! How can I assist you today?', additional_kwargs={'refusal': None}, response_metadata={'token_usage': {'completion_tokens': 15, 'prompt_tokens': 92, 'total_tokens': 107, 'completion_tokens_details': {'accepted_prediction_tokens': 0, 'audio_tokens': 0, 'reasoning_tokens': 0, 'rejected_prediction_tokens': 0}, 'prompt_tokens_details': {'audio_tokens': 0, 'cached_tokens': 0}}, 'model_name': 'gpt-4o-mini-2024-07-18', 'system_fingerprint': 'fp_34a54ae93c', 'id': 'chatcmpl-BxaDCezTZz5MixsKXk4SPskQPtwJE', 'service_tier': 'default', 'finish_reason': 'stop', 'logprobs': None}, id='run--06459512-66fc-42bb-9de3-f02bb0aa20d0-0', usage_metadata={'input_tokens': 92, 'output_tokens': 15, 'total_tokens': 107, 'input_token_details': {'audio': 0, 'cache_read': 0}, 'output_token_details': {'audio': 0, 'reasoning': 0}})]}, next=(), config={'configurable': {'thread_id': '1', 'checkpoint_ns': '', 'checkpoint_id': '1f06a2d2-1319-6d04-8001-d8707310dc22'}}, metadata={'source': 'loop', 'writes': {'chatbot': {'messages': [AIMessage(content='Nice to meet you, Alex! How can I assist you today?', additional_kwargs={'refusal': None}, response_metadata={'token_usage': {'completion_tokens': 15, 'prompt_tokens': 92, 'total_tokens': 107, 'completion_tokens_details': {'accepted_prediction_tokens': 0, 'audio_tokens': 0, 'reasoning_tokens': 0, 'rejected_prediction_tokens': 0}, 'prompt_tokens_details': {'audio_tokens': 0, 'cached_tokens': 0}}, 'model_name': 'gpt-4o-mini-2024-07-18', 'system_fingerprint': 'fp_34a54ae93c', 'id': 'chatcmpl-BxaDCezTZz5MixsKXk4SPskQPtwJE', 'service_tier': 'default', 'finish_reason': 'stop', 'logprobs': None}, id='run--06459512-66fc-42bb-9de3-f02bb0aa20d0-0', usage_metadata={'input_tokens': 92, 'output_tokens': 15, 'total_tokens': 107, 'input_token_details': {'audio': 0, 'cache_read': 0}, 'output_token_details': {'audio': 0, 'reasoning': 0}})]}}, 'step': 1, 'parents': {}, 'thread_id': '1'}, created_at='2025-07-26T14:30:51.145687+00:00', parent_config={'configurable': {'thread_id': '1', 'checkpoint_ns': '', 'checkpoint_id': '1f06a2d2-0606-625c-8000-7d3fd8daa4a4'}}, tasks=(), interrupts=()),\n",
       " StateSnapshot(values={'messages': [HumanMessage(content='My name is Alex', additional_kwargs={}, response_metadata={}, id='e012c408-97e5-4e8f-9f81-eb848d821cac')]}, next=('chatbot',), config={'configurable': {'thread_id': '1', 'checkpoint_ns': '', 'checkpoint_id': '1f06a2d2-0606-625c-8000-7d3fd8daa4a4'}}, metadata={'source': 'loop', 'writes': None, 'step': 0, 'parents': {}, 'thread_id': '1'}, created_at='2025-07-26T14:30:49.774533+00:00', parent_config={'configurable': {'thread_id': '1', 'checkpoint_ns': '', 'checkpoint_id': '1f06a2d2-0602-6206-bfff-83baa01b3887'}}, tasks=(PregelTask(id='63018639-de91-9917-3acc-e010a0b623cb', name='chatbot', path=('__pregel_pull', 'chatbot'), error=None, interrupts=(), state=None, result={'messages': [AIMessage(content='Nice to meet you, Alex! How can I assist you today?', additional_kwargs={'refusal': None}, response_metadata={'token_usage': {'completion_tokens': 15, 'prompt_tokens': 92, 'total_tokens': 107, 'completion_tokens_details': {'accepted_prediction_tokens': 0, 'audio_tokens': 0, 'reasoning_tokens': 0, 'rejected_prediction_tokens': 0}, 'prompt_tokens_details': {'audio_tokens': 0, 'cached_tokens': 0}}, 'model_name': 'gpt-4o-mini-2024-07-18', 'system_fingerprint': 'fp_34a54ae93c', 'id': 'chatcmpl-BxaDCezTZz5MixsKXk4SPskQPtwJE', 'service_tier': 'default', 'finish_reason': 'stop', 'logprobs': None}, id='run--06459512-66fc-42bb-9de3-f02bb0aa20d0-0', usage_metadata={'input_tokens': 92, 'output_tokens': 15, 'total_tokens': 107, 'input_token_details': {'audio': 0, 'cache_read': 0}, 'output_token_details': {'audio': 0, 'reasoning': 0}})]}),), interrupts=()),\n",
       " StateSnapshot(values={'messages': []}, next=('__start__',), config={'configurable': {'thread_id': '1', 'checkpoint_ns': '', 'checkpoint_id': '1f06a2d2-0602-6206-bfff-83baa01b3887'}}, metadata={'source': 'input', 'writes': {'__start__': {'messages': [{'role': 'user', 'content': 'My name is Alex'}]}}, 'step': -1, 'parents': {}, 'thread_id': '1'}, created_at='2025-07-26T14:30:49.772884+00:00', parent_config=None, tasks=(PregelTask(id='f01bc16e-816e-ea80-671e-0c83e352fb21', name='__start__', path=('__pregel_pull', '__start__'), error=None, interrupts=(), state=None, result={'messages': [{'role': 'user', 'content': 'My name is Alex'}]}),), interrupts=())]"
      ]
     },
     "execution_count": 22,
     "metadata": {},
     "output_type": "execute_result"
    }
   ],
   "source": [
    "# Most recent first\n",
    "\n",
    "list(graph.get_state_history(config))"
   ]
  },
  {
   "cell_type": "markdown",
   "metadata": {},
   "source": [
    "I just want to show you as well that this has got nothing to do with Gradio and with kind of variables. I can come back in and I can just relaunch my Gradio UI right here. And I can say like, hi there. It says, hi again, Ed. I was going to say, what's my name, but I don't need to. You can see right away, it's got the memory. It's still got that memory. It's got nothing to do with the information stored in Gradio's chat UI, which is what we've always used in the past with Gradio. But rather, it is the memory, the checkpointing that's happening inside this memory object. And then I can actually, I can come back and if I recreate, I can create a fresh new memory saver object and come in and then I have to rebuild my graph with the new memory right there and then re-bring up my chat interface. And now if I say, hi there, and what's my name, it's obviously not going to know it. So that just explains that by recreating a new memory object, we've reset everything. And that gives you a good sense of what's going on. My name's Ed. Nice to meet you, Ed. How can I assist you today? What's my name? Just to prove the point, your name is Ed. And then let me just show one more thing here. We can also change the thread ID to 2. Let's re-run this and take a look here. Say hi there. Hello, how can I assist you? What's my name? And it says it doesn't know because the thread is 2. If we now go back to the thread is 1, I know you can get this, but it's worth saying. And now hi there. Hello again, Ed. So there you see it. It's a nice, elegant, it's relatively lightweight and simple, but very powerful. And that's a nice combination that I can get behind. And you can come in and look, of course, at the different checkpoints but either thread number 1 or thread number 2 using this same structure.\n",
    "\n",
    "![](../img/46.png)"
   ]
  },
  {
   "cell_type": "markdown",
   "metadata": {},
   "source": [
    "### LangGraph gives you tools to set the state back to a prior point in time, to branch off:\n",
    "\n",
    "```\n",
    "config = {\"configurable\": {\"thread_id\": \"1\", \"checkpoint_id\": ...}}\n",
    "graph.invoke(None, config=config)\n",
    "```\n",
    "\n",
    "And this allows you to build stable systems that can be recovered and rerun from any prior checkpoint."
   ]
  },
  {
   "cell_type": "markdown",
   "metadata": {},
   "source": [
    "### And now let's store in SQL\n",
    "\n",
    "### And this is the power of LangGraph.\n",
    "\n",
    "And now for my next trick, and our last trick of the day. I'm going to switch it to store it in SQL instead. Our memory is going to be a SQL database. And again, this is impressive stuff. It's great that it's so simple and easy to switch to using SQL. We just import this SQLite saver instead, and we're going to write to a memory.db. "
   ]
  },
  {
   "cell_type": "code",
   "execution_count": 20,
   "metadata": {},
   "outputs": [],
   "source": [
    "import sqlite3\n",
    "from langgraph.checkpoint.sqlite import SqliteSaver\n",
    "\n",
    "db_path = \"memory.db\"\n",
    "conn = sqlite3.connect(db_path, check_same_thread=False)\n",
    "sql_memory = SqliteSaver(conn)"
   ]
  },
  {
   "cell_type": "markdown",
   "metadata": {},
   "source": [
    "We connect that way. We come in, and it's just exactly the same code, but we're, of course, putting in the SQL memory instead of the memory before. I mean, it's a different name of a variable, but it's exactly the same approach as we had before. Nothing different there at all. "
   ]
  },
  {
   "cell_type": "code",
   "execution_count": 21,
   "metadata": {},
   "outputs": [
    {
     "data": {
      "image/png": "[encoded data removed]",
      "text/plain": [
       "<IPython.core.display.Image object>"
      ]
     },
     "metadata": {},
     "output_type": "display_data"
    }
   ],
   "source": [
    "# Steps 1 and 2\n",
    "graph_builder = StateGraph(State)\n",
    "\n",
    "\n",
    "# Step 3\n",
    "llm = ChatOpenAI(model=\"gpt-4o-mini\")\n",
    "llm_with_tools = llm.bind_tools(tools)\n",
    "\n",
    "def chatbot(state: State):\n",
    "    print(state)\n",
    "    return {\"messages\": [llm_with_tools.invoke(state[\"messages\"])]}\n",
    "\n",
    "graph_builder.add_node(\"chatbot\", chatbot)\n",
    "graph_builder.add_node(\"tools\", ToolNode(tools=tools))\n",
    "\n",
    "# Step 4\n",
    "graph_builder.add_conditional_edges( \"chatbot\", tools_condition, \"tools\")\n",
    "graph_builder.add_edge(\"tools\", \"chatbot\")\n",
    "graph_builder.add_edge(START, \"chatbot\")\n",
    "\n",
    "# Step 5\n",
    "graph = graph_builder.compile(checkpointer=sql_memory)\n",
    "display(Image(graph.get_graph().draw_mermaid_png()))\n",
    " "
   ]
  },
  {
   "cell_type": "markdown",
   "metadata": {},
   "source": [
    "There we go. I'm going to make the thread ID a different ID because it's in SQL. It's kind of remember from my tests. But then we can come in, and we can say, hi there. And how can I assist you today? What's my name? And I don't have access. My name's Ed. Nice to meet you, Ed. How can I assist you today? All right. So with that, we can now go back here, and this time we can just recreate the whole thing from scratch. It's like I could restart my kernel. "
   ]
  },
  {
   "cell_type": "code",
   "execution_count": 22,
   "metadata": {},
   "outputs": [
    {
     "name": "stdout",
     "output_type": "stream",
     "text": [
      "* Running on local URL:  http://127.0.0.1:7862\n",
      "* To create a public link, set `share=True` in `launch()`.\n"
     ]
    },
    {
     "data": {
      "text/html": [
       "<div><iframe src=\"http://127.0.0.1:7862/\" width=\"100%\" height=\"500\" allow=\"autoplay; camera; microphone; clipboard-read; clipboard-write;\" frameborder=\"0\" allowfullscreen></iframe></div>"
      ],
      "text/plain": [
       "<IPython.core.display.HTML object>"
      ]
     },
     "metadata": {},
     "output_type": "display_data"
    },
    {
     "data": {
      "text/plain": []
     },
     "execution_count": 22,
     "metadata": {},
     "output_type": "execute_result"
    },
    {
     "name": "stdout",
     "output_type": "stream",
     "text": [
      "{'messages': [HumanMessage(content='hi there', additional_kwargs={}, response_metadata={}, id='d6144090-9963-438c-b21b-3fb4f06edbc0'), AIMessage(content='Hello! How can I assist you today?', additional_kwargs={'refusal': None}, response_metadata={'token_usage': {'completion_tokens': 11, 'prompt_tokens': 90, 'total_tokens': 101, 'completion_tokens_details': {'accepted_prediction_tokens': 0, 'audio_tokens': 0, 'reasoning_tokens': 0, 'rejected_prediction_tokens': 0}, 'prompt_tokens_details': {'audio_tokens': 0, 'cached_tokens': 0}}, 'model_name': 'gpt-4o-mini-2024-07-18', 'system_fingerprint': 'fp_b376dfbbd5', 'id': 'chatcmpl-BInN7JUnEYNTQqokCF3eihp5oKP0V', 'finish_reason': 'stop', 'logprobs': None}, id='run-4b488710-73ac-435e-a944-913a0c812d08-0', usage_metadata={'input_tokens': 90, 'output_tokens': 11, 'total_tokens': 101, 'input_token_details': {'audio': 0, 'cache_read': 0}, 'output_token_details': {'audio': 0, 'reasoning': 0}}), HumanMessage(content=\"what's my name\", additional_kwargs={}, response_metadata={}, id='0ee3236f-a0f8-487c-9e18-3a1a83e91d81'), AIMessage(content=\"I don't have access to personal information unless you provide it. What would you like me to call you?\", additional_kwargs={'refusal': None}, response_metadata={'token_usage': {'completion_tokens': 23, 'prompt_tokens': 111, 'total_tokens': 134, 'completion_tokens_details': {'accepted_prediction_tokens': 0, 'audio_tokens': 0, 'reasoning_tokens': 0, 'rejected_prediction_tokens': 0}, 'prompt_tokens_details': {'audio_tokens': 0, 'cached_tokens': 0}}, 'model_name': 'gpt-4o-mini-2024-07-18', 'system_fingerprint': 'fp_b376dfbbd5', 'id': 'chatcmpl-BInNEm0T32rf7Lx23sOvrcePfgL8d', 'finish_reason': 'stop', 'logprobs': None}, id='run-c12bd46c-0c94-475c-b281-89773b1947a2-0', usage_metadata={'input_tokens': 111, 'output_tokens': 23, 'total_tokens': 134, 'input_token_details': {'audio': 0, 'cache_read': 0}, 'output_token_details': {'audio': 0, 'reasoning': 0}}), HumanMessage(content=\"My name's Ed\", additional_kwargs={}, response_metadata={}, id='65e59191-b993-4faf-9699-197f70b79fcd'), AIMessage(content='Nice to meet you, Ed! How can I assist you today?', additional_kwargs={'refusal': None}, response_metadata={'token_usage': {'completion_tokens': 16, 'prompt_tokens': 144, 'total_tokens': 160, 'completion_tokens_details': {'accepted_prediction_tokens': 0, 'audio_tokens': 0, 'reasoning_tokens': 0, 'rejected_prediction_tokens': 0}, 'prompt_tokens_details': {'audio_tokens': 0, 'cached_tokens': 0}}, 'model_name': 'gpt-4o-mini-2024-07-18', 'system_fingerprint': 'fp_b376dfbbd5', 'id': 'chatcmpl-BInNLLW9Z5vrmr2MUfk6CLJBnCMOg', 'finish_reason': 'stop', 'logprobs': None}, id='run-68e08e4e-bc27-4802-b800-8fb359a5d976-0', usage_metadata={'input_tokens': 144, 'output_tokens': 16, 'total_tokens': 160, 'input_token_details': {'audio': 0, 'cache_read': 0}, 'output_token_details': {'audio': 0, 'reasoning': 0}}), HumanMessage(content='hi there', additional_kwargs={}, response_metadata={}, id='dfeeb914-53d6-404f-9a5c-0531f1fe43fe'), AIMessage(content='Hello again, Ed! How can I help you today?', additional_kwargs={'refusal': None}, response_metadata={'token_usage': {'completion_tokens': 14, 'prompt_tokens': 168, 'total_tokens': 182, 'completion_tokens_details': {'accepted_prediction_tokens': 0, 'audio_tokens': 0, 'reasoning_tokens': 0, 'rejected_prediction_tokens': 0}, 'prompt_tokens_details': {'audio_tokens': 0, 'cached_tokens': 0}}, 'model_name': 'gpt-4o-mini-2024-07-18', 'system_fingerprint': 'fp_b376dfbbd5', 'id': 'chatcmpl-BInOS7TKECQA9Trbcv3mBsxkVJ8c3', 'finish_reason': 'stop', 'logprobs': None}, id='run-8b9e7d2c-d34d-4d84-99d2-dcb6b26b84bf-0', usage_metadata={'input_tokens': 168, 'output_tokens': 14, 'total_tokens': 182, 'input_token_details': {'audio': 0, 'cache_read': 0}, 'output_token_details': {'audio': 0, 'reasoning': 0}}), HumanMessage(content='please send me a push notification with the current usd/gbp exchange rate', additional_kwargs={}, response_metadata={}, id='6e096518-8d44-40e9-8aba-bf5027dac79c'), AIMessage(content='', additional_kwargs={'tool_calls': [{'id': 'call_mFP2QpmSUYlvqjz3HBvRv0Cv', 'function': {'arguments': '{\"__arg1\":\"current USD to GBP exchange rate\"}', 'name': 'search'}, 'type': 'function'}], 'refusal': None}, response_metadata={'token_usage': {'completion_tokens': 21, 'prompt_tokens': 203, 'total_tokens': 224, 'completion_tokens_details': {'accepted_prediction_tokens': 0, 'audio_tokens': 0, 'reasoning_tokens': 0, 'rejected_prediction_tokens': 0}, 'prompt_tokens_details': {'audio_tokens': 0, 'cached_tokens': 0}}, 'model_name': 'gpt-4o-mini-2024-07-18', 'system_fingerprint': 'fp_b376dfbbd5', 'id': 'chatcmpl-BInShCTgCsggydsrv3MmpIXLyvzGF', 'finish_reason': 'tool_calls', 'logprobs': None}, id='run-1bc3e47d-30c5-40f4-a9da-42dd24e74732-0', tool_calls=[{'name': 'search', 'args': {'__arg1': 'current USD to GBP exchange rate'}, 'id': 'call_mFP2QpmSUYlvqjz3HBvRv0Cv', 'type': 'tool_call'}], usage_metadata={'input_tokens': 203, 'output_tokens': 21, 'total_tokens': 224, 'input_token_details': {'audio': 0, 'cache_read': 0}, 'output_token_details': {'audio': 0, 'reasoning': 0}}), ToolMessage(content='0.78 Pound sterling', name='search', id='04044643-e40a-4bda-a03c-bc80949d039c', tool_call_id='call_mFP2QpmSUYlvqjz3HBvRv0Cv'), AIMessage(content='', additional_kwargs={'tool_calls': [{'id': 'call_2RByu6cFdwow5BWX8eblN402', 'function': {'arguments': '{\"__arg1\":\"The current USD/GBP exchange rate is 0.78.\"}', 'name': 'send_push_notification'}, 'type': 'function'}], 'refusal': None}, response_metadata={'token_usage': {'completion_tokens': 30, 'prompt_tokens': 235, 'total_tokens': 265, 'completion_tokens_details': {'accepted_prediction_tokens': 0, 'audio_tokens': 0, 'reasoning_tokens': 0, 'rejected_prediction_tokens': 0}, 'prompt_tokens_details': {'audio_tokens': 0, 'cached_tokens': 0}}, 'model_name': 'gpt-4o-mini-2024-07-18', 'system_fingerprint': 'fp_b376dfbbd5', 'id': 'chatcmpl-BInSjgdmKJqByJ2VIxpCZE5vEQpep', 'finish_reason': 'tool_calls', 'logprobs': None}, id='run-030db0cd-4acc-4354-aa65-ae772d33be07-0', tool_calls=[{'name': 'send_push_notification', 'args': {'__arg1': 'The current USD/GBP exchange rate is 0.78.'}, 'id': 'call_2RByu6cFdwow5BWX8eblN402', 'type': 'tool_call'}], usage_metadata={'input_tokens': 235, 'output_tokens': 30, 'total_tokens': 265, 'input_token_details': {'audio': 0, 'cache_read': 0}, 'output_token_details': {'audio': 0, 'reasoning': 0}}), ToolMessage(content='null', name='send_push_notification', id='f16f6e9d-2d0e-4aca-991f-0d9fe7064574', tool_call_id='call_2RByu6cFdwow5BWX8eblN402'), AIMessage(content=\"I've sent you a push notification with the current USD/GBP exchange rate: 0.78. If you need anything else, just let me know!\", additional_kwargs={'refusal': None}, response_metadata={'token_usage': {'completion_tokens': 33, 'prompt_tokens': 274, 'total_tokens': 307, 'completion_tokens_details': {'accepted_prediction_tokens': 0, 'audio_tokens': 0, 'reasoning_tokens': 0, 'rejected_prediction_tokens': 0}, 'prompt_tokens_details': {'audio_tokens': 0, 'cached_tokens': 0}}, 'model_name': 'gpt-4o-mini-2024-07-18', 'system_fingerprint': 'fp_b376dfbbd5', 'id': 'chatcmpl-BInSk4W7o3wDEZhzLtixtWOVgEw4Y', 'finish_reason': 'stop', 'logprobs': None}, id='run-bc27a847-b5bf-4565-85af-8e3163f2c271-0', usage_metadata={'input_tokens': 274, 'output_tokens': 33, 'total_tokens': 307, 'input_token_details': {'audio': 0, 'cache_read': 0}, 'output_token_details': {'audio': 0, 'reasoning': 0}}), HumanMessage(content='can you send that push notification again please', additional_kwargs={}, response_metadata={}, id='328adc3d-8c39-4312-952c-3d3b87d5f736'), AIMessage(content='', additional_kwargs={'tool_calls': [{'id': 'call_9xFtRNwSPl00BBRdY3VGdZ9Y', 'function': {'arguments': '{\"__arg1\":\"The current USD/GBP exchange rate is 0.78.\"}', 'name': 'send_push_notification'}, 'type': 'function'}], 'refusal': None}, response_metadata={'token_usage': {'completion_tokens': 30, 'prompt_tokens': 321, 'total_tokens': 351, 'completion_tokens_details': {'accepted_prediction_tokens': 0, 'audio_tokens': 0, 'reasoning_tokens': 0, 'rejected_prediction_tokens': 0}, 'prompt_tokens_details': {'audio_tokens': 0, 'cached_tokens': 0}}, 'model_name': 'gpt-4o-mini-2024-07-18', 'system_fingerprint': 'fp_b376dfbbd5', 'id': 'chatcmpl-BInTHUIOvZ0DAwfqnVlb1SRlaKHmH', 'finish_reason': 'tool_calls', 'logprobs': None}, id='run-a2225381-34da-44b4-9e8d-45a0b8c29693-0', tool_calls=[{'name': 'send_push_notification', 'args': {'__arg1': 'The current USD/GBP exchange rate is 0.78.'}, 'id': 'call_9xFtRNwSPl00BBRdY3VGdZ9Y', 'type': 'tool_call'}], usage_metadata={'input_tokens': 321, 'output_tokens': 30, 'total_tokens': 351, 'input_token_details': {'audio': 0, 'cache_read': 0}, 'output_token_details': {'audio': 0, 'reasoning': 0}}), ToolMessage(content='null', name='send_push_notification', id='433985ee-9eeb-4b4b-866e-23cfc0f8e9fb', tool_call_id='call_9xFtRNwSPl00BBRdY3VGdZ9Y'), AIMessage(content=\"I've sent the push notification again with the current USD/GBP exchange rate: 0.78. If there's anything else you need, feel free to ask!\", additional_kwargs={'refusal': None}, response_metadata={'token_usage': {'completion_tokens': 34, 'prompt_tokens': 360, 'total_tokens': 394, 'completion_tokens_details': {'accepted_prediction_tokens': 0, 'audio_tokens': 0, 'reasoning_tokens': 0, 'rejected_prediction_tokens': 0}, 'prompt_tokens_details': {'audio_tokens': 0, 'cached_tokens': 0}}, 'model_name': 'gpt-4o-mini-2024-07-18', 'system_fingerprint': 'fp_b376dfbbd5', 'id': 'chatcmpl-BInTJ24F3iaC2JFCLGFb715HxeWU9', 'finish_reason': 'stop', 'logprobs': None}, id='run-eda57a8e-26a4-4aed-a3c6-ce404e2d5cfa-0', usage_metadata={'input_tokens': 360, 'output_tokens': 34, 'total_tokens': 394, 'input_token_details': {'audio': 0, 'cache_read': 0}, 'output_token_details': {'audio': 0, 'reasoning': 0}}), HumanMessage(content='hola', additional_kwargs={}, response_metadata={}, id='72835b9d-8cab-4b2a-992a-9b41b002d64d'), AIMessage(content='¡Hola! ¿Cómo puedo ayudarte hoy?', additional_kwargs={'refusal': None}, response_metadata={'token_usage': {'completion_tokens': 10, 'prompt_tokens': 401, 'total_tokens': 411, 'completion_tokens_details': {'accepted_prediction_tokens': 0, 'audio_tokens': 0, 'reasoning_tokens': 0, 'rejected_prediction_tokens': 0}, 'prompt_tokens_details': {'audio_tokens': 0, 'cached_tokens': 0}}, 'model_name': 'gpt-4o-mini-2024-07-18', 'system_fingerprint': 'fp_34a54ae93c', 'id': 'chatcmpl-BxAD6m2MgoeIuNYNhNnys7BY3ivp0', 'service_tier': 'default', 'finish_reason': 'stop', 'logprobs': None}, id='run--c0baa8ed-4567-4664-b359-c642a948fda2-0', usage_metadata={'input_tokens': 401, 'output_tokens': 10, 'total_tokens': 411, 'input_token_details': {'audio': 0, 'cache_read': 0}, 'output_token_details': {'audio': 0, 'reasoning': 0}}), HumanMessage(content='Dame el rpecio de la cotizacion EUR/US', additional_kwargs={}, response_metadata={}, id='6c53f719-2b96-4041-a93c-251634e7751d'), AIMessage(content='', additional_kwargs={'tool_calls': [{'id': 'call_8E0P5TNUPhHfl9kG1sQcXuKl', 'function': {'arguments': '{\"__arg1\":\"current EUR to USD exchange rate\"}', 'name': 'search'}, 'type': 'function'}], 'refusal': None}, response_metadata={'token_usage': {'completion_tokens': 20, 'prompt_tokens': 431, 'total_tokens': 451, 'completion_tokens_details': {'accepted_prediction_tokens': 0, 'audio_tokens': 0, 'reasoning_tokens': 0, 'rejected_prediction_tokens': 0}, 'prompt_tokens_details': {'audio_tokens': 0, 'cached_tokens': 0}}, 'model_name': 'gpt-4o-mini-2024-07-18', 'system_fingerprint': 'fp_34a54ae93c', 'id': 'chatcmpl-BxADxaMvPgFQnHc4RmKrQXKAKB1BC', 'service_tier': 'default', 'finish_reason': 'tool_calls', 'logprobs': None}, id='run--3c4f5aac-1ee9-40f2-aa93-b0edc115b12a-0', tool_calls=[{'name': 'search', 'args': {'__arg1': 'current EUR to USD exchange rate'}, 'id': 'call_8E0P5TNUPhHfl9kG1sQcXuKl', 'type': 'tool_call'}], usage_metadata={'input_tokens': 431, 'output_tokens': 20, 'total_tokens': 451, 'input_token_details': {'audio': 0, 'cache_read': 0}, 'output_token_details': {'audio': 0, 'reasoning': 0}}), ToolMessage(content='1.17 United States Dollar', name='search', id='778ae27f-1cd0-4c91-9c3f-b2affbce0228', tool_call_id='call_8E0P5TNUPhHfl9kG1sQcXuKl'), AIMessage(content='', additional_kwargs={'tool_calls': [{'id': 'call_GU6pZ7ltlXWbJ2tDtBAFVX30', 'function': {'arguments': '{\"__arg1\":\"La cotización actual de EUR/USD es 1.17.\"}', 'name': 'send_push_notification'}, 'type': 'function'}], 'refusal': None}, response_metadata={'token_usage': {'completion_tokens': 29, 'prompt_tokens': 464, 'total_tokens': 493, 'completion_tokens_details': {'accepted_prediction_tokens': 0, 'audio_tokens': 0, 'reasoning_tokens': 0, 'rejected_prediction_tokens': 0}, 'prompt_tokens_details': {'audio_tokens': 0, 'cached_tokens': 0}}, 'model_name': 'gpt-4o-mini-2024-07-18', 'system_fingerprint': 'fp_34a54ae93c', 'id': 'chatcmpl-BxAE09Y55UmzqXvcYgsNagozad0rv', 'service_tier': 'default', 'finish_reason': 'tool_calls', 'logprobs': None}, id='run--732188a8-52b9-4f02-8e4c-14372c1b14a0-0', tool_calls=[{'name': 'send_push_notification', 'args': {'__arg1': 'La cotización actual de EUR/USD es 1.17.'}, 'id': 'call_GU6pZ7ltlXWbJ2tDtBAFVX30', 'type': 'tool_call'}], usage_metadata={'input_tokens': 464, 'output_tokens': 29, 'total_tokens': 493, 'input_token_details': {'audio': 0, 'cache_read': 0}, 'output_token_details': {'audio': 0, 'reasoning': 0}}), ToolMessage(content='null', name='send_push_notification', id='8ec9b5b1-977f-4631-9169-11588e827cea', tool_call_id='call_GU6pZ7ltlXWbJ2tDtBAFVX30'), AIMessage(content='La cotización actual de EUR/USD es 1.17. He enviado esta información como una notificación. Si necesitas algo más, ¡házmelo saber!', additional_kwargs={'refusal': None}, response_metadata={'token_usage': {'completion_tokens': 35, 'prompt_tokens': 503, 'total_tokens': 538, 'completion_tokens_details': {'accepted_prediction_tokens': 0, 'audio_tokens': 0, 'reasoning_tokens': 0, 'rejected_prediction_tokens': 0}, 'prompt_tokens_details': {'audio_tokens': 0, 'cached_tokens': 0}}, 'model_name': 'gpt-4o-mini-2024-07-18', 'system_fingerprint': 'fp_34a54ae93c', 'id': 'chatcmpl-BxAE3mxvs885sXqeVjJnxOeJSXkRV', 'service_tier': 'default', 'finish_reason': 'stop', 'logprobs': None}, id='run--d386e969-9396-49f8-a45e-e8741f0b1fc8-0', usage_metadata={'input_tokens': 503, 'output_tokens': 35, 'total_tokens': 538, 'input_token_details': {'audio': 0, 'cache_read': 0}, 'output_token_details': {'audio': 0, 'reasoning': 0}}), HumanMessage(content='Hi there!', additional_kwargs={}, response_metadata={}, id='41836a52-f54c-4b56-98f2-eaf2b8041f8c'), AIMessage(content='Hello again! How can I assist you today?', additional_kwargs={'refusal': None}, response_metadata={'token_usage': {'completion_tokens': 11, 'prompt_tokens': 548, 'total_tokens': 559, 'completion_tokens_details': {'accepted_prediction_tokens': 0, 'audio_tokens': 0, 'reasoning_tokens': 0, 'rejected_prediction_tokens': 0}, 'prompt_tokens_details': {'audio_tokens': 0, 'cached_tokens': 0}}, 'model_name': 'gpt-4o-mini-2024-07-18', 'system_fingerprint': 'fp_34a54ae93c', 'id': 'chatcmpl-Bxb7GvofRO6mJtXfddEWxA2XIsJeR', 'service_tier': 'default', 'finish_reason': 'stop', 'logprobs': None}, id='run--36dffaab-e7de-438b-a203-3ff60f258123-0', usage_metadata={'input_tokens': 548, 'output_tokens': 11, 'total_tokens': 559, 'input_token_details': {'audio': 0, 'cache_read': 0}, 'output_token_details': {'audio': 0, 'reasoning': 0}}), HumanMessage(content='What´s my name?', additional_kwargs={}, response_metadata={}, id='679e5413-238b-40f1-8ac8-f3e2e60c5f20'), AIMessage(content='Your name is Ed. How can I help you today, Ed?', additional_kwargs={'refusal': None}, response_metadata={'token_usage': {'completion_tokens': 15, 'prompt_tokens': 571, 'total_tokens': 586, 'completion_tokens_details': {'accepted_prediction_tokens': 0, 'audio_tokens': 0, 'reasoning_tokens': 0, 'rejected_prediction_tokens': 0}, 'prompt_tokens_details': {'audio_tokens': 0, 'cached_tokens': 0}}, 'model_name': 'gpt-4o-mini-2024-07-18', 'system_fingerprint': 'fp_34a54ae93c', 'id': 'chatcmpl-Bxb7S5jmlbmjhLXZcb4nLUkStjR0s', 'service_tier': 'default', 'finish_reason': 'stop', 'logprobs': None}, id='run--3912826b-a7c5-40dc-b4c2-3be086feda60-0', usage_metadata={'input_tokens': 571, 'output_tokens': 15, 'total_tokens': 586, 'input_token_details': {'audio': 0, 'cache_read': 0}, 'output_token_details': {'audio': 0, 'reasoning': 0}}), HumanMessage(content='My name is Alex', additional_kwargs={}, response_metadata={}, id='45811e82-dc55-4ee5-9fa9-4eb71c9c3db8'), AIMessage(content='Got it, Alex! How can I assist you today?', additional_kwargs={'refusal': None}, response_metadata={'token_usage': {'completion_tokens': 13, 'prompt_tokens': 597, 'total_tokens': 610, 'completion_tokens_details': {'accepted_prediction_tokens': 0, 'audio_tokens': 0, 'reasoning_tokens': 0, 'rejected_prediction_tokens': 0}, 'prompt_tokens_details': {'audio_tokens': 0, 'cached_tokens': 0}}, 'model_name': 'gpt-4o-mini-2024-07-18', 'system_fingerprint': 'fp_34a54ae93c', 'id': 'chatcmpl-Bxb7wL0zoRocDaNqShuGPp0XRDFet', 'service_tier': 'default', 'finish_reason': 'stop', 'logprobs': None}, id='run--ac49c123-1546-400d-8ba9-68186a292734-0', usage_metadata={'input_tokens': 597, 'output_tokens': 13, 'total_tokens': 610, 'input_token_details': {'audio': 0, 'cache_read': 0}, 'output_token_details': {'audio': 0, 'reasoning': 0}}), HumanMessage(content='Hi tehre!', additional_kwargs={}, response_metadata={}, id='3242570a-1c39-42f2-9836-1e24c1e9b718'), AIMessage(content='Hello, Alex! What can I do for you today?', additional_kwargs={'refusal': None}, response_metadata={'token_usage': {'completion_tokens': 13, 'prompt_tokens': 621, 'total_tokens': 634, 'completion_tokens_details': {'accepted_prediction_tokens': 0, 'audio_tokens': 0, 'reasoning_tokens': 0, 'rejected_prediction_tokens': 0}, 'prompt_tokens_details': {'audio_tokens': 0, 'cached_tokens': 0}}, 'model_name': 'gpt-4o-mini-2024-07-18', 'system_fingerprint': 'fp_34a54ae93c', 'id': 'chatcmpl-Bxb8m9XZEZ1b6GdZz8nz9wGtf7Ss4', 'service_tier': 'default', 'finish_reason': 'stop', 'logprobs': None}, id='run--498dc1fa-a330-4cc9-901f-aeecec41cbc7-0', usage_metadata={'input_tokens': 621, 'output_tokens': 13, 'total_tokens': 634, 'input_token_details': {'audio': 0, 'cache_read': 0}, 'output_token_details': {'audio': 0, 'reasoning': 0}}), HumanMessage(content='please send my a push notifications current price EUR/USD exchange', additional_kwargs={}, response_metadata={}, id='39ba6d49-31a9-4ed1-87fd-2336ae3cb637'), HumanMessage(content='Have you a problem?', additional_kwargs={}, response_metadata={}, id='11597c8a-7083-4fd6-9d72-08f902947116'), AIMessage(content='', additional_kwargs={'tool_calls': [{'id': 'call_18D15L0TXN37X8FnIadnZB7g', 'function': {'arguments': '{\"__arg1\":\"current EUR to USD exchange rate\"}', 'name': 'search'}, 'type': 'function'}], 'refusal': None}, response_metadata={'token_usage': {'completion_tokens': 20, 'prompt_tokens': 661, 'total_tokens': 681, 'completion_tokens_details': {'accepted_prediction_tokens': 0, 'audio_tokens': 0, 'reasoning_tokens': 0, 'rejected_prediction_tokens': 0}, 'prompt_tokens_details': {'audio_tokens': 0, 'cached_tokens': 0}}, 'model_name': 'gpt-4o-mini-2024-07-18', 'system_fingerprint': 'fp_34a54ae93c', 'id': 'chatcmpl-BxbAVjdzq37tERjYNHgbxFQpMEqPp', 'service_tier': 'default', 'finish_reason': 'tool_calls', 'logprobs': None}, id='run--32dced35-2bfb-4f68-8247-1c980d65b64a-0', tool_calls=[{'name': 'search', 'args': {'__arg1': 'current EUR to USD exchange rate'}, 'id': 'call_18D15L0TXN37X8FnIadnZB7g', 'type': 'tool_call'}], usage_metadata={'input_tokens': 661, 'output_tokens': 20, 'total_tokens': 681, 'input_token_details': {'audio': 0, 'cache_read': 0}, 'output_token_details': {'audio': 0, 'reasoning': 0}}), ToolMessage(content='EUR-USD X-RATE. Following Follow Follow. EURUSD:CUR. Following Follow Follow. (USD). 1.1742. 0.00–0.06%. As of 12:00 AM EDT 07/25/25 . Summary. Related News. Get the latest 1 Euro to US Dollar rate for FREE with the original Universal Currency Converter. Set rate alerts for EUR to USD and learn more about Euros ... EUR to USD exchange rates today ; 1 EUR, 1.17 USD ; 5 EUR, 5.87 USD ; 10 EUR, 11.74 USD ; 20 EUR, 23.48 USD. No information is available for this page. · Learn why Find the latest EUR/USD (EURUSD=X) currency exchange rate, plus historical data, charts, relevant news and more. US dollar (USD). ECB euro reference exchange rate. 25 July 2025. EUR 1 = USD 1.1724 -0.0032(-0.3%). Change from 25 July 2024 to 25 July 2025. Min (13 January ... The exchange rate for Euro to US dollars is currently 1.174 today, reflecting a -0.089% change since yesterday. Over the past week, the value of Euro has ... The current rate of EURUSD is 1.17408 USD — it has decreased by −0.07% in the past 24 hours. See more of EURUSD rate dynamics on the detailed chart. EUR/USD - Euro US Dollar ; Open. 1.1749 ; Ask: 1.1743 ; 52 wk Range: 1.0146-1.1831 ; 1-Year Change. 8.28% ; Type:Currency. usd. US Dollar. 1 EUR equals to. 1.17472 USD. +0.0118 (1.01%) ; gbp. British Pound. 1 EUR equals to. 0.874309 GBP. +0.0070 (0.80%) ; jpy. Japanese Yen. 1 EUR ...', name='search', id='40c41b69-2ea1-4e52-9045-09dc24ebd7b1', tool_call_id='call_18D15L0TXN37X8FnIadnZB7g'), AIMessage(content='', additional_kwargs={'tool_calls': [{'id': 'call_CZfBcYQPGkR2yEXLHNsuhLzw', 'function': {'arguments': '{\"__arg1\":\"The current EUR/USD exchange rate is 1.174.\"}', 'name': 'send_push_notification'}, 'type': 'function'}], 'refusal': None}, response_metadata={'token_usage': {'completion_tokens': 28, 'prompt_tokens': 1123, 'total_tokens': 1151, 'completion_tokens_details': {'accepted_prediction_tokens': 0, 'audio_tokens': 0, 'reasoning_tokens': 0, 'rejected_prediction_tokens': 0}, 'prompt_tokens_details': {'audio_tokens': 0, 'cached_tokens': 0}}, 'model_name': 'gpt-4o-mini-2024-07-18', 'system_fingerprint': 'fp_34a54ae93c', 'id': 'chatcmpl-BxbAYz2bgN6xiEWoqWCXiwao3rZg8', 'service_tier': 'default', 'finish_reason': 'tool_calls', 'logprobs': None}, id='run--0b46b8f3-b00c-4ba4-bef3-4a696f0918d6-0', tool_calls=[{'name': 'send_push_notification', 'args': {'__arg1': 'The current EUR/USD exchange rate is 1.174.'}, 'id': 'call_CZfBcYQPGkR2yEXLHNsuhLzw', 'type': 'tool_call'}], usage_metadata={'input_tokens': 1123, 'output_tokens': 28, 'total_tokens': 1151, 'input_token_details': {'audio': 0, 'cache_read': 0}, 'output_token_details': {'audio': 0, 'reasoning': 0}}), ToolMessage(content='null', name='send_push_notification', id='da049ea6-f3bb-4d78-879f-ff2057657d7f', tool_call_id='call_CZfBcYQPGkR2yEXLHNsuhLzw'), AIMessage(content=\"I've sent you a push notification with the current EUR/USD exchange rate: 1.174. If there's anything else you need, just let me know!\", additional_kwargs={'refusal': None}, response_metadata={'token_usage': {'completion_tokens': 32, 'prompt_tokens': 1161, 'total_tokens': 1193, 'completion_tokens_details': {'accepted_prediction_tokens': 0, 'audio_tokens': 0, 'reasoning_tokens': 0, 'rejected_prediction_tokens': 0}, 'prompt_tokens_details': {'audio_tokens': 0, 'cached_tokens': 1024}}, 'model_name': 'gpt-4o-mini-2024-07-18', 'system_fingerprint': 'fp_34a54ae93c', 'id': 'chatcmpl-BxbAZONGWagyA401R1Q9emc7AoZfZ', 'service_tier': 'default', 'finish_reason': 'stop', 'logprobs': None}, id='run--289a7da7-f1e7-4423-b395-9a820cb1e298-0', usage_metadata={'input_tokens': 1161, 'output_tokens': 32, 'total_tokens': 1193, 'input_token_details': {'audio': 0, 'cache_read': 1024}, 'output_token_details': {'audio': 0, 'reasoning': 0}}), HumanMessage(content='My name is Alex', additional_kwargs={}, response_metadata={}, id='d8eeca37-1281-491e-944b-33fb6d1417b8'), AIMessage(content='Understood, Alex! If you have any questions or need assistance, just let me know!', additional_kwargs={'refusal': None}, response_metadata={'token_usage': {'completion_tokens': 20, 'prompt_tokens': 1204, 'total_tokens': 1224, 'completion_tokens_details': {'accepted_prediction_tokens': 0, 'audio_tokens': 0, 'reasoning_tokens': 0, 'rejected_prediction_tokens': 0}, 'prompt_tokens_details': {'audio_tokens': 0, 'cached_tokens': 0}}, 'model_name': 'gpt-4o-mini-2024-07-18', 'system_fingerprint': 'fp_34a54ae93c', 'id': 'chatcmpl-BxbIB12bYYYkv97FKWCh1YLWnxBXA', 'service_tier': 'default', 'finish_reason': 'stop', 'logprobs': None}, id='run--cb411096-625e-4bb8-a8a2-06bd8d54198b-0', usage_metadata={'input_tokens': 1204, 'output_tokens': 20, 'total_tokens': 1224, 'input_token_details': {'audio': 0, 'cache_read': 0}, 'output_token_details': {'audio': 0, 'reasoning': 0}}), HumanMessage(content='What´s my name?', additional_kwargs={}, response_metadata={}, id='84df60cc-20a2-41f8-9c5e-f5369816be50')]}\n"
     ]
    },
    {
     "ename": "",
     "evalue": "",
     "output_type": "error",
     "traceback": [
      "\u001b[1;31mThe Kernel crashed while executing code in the current cell or a previous cell. \n",
      "\u001b[1;31mPlease review the code in the cell(s) to identify a possible cause of the failure. \n",
      "\u001b[1;31mClick <a href='https://aka.ms/vscodeJupyterKernelCrash'>here</a> for more info. \n",
      "\u001b[1;31mView Jupyter <a href='command:jupyter.viewOutput'>log</a> for further details."
     ]
    }
   ],
   "source": [
    "config = {\"configurable\": {\"thread_id\": \"3\"}}\n",
    "\n",
    "def chat(user_input: str, history):\n",
    "    result = graph.invoke({\"messages\": [{\"role\": \"user\", \"content\": user_input}]}, config=config)\n",
    "    return result[\"messages\"][-1].content\n",
    "\n",
    "\n",
    "gr.ChatInterface(chat, type=\"messages\").launch()"
   ]
  },
  {
   "cell_type": "markdown",
   "metadata": {},
   "source": [
    "![](../img/47.png)\n",
    "\n",
    "I should restart my kernel. Why don't I do that? You'll have to bear with me. We will restart kernel, clear all outputs. We'll go all the way back up to the top, run our imports. We will load the .env. I guess I should load in the tools again because we're going to use these. Do this. Do this. Get the pushover. Message me. My phone's on silent. Bring them together. Get our state object because we reused that at various points. And now from this point onwards, I think now we can now go back here. So we're completely fresh. So now we're going to recreate this. We are going to rebuild our graph builder. There it is. And here we go. And hi there. Hello again, Alex. \n",
    "\n",
    "There you have it. Restart the kernel, completely bring everything fresh, and, of course, it knows who I am, and it knows that because you can see right here in this directory, there's a bunch of database objects. It's storing it in a SQLite database, and so we have persistent memory with changing, like, one word from my code, and I think that is really impressive. And I realize just before we close this, I should also show that the tools are working and in action, so after saying this, let's do the same thing. Please send me a push notification with the current USD2BP exchange rate. Let's let it do its thing. Off it goes, and I just got a push notification, and it says 0.78. There we go. \n",
    "\n",
    "![](../img/50.png)\n",
    "\n",
    "So, success. I think maybe... What if I say that I can... I'm trying to think about how we can use memory as well. Can you send that push notification again, please? Let's try that. There we go. I got another push notification with the same thing. So there, I had to think for a moment. There's a demonstration of both memory and tool calling in one shot with the right answer. Success. And you can see the various calls happening down there. So that, then, is a wrap on this, and it might be nice for us just to... Okay. To bring that up in Langsmith just to see those calls. And so here we are in Langsmith looking at that most recent request, and it's good to see that, as I was hoping to see, it did use the tool to send the push notification. It didn't bother doing the search again because it had that in its memory, and you can see at the bottom here that it sends that push notification, and it then confirms back there that it did it, just as we saw in the chat, and you can see all of the history that it's got up above it. So you can see in Langsmith that, true to its word, everything is working. The memory is working. The tool call is working, and it knew that it already knew the exchange rate. So I'd say that that is a success. And to wrap up, let me show you one more time this great picture, which now, I hope, lands nicely with you. We define our graph. We've run each super step with each interaction, and these red lines are showing the checkpointing that's happening so that we can resume at any point. We can replay the state as it was then. We can time travel back, and we can persist this in a database so that it maintains knowledge of the conversation, and it's keyed up this thread ID. And with that, that concludes day three, and it was a meaty day. We covered a lot of ground, and I hope that you're building some of the same enthusiasm that I'm growing as we get into this for Landgraft and seeing the strengths, seeing how resilient, how robust it is, and this discipline that it puts around the process. But that's enough of the learning and the concepts. Next time, we launch into our project, a project called Sidekick, and it's a really great one. I can't wait to show it to you. See you then.\n",
    "\n",
    "![](../img/48.png)"
   ]
  }
 ],
 "metadata": {
  "kernelspec": {
   "display_name": "agents_env",
   "language": "python",
   "name": "python3"
  },
  "language_info": {
   "codemirror_mode": {
    "name": "ipython",
    "version": 3
   },
   "file_extension": ".py",
   "mimetype": "text/x-python",
   "name": "python",
   "nbconvert_exporter": "python",
   "pygments_lexer": "ipython3",
   "version": "3.12.11"
  }
 },
 "nbformat": 4,
 "nbformat_minor": 2
}
